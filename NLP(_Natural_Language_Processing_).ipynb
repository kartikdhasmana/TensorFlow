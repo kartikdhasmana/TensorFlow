{
  "nbformat": 4,
  "nbformat_minor": 0,
  "metadata": {
    "colab": {
      "provenance": [],
      "gpuType": "T4",
      "toc_visible": true
    },
    "kernelspec": {
      "name": "python3",
      "display_name": "Python 3"
    },
    "language_info": {
      "name": "python"
    },
    "accelerator": "GPU"
  },
  "cells": [
    {
      "cell_type": "code",
      "execution_count": 17,
      "metadata": {
        "colab": {
          "base_uri": "https://localhost:8080/"
        },
        "id": "FNSd2idiMAep",
        "outputId": "0a4561e8-ea65-4ec0-c4ea-7234d62611e8"
      },
      "outputs": [
        {
          "output_type": "stream",
          "name": "stdout",
          "text": [
            "--2024-08-27 03:55:50--  https://raw.githubusercontent.com/mrdbourke/tensorflow-deep-learning/main/extras/helper_functions.py\n",
            "Resolving raw.githubusercontent.com (raw.githubusercontent.com)... 185.199.108.133, 185.199.109.133, 185.199.110.133, ...\n",
            "Connecting to raw.githubusercontent.com (raw.githubusercontent.com)|185.199.108.133|:443... connected.\n",
            "HTTP request sent, awaiting response... 200 OK\n",
            "Length: 10246 (10K) [text/plain]\n",
            "Saving to: ‘helper_functions.py’\n",
            "\n",
            "\rhelper_functions.py   0%[                    ]       0  --.-KB/s               \rhelper_functions.py 100%[===================>]  10.01K  --.-KB/s    in 0s      \n",
            "\n",
            "2024-08-27 03:55:50 (100 MB/s) - ‘helper_functions.py’ saved [10246/10246]\n",
            "\n"
          ]
        }
      ],
      "source": [
        " # importing helper functions\n",
        " !wget https://raw.githubusercontent.com/mrdbourke/tensorflow-deep-learning/main/extras/helper_functions.py"
      ]
    },
    {
      "cell_type": "code",
      "source": [
        "from helper_functions import unzip_data, create_tensorboard_callback, plot_loss_curves, compare_historys,calculate_results"
      ],
      "metadata": {
        "id": "WVMElQbKi9_m"
      },
      "execution_count": 18,
      "outputs": []
    },
    {
      "cell_type": "code",
      "source": [
        "# import data and unzipping it\n",
        "!wget https://storage.googleapis.com/ztm_tf_course/nlp_getting_started.zip\n",
        "unzip_data(\"nlp_getting_started.zip\")"
      ],
      "metadata": {
        "colab": {
          "base_uri": "https://localhost:8080/"
        },
        "id": "Xbu_paqMjG7H",
        "outputId": "1db055b6-a1da-4486-abea-00ab213ea424"
      },
      "execution_count": 19,
      "outputs": [
        {
          "output_type": "stream",
          "name": "stdout",
          "text": [
            "--2024-08-27 03:55:52--  https://storage.googleapis.com/ztm_tf_course/nlp_getting_started.zip\n",
            "Resolving storage.googleapis.com (storage.googleapis.com)... 142.250.141.207, 74.125.137.207, 142.250.101.207, ...\n",
            "Connecting to storage.googleapis.com (storage.googleapis.com)|142.250.141.207|:443... connected.\n",
            "HTTP request sent, awaiting response... 200 OK\n",
            "Length: 607343 (593K) [application/zip]\n",
            "Saving to: ‘nlp_getting_started.zip’\n",
            "\n",
            "\rnlp_getting_started   0%[                    ]       0  --.-KB/s               \rnlp_getting_started 100%[===================>] 593.11K  --.-KB/s    in 0.005s  \n",
            "\n",
            "2024-08-27 03:55:52 (124 MB/s) - ‘nlp_getting_started.zip’ saved [607343/607343]\n",
            "\n"
          ]
        }
      ]
    },
    {
      "cell_type": "markdown",
      "source": [
        "# **Becoming one with the data and Visualizing it**"
      ],
      "metadata": {
        "id": "j7uCcODwkf2J"
      }
    },
    {
      "cell_type": "code",
      "source": [
        "# for visualizing csv file we need pandas\n",
        "import pandas as pd\n",
        "train_df=pd.read_csv(\"train.csv\")\n",
        "test_df=pd.read_csv(\"test.csv\")\n",
        "train_df.head()"
      ],
      "metadata": {
        "colab": {
          "base_uri": "https://localhost:8080/",
          "height": 223
        },
        "id": "GVmg2VFikBC8",
        "outputId": "705e5caf-6b27-4e26-a0b7-0d3d82f872ce"
      },
      "execution_count": 20,
      "outputs": [
        {
          "output_type": "execute_result",
          "data": {
            "text/plain": [
              "   id keyword location                                               text  \\\n",
              "0   1     NaN      NaN  Our Deeds are the Reason of this #earthquake M...   \n",
              "1   4     NaN      NaN             Forest fire near La Ronge Sask. Canada   \n",
              "2   5     NaN      NaN  All residents asked to 'shelter in place' are ...   \n",
              "3   6     NaN      NaN  13,000 people receive #wildfires evacuation or...   \n",
              "4   7     NaN      NaN  Just got sent this photo from Ruby #Alaska as ...   \n",
              "\n",
              "   target  \n",
              "0       1  \n",
              "1       1  \n",
              "2       1  \n",
              "3       1  \n",
              "4       1  "
            ],
            "text/html": [
              "\n",
              "  <div id=\"df-ebc6fb75-e56d-442c-b627-4188badb40de\" class=\"colab-df-container\">\n",
              "    <div>\n",
              "<style scoped>\n",
              "    .dataframe tbody tr th:only-of-type {\n",
              "        vertical-align: middle;\n",
              "    }\n",
              "\n",
              "    .dataframe tbody tr th {\n",
              "        vertical-align: top;\n",
              "    }\n",
              "\n",
              "    .dataframe thead th {\n",
              "        text-align: right;\n",
              "    }\n",
              "</style>\n",
              "<table border=\"1\" class=\"dataframe\">\n",
              "  <thead>\n",
              "    <tr style=\"text-align: right;\">\n",
              "      <th></th>\n",
              "      <th>id</th>\n",
              "      <th>keyword</th>\n",
              "      <th>location</th>\n",
              "      <th>text</th>\n",
              "      <th>target</th>\n",
              "    </tr>\n",
              "  </thead>\n",
              "  <tbody>\n",
              "    <tr>\n",
              "      <th>0</th>\n",
              "      <td>1</td>\n",
              "      <td>NaN</td>\n",
              "      <td>NaN</td>\n",
              "      <td>Our Deeds are the Reason of this #earthquake M...</td>\n",
              "      <td>1</td>\n",
              "    </tr>\n",
              "    <tr>\n",
              "      <th>1</th>\n",
              "      <td>4</td>\n",
              "      <td>NaN</td>\n",
              "      <td>NaN</td>\n",
              "      <td>Forest fire near La Ronge Sask. Canada</td>\n",
              "      <td>1</td>\n",
              "    </tr>\n",
              "    <tr>\n",
              "      <th>2</th>\n",
              "      <td>5</td>\n",
              "      <td>NaN</td>\n",
              "      <td>NaN</td>\n",
              "      <td>All residents asked to 'shelter in place' are ...</td>\n",
              "      <td>1</td>\n",
              "    </tr>\n",
              "    <tr>\n",
              "      <th>3</th>\n",
              "      <td>6</td>\n",
              "      <td>NaN</td>\n",
              "      <td>NaN</td>\n",
              "      <td>13,000 people receive #wildfires evacuation or...</td>\n",
              "      <td>1</td>\n",
              "    </tr>\n",
              "    <tr>\n",
              "      <th>4</th>\n",
              "      <td>7</td>\n",
              "      <td>NaN</td>\n",
              "      <td>NaN</td>\n",
              "      <td>Just got sent this photo from Ruby #Alaska as ...</td>\n",
              "      <td>1</td>\n",
              "    </tr>\n",
              "  </tbody>\n",
              "</table>\n",
              "</div>\n",
              "    <div class=\"colab-df-buttons\">\n",
              "\n",
              "  <div class=\"colab-df-container\">\n",
              "    <button class=\"colab-df-convert\" onclick=\"convertToInteractive('df-ebc6fb75-e56d-442c-b627-4188badb40de')\"\n",
              "            title=\"Convert this dataframe to an interactive table.\"\n",
              "            style=\"display:none;\">\n",
              "\n",
              "  <svg xmlns=\"http://www.w3.org/2000/svg\" height=\"24px\" viewBox=\"0 -960 960 960\">\n",
              "    <path d=\"M120-120v-720h720v720H120Zm60-500h600v-160H180v160Zm220 220h160v-160H400v160Zm0 220h160v-160H400v160ZM180-400h160v-160H180v160Zm440 0h160v-160H620v160ZM180-180h160v-160H180v160Zm440 0h160v-160H620v160Z\"/>\n",
              "  </svg>\n",
              "    </button>\n",
              "\n",
              "  <style>\n",
              "    .colab-df-container {\n",
              "      display:flex;\n",
              "      gap: 12px;\n",
              "    }\n",
              "\n",
              "    .colab-df-convert {\n",
              "      background-color: #E8F0FE;\n",
              "      border: none;\n",
              "      border-radius: 50%;\n",
              "      cursor: pointer;\n",
              "      display: none;\n",
              "      fill: #1967D2;\n",
              "      height: 32px;\n",
              "      padding: 0 0 0 0;\n",
              "      width: 32px;\n",
              "    }\n",
              "\n",
              "    .colab-df-convert:hover {\n",
              "      background-color: #E2EBFA;\n",
              "      box-shadow: 0px 1px 2px rgba(60, 64, 67, 0.3), 0px 1px 3px 1px rgba(60, 64, 67, 0.15);\n",
              "      fill: #174EA6;\n",
              "    }\n",
              "\n",
              "    .colab-df-buttons div {\n",
              "      margin-bottom: 4px;\n",
              "    }\n",
              "\n",
              "    [theme=dark] .colab-df-convert {\n",
              "      background-color: #3B4455;\n",
              "      fill: #D2E3FC;\n",
              "    }\n",
              "\n",
              "    [theme=dark] .colab-df-convert:hover {\n",
              "      background-color: #434B5C;\n",
              "      box-shadow: 0px 1px 3px 1px rgba(0, 0, 0, 0.15);\n",
              "      filter: drop-shadow(0px 1px 2px rgba(0, 0, 0, 0.3));\n",
              "      fill: #FFFFFF;\n",
              "    }\n",
              "  </style>\n",
              "\n",
              "    <script>\n",
              "      const buttonEl =\n",
              "        document.querySelector('#df-ebc6fb75-e56d-442c-b627-4188badb40de button.colab-df-convert');\n",
              "      buttonEl.style.display =\n",
              "        google.colab.kernel.accessAllowed ? 'block' : 'none';\n",
              "\n",
              "      async function convertToInteractive(key) {\n",
              "        const element = document.querySelector('#df-ebc6fb75-e56d-442c-b627-4188badb40de');\n",
              "        const dataTable =\n",
              "          await google.colab.kernel.invokeFunction('convertToInteractive',\n",
              "                                                    [key], {});\n",
              "        if (!dataTable) return;\n",
              "\n",
              "        const docLinkHtml = 'Like what you see? Visit the ' +\n",
              "          '<a target=\"_blank\" href=https://colab.research.google.com/notebooks/data_table.ipynb>data table notebook</a>'\n",
              "          + ' to learn more about interactive tables.';\n",
              "        element.innerHTML = '';\n",
              "        dataTable['output_type'] = 'display_data';\n",
              "        await google.colab.output.renderOutput(dataTable, element);\n",
              "        const docLink = document.createElement('div');\n",
              "        docLink.innerHTML = docLinkHtml;\n",
              "        element.appendChild(docLink);\n",
              "      }\n",
              "    </script>\n",
              "  </div>\n",
              "\n",
              "\n",
              "<div id=\"df-1e3dc523-4afd-49df-9d9b-70bb60bed522\">\n",
              "  <button class=\"colab-df-quickchart\" onclick=\"quickchart('df-1e3dc523-4afd-49df-9d9b-70bb60bed522')\"\n",
              "            title=\"Suggest charts\"\n",
              "            style=\"display:none;\">\n",
              "\n",
              "<svg xmlns=\"http://www.w3.org/2000/svg\" height=\"24px\"viewBox=\"0 0 24 24\"\n",
              "     width=\"24px\">\n",
              "    <g>\n",
              "        <path d=\"M19 3H5c-1.1 0-2 .9-2 2v14c0 1.1.9 2 2 2h14c1.1 0 2-.9 2-2V5c0-1.1-.9-2-2-2zM9 17H7v-7h2v7zm4 0h-2V7h2v10zm4 0h-2v-4h2v4z\"/>\n",
              "    </g>\n",
              "</svg>\n",
              "  </button>\n",
              "\n",
              "<style>\n",
              "  .colab-df-quickchart {\n",
              "      --bg-color: #E8F0FE;\n",
              "      --fill-color: #1967D2;\n",
              "      --hover-bg-color: #E2EBFA;\n",
              "      --hover-fill-color: #174EA6;\n",
              "      --disabled-fill-color: #AAA;\n",
              "      --disabled-bg-color: #DDD;\n",
              "  }\n",
              "\n",
              "  [theme=dark] .colab-df-quickchart {\n",
              "      --bg-color: #3B4455;\n",
              "      --fill-color: #D2E3FC;\n",
              "      --hover-bg-color: #434B5C;\n",
              "      --hover-fill-color: #FFFFFF;\n",
              "      --disabled-bg-color: #3B4455;\n",
              "      --disabled-fill-color: #666;\n",
              "  }\n",
              "\n",
              "  .colab-df-quickchart {\n",
              "    background-color: var(--bg-color);\n",
              "    border: none;\n",
              "    border-radius: 50%;\n",
              "    cursor: pointer;\n",
              "    display: none;\n",
              "    fill: var(--fill-color);\n",
              "    height: 32px;\n",
              "    padding: 0;\n",
              "    width: 32px;\n",
              "  }\n",
              "\n",
              "  .colab-df-quickchart:hover {\n",
              "    background-color: var(--hover-bg-color);\n",
              "    box-shadow: 0 1px 2px rgba(60, 64, 67, 0.3), 0 1px 3px 1px rgba(60, 64, 67, 0.15);\n",
              "    fill: var(--button-hover-fill-color);\n",
              "  }\n",
              "\n",
              "  .colab-df-quickchart-complete:disabled,\n",
              "  .colab-df-quickchart-complete:disabled:hover {\n",
              "    background-color: var(--disabled-bg-color);\n",
              "    fill: var(--disabled-fill-color);\n",
              "    box-shadow: none;\n",
              "  }\n",
              "\n",
              "  .colab-df-spinner {\n",
              "    border: 2px solid var(--fill-color);\n",
              "    border-color: transparent;\n",
              "    border-bottom-color: var(--fill-color);\n",
              "    animation:\n",
              "      spin 1s steps(1) infinite;\n",
              "  }\n",
              "\n",
              "  @keyframes spin {\n",
              "    0% {\n",
              "      border-color: transparent;\n",
              "      border-bottom-color: var(--fill-color);\n",
              "      border-left-color: var(--fill-color);\n",
              "    }\n",
              "    20% {\n",
              "      border-color: transparent;\n",
              "      border-left-color: var(--fill-color);\n",
              "      border-top-color: var(--fill-color);\n",
              "    }\n",
              "    30% {\n",
              "      border-color: transparent;\n",
              "      border-left-color: var(--fill-color);\n",
              "      border-top-color: var(--fill-color);\n",
              "      border-right-color: var(--fill-color);\n",
              "    }\n",
              "    40% {\n",
              "      border-color: transparent;\n",
              "      border-right-color: var(--fill-color);\n",
              "      border-top-color: var(--fill-color);\n",
              "    }\n",
              "    60% {\n",
              "      border-color: transparent;\n",
              "      border-right-color: var(--fill-color);\n",
              "    }\n",
              "    80% {\n",
              "      border-color: transparent;\n",
              "      border-right-color: var(--fill-color);\n",
              "      border-bottom-color: var(--fill-color);\n",
              "    }\n",
              "    90% {\n",
              "      border-color: transparent;\n",
              "      border-bottom-color: var(--fill-color);\n",
              "    }\n",
              "  }\n",
              "</style>\n",
              "\n",
              "  <script>\n",
              "    async function quickchart(key) {\n",
              "      const quickchartButtonEl =\n",
              "        document.querySelector('#' + key + ' button');\n",
              "      quickchartButtonEl.disabled = true;  // To prevent multiple clicks.\n",
              "      quickchartButtonEl.classList.add('colab-df-spinner');\n",
              "      try {\n",
              "        const charts = await google.colab.kernel.invokeFunction(\n",
              "            'suggestCharts', [key], {});\n",
              "      } catch (error) {\n",
              "        console.error('Error during call to suggestCharts:', error);\n",
              "      }\n",
              "      quickchartButtonEl.classList.remove('colab-df-spinner');\n",
              "      quickchartButtonEl.classList.add('colab-df-quickchart-complete');\n",
              "    }\n",
              "    (() => {\n",
              "      let quickchartButtonEl =\n",
              "        document.querySelector('#df-1e3dc523-4afd-49df-9d9b-70bb60bed522 button');\n",
              "      quickchartButtonEl.style.display =\n",
              "        google.colab.kernel.accessAllowed ? 'block' : 'none';\n",
              "    })();\n",
              "  </script>\n",
              "</div>\n",
              "\n",
              "    </div>\n",
              "  </div>\n"
            ],
            "application/vnd.google.colaboratory.intrinsic+json": {
              "type": "dataframe",
              "variable_name": "train_df",
              "summary": "{\n  \"name\": \"train_df\",\n  \"rows\": 7613,\n  \"fields\": [\n    {\n      \"column\": \"id\",\n      \"properties\": {\n        \"dtype\": \"number\",\n        \"std\": 3137,\n        \"min\": 1,\n        \"max\": 10873,\n        \"num_unique_values\": 7613,\n        \"samples\": [\n          3796,\n          3185,\n          7769\n        ],\n        \"semantic_type\": \"\",\n        \"description\": \"\"\n      }\n    },\n    {\n      \"column\": \"keyword\",\n      \"properties\": {\n        \"dtype\": \"category\",\n        \"num_unique_values\": 221,\n        \"samples\": [\n          \"injury\",\n          \"nuclear%20reactor\",\n          \"engulfed\"\n        ],\n        \"semantic_type\": \"\",\n        \"description\": \"\"\n      }\n    },\n    {\n      \"column\": \"location\",\n      \"properties\": {\n        \"dtype\": \"category\",\n        \"num_unique_values\": 3341,\n        \"samples\": [\n          \"Oklahoma\",\n          \"Starling City\",\n          \"Trinidad and Tobago\"\n        ],\n        \"semantic_type\": \"\",\n        \"description\": \"\"\n      }\n    },\n    {\n      \"column\": \"text\",\n      \"properties\": {\n        \"dtype\": \"string\",\n        \"num_unique_values\": 7503,\n        \"samples\": [\n          \"Three Homes Demolished in Unrecognized Arab Village - International Middle East Media Center http://t.co/ik8m4Yi9T4\",\n          \"Reid Lake fire prompts campground evacuation order http://t.co/jBODKM6rBU\",\n          \"FAAN orders evacuation of abandoned aircraft at MMA http://t.co/dEvYbnVXGQ via @todayng\"\n        ],\n        \"semantic_type\": \"\",\n        \"description\": \"\"\n      }\n    },\n    {\n      \"column\": \"target\",\n      \"properties\": {\n        \"dtype\": \"number\",\n        \"std\": 0,\n        \"min\": 0,\n        \"max\": 1,\n        \"num_unique_values\": 2,\n        \"samples\": [\n          0,\n          1\n        ],\n        \"semantic_type\": \"\",\n        \"description\": \"\"\n      }\n    }\n  ]\n}"
            }
          },
          "metadata": {},
          "execution_count": 20
        }
      ]
    },
    {
      "cell_type": "code",
      "source": [
        "train_df[\"text\"][1]"
      ],
      "metadata": {
        "colab": {
          "base_uri": "https://localhost:8080/",
          "height": 35
        },
        "id": "EpyL0u9mlWEb",
        "outputId": "ed9a3334-ff32-477e-ba85-2186da1f8170"
      },
      "execution_count": 21,
      "outputs": [
        {
          "output_type": "execute_result",
          "data": {
            "text/plain": [
              "'Forest fire near La Ronge Sask. Canada'"
            ],
            "application/vnd.google.colaboratory.intrinsic+json": {
              "type": "string"
            }
          },
          "metadata": {},
          "execution_count": 21
        }
      ]
    },
    {
      "cell_type": "code",
      "source": [
        "# shiffling training dataset\n",
        "train_df_shuffled=train_df.sample(frac=1,random_state=42)\n",
        "train_df_shuffled.head()"
      ],
      "metadata": {
        "colab": {
          "base_uri": "https://localhost:8080/",
          "height": 293
        },
        "id": "gKB2bVDTlrMn",
        "outputId": "505468e8-3208-4f94-913e-0faccb376e77"
      },
      "execution_count": 22,
      "outputs": [
        {
          "output_type": "execute_result",
          "data": {
            "text/plain": [
              "        id      keyword               location  \\\n",
              "2644  3796  destruction                    NaN   \n",
              "2227  3185       deluge                    NaN   \n",
              "5448  7769       police                     UK   \n",
              "132    191   aftershock                    NaN   \n",
              "6845  9810       trauma  Montgomery County, MD   \n",
              "\n",
              "                                                   text  target  \n",
              "2644  So you have a new weapon that can cause un-ima...       1  \n",
              "2227  The f$&amp;@ing things I do for #GISHWHES Just...       0  \n",
              "5448  DT @georgegalloway: RT @Galloway4Mayor: ÛÏThe...       1  \n",
              "132   Aftershock back to school kick off was great. ...       0  \n",
              "6845  in response to trauma Children of Addicts deve...       0  "
            ],
            "text/html": [
              "\n",
              "  <div id=\"df-ffd501f8-f426-457b-95ee-7d28c2dcb16f\" class=\"colab-df-container\">\n",
              "    <div>\n",
              "<style scoped>\n",
              "    .dataframe tbody tr th:only-of-type {\n",
              "        vertical-align: middle;\n",
              "    }\n",
              "\n",
              "    .dataframe tbody tr th {\n",
              "        vertical-align: top;\n",
              "    }\n",
              "\n",
              "    .dataframe thead th {\n",
              "        text-align: right;\n",
              "    }\n",
              "</style>\n",
              "<table border=\"1\" class=\"dataframe\">\n",
              "  <thead>\n",
              "    <tr style=\"text-align: right;\">\n",
              "      <th></th>\n",
              "      <th>id</th>\n",
              "      <th>keyword</th>\n",
              "      <th>location</th>\n",
              "      <th>text</th>\n",
              "      <th>target</th>\n",
              "    </tr>\n",
              "  </thead>\n",
              "  <tbody>\n",
              "    <tr>\n",
              "      <th>2644</th>\n",
              "      <td>3796</td>\n",
              "      <td>destruction</td>\n",
              "      <td>NaN</td>\n",
              "      <td>So you have a new weapon that can cause un-ima...</td>\n",
              "      <td>1</td>\n",
              "    </tr>\n",
              "    <tr>\n",
              "      <th>2227</th>\n",
              "      <td>3185</td>\n",
              "      <td>deluge</td>\n",
              "      <td>NaN</td>\n",
              "      <td>The f$&amp;amp;@ing things I do for #GISHWHES Just...</td>\n",
              "      <td>0</td>\n",
              "    </tr>\n",
              "    <tr>\n",
              "      <th>5448</th>\n",
              "      <td>7769</td>\n",
              "      <td>police</td>\n",
              "      <td>UK</td>\n",
              "      <td>DT @georgegalloway: RT @Galloway4Mayor: ÛÏThe...</td>\n",
              "      <td>1</td>\n",
              "    </tr>\n",
              "    <tr>\n",
              "      <th>132</th>\n",
              "      <td>191</td>\n",
              "      <td>aftershock</td>\n",
              "      <td>NaN</td>\n",
              "      <td>Aftershock back to school kick off was great. ...</td>\n",
              "      <td>0</td>\n",
              "    </tr>\n",
              "    <tr>\n",
              "      <th>6845</th>\n",
              "      <td>9810</td>\n",
              "      <td>trauma</td>\n",
              "      <td>Montgomery County, MD</td>\n",
              "      <td>in response to trauma Children of Addicts deve...</td>\n",
              "      <td>0</td>\n",
              "    </tr>\n",
              "  </tbody>\n",
              "</table>\n",
              "</div>\n",
              "    <div class=\"colab-df-buttons\">\n",
              "\n",
              "  <div class=\"colab-df-container\">\n",
              "    <button class=\"colab-df-convert\" onclick=\"convertToInteractive('df-ffd501f8-f426-457b-95ee-7d28c2dcb16f')\"\n",
              "            title=\"Convert this dataframe to an interactive table.\"\n",
              "            style=\"display:none;\">\n",
              "\n",
              "  <svg xmlns=\"http://www.w3.org/2000/svg\" height=\"24px\" viewBox=\"0 -960 960 960\">\n",
              "    <path d=\"M120-120v-720h720v720H120Zm60-500h600v-160H180v160Zm220 220h160v-160H400v160Zm0 220h160v-160H400v160ZM180-400h160v-160H180v160Zm440 0h160v-160H620v160ZM180-180h160v-160H180v160Zm440 0h160v-160H620v160Z\"/>\n",
              "  </svg>\n",
              "    </button>\n",
              "\n",
              "  <style>\n",
              "    .colab-df-container {\n",
              "      display:flex;\n",
              "      gap: 12px;\n",
              "    }\n",
              "\n",
              "    .colab-df-convert {\n",
              "      background-color: #E8F0FE;\n",
              "      border: none;\n",
              "      border-radius: 50%;\n",
              "      cursor: pointer;\n",
              "      display: none;\n",
              "      fill: #1967D2;\n",
              "      height: 32px;\n",
              "      padding: 0 0 0 0;\n",
              "      width: 32px;\n",
              "    }\n",
              "\n",
              "    .colab-df-convert:hover {\n",
              "      background-color: #E2EBFA;\n",
              "      box-shadow: 0px 1px 2px rgba(60, 64, 67, 0.3), 0px 1px 3px 1px rgba(60, 64, 67, 0.15);\n",
              "      fill: #174EA6;\n",
              "    }\n",
              "\n",
              "    .colab-df-buttons div {\n",
              "      margin-bottom: 4px;\n",
              "    }\n",
              "\n",
              "    [theme=dark] .colab-df-convert {\n",
              "      background-color: #3B4455;\n",
              "      fill: #D2E3FC;\n",
              "    }\n",
              "\n",
              "    [theme=dark] .colab-df-convert:hover {\n",
              "      background-color: #434B5C;\n",
              "      box-shadow: 0px 1px 3px 1px rgba(0, 0, 0, 0.15);\n",
              "      filter: drop-shadow(0px 1px 2px rgba(0, 0, 0, 0.3));\n",
              "      fill: #FFFFFF;\n",
              "    }\n",
              "  </style>\n",
              "\n",
              "    <script>\n",
              "      const buttonEl =\n",
              "        document.querySelector('#df-ffd501f8-f426-457b-95ee-7d28c2dcb16f button.colab-df-convert');\n",
              "      buttonEl.style.display =\n",
              "        google.colab.kernel.accessAllowed ? 'block' : 'none';\n",
              "\n",
              "      async function convertToInteractive(key) {\n",
              "        const element = document.querySelector('#df-ffd501f8-f426-457b-95ee-7d28c2dcb16f');\n",
              "        const dataTable =\n",
              "          await google.colab.kernel.invokeFunction('convertToInteractive',\n",
              "                                                    [key], {});\n",
              "        if (!dataTable) return;\n",
              "\n",
              "        const docLinkHtml = 'Like what you see? Visit the ' +\n",
              "          '<a target=\"_blank\" href=https://colab.research.google.com/notebooks/data_table.ipynb>data table notebook</a>'\n",
              "          + ' to learn more about interactive tables.';\n",
              "        element.innerHTML = '';\n",
              "        dataTable['output_type'] = 'display_data';\n",
              "        await google.colab.output.renderOutput(dataTable, element);\n",
              "        const docLink = document.createElement('div');\n",
              "        docLink.innerHTML = docLinkHtml;\n",
              "        element.appendChild(docLink);\n",
              "      }\n",
              "    </script>\n",
              "  </div>\n",
              "\n",
              "\n",
              "<div id=\"df-70bc50d7-7041-469e-8083-f3224337b95a\">\n",
              "  <button class=\"colab-df-quickchart\" onclick=\"quickchart('df-70bc50d7-7041-469e-8083-f3224337b95a')\"\n",
              "            title=\"Suggest charts\"\n",
              "            style=\"display:none;\">\n",
              "\n",
              "<svg xmlns=\"http://www.w3.org/2000/svg\" height=\"24px\"viewBox=\"0 0 24 24\"\n",
              "     width=\"24px\">\n",
              "    <g>\n",
              "        <path d=\"M19 3H5c-1.1 0-2 .9-2 2v14c0 1.1.9 2 2 2h14c1.1 0 2-.9 2-2V5c0-1.1-.9-2-2-2zM9 17H7v-7h2v7zm4 0h-2V7h2v10zm4 0h-2v-4h2v4z\"/>\n",
              "    </g>\n",
              "</svg>\n",
              "  </button>\n",
              "\n",
              "<style>\n",
              "  .colab-df-quickchart {\n",
              "      --bg-color: #E8F0FE;\n",
              "      --fill-color: #1967D2;\n",
              "      --hover-bg-color: #E2EBFA;\n",
              "      --hover-fill-color: #174EA6;\n",
              "      --disabled-fill-color: #AAA;\n",
              "      --disabled-bg-color: #DDD;\n",
              "  }\n",
              "\n",
              "  [theme=dark] .colab-df-quickchart {\n",
              "      --bg-color: #3B4455;\n",
              "      --fill-color: #D2E3FC;\n",
              "      --hover-bg-color: #434B5C;\n",
              "      --hover-fill-color: #FFFFFF;\n",
              "      --disabled-bg-color: #3B4455;\n",
              "      --disabled-fill-color: #666;\n",
              "  }\n",
              "\n",
              "  .colab-df-quickchart {\n",
              "    background-color: var(--bg-color);\n",
              "    border: none;\n",
              "    border-radius: 50%;\n",
              "    cursor: pointer;\n",
              "    display: none;\n",
              "    fill: var(--fill-color);\n",
              "    height: 32px;\n",
              "    padding: 0;\n",
              "    width: 32px;\n",
              "  }\n",
              "\n",
              "  .colab-df-quickchart:hover {\n",
              "    background-color: var(--hover-bg-color);\n",
              "    box-shadow: 0 1px 2px rgba(60, 64, 67, 0.3), 0 1px 3px 1px rgba(60, 64, 67, 0.15);\n",
              "    fill: var(--button-hover-fill-color);\n",
              "  }\n",
              "\n",
              "  .colab-df-quickchart-complete:disabled,\n",
              "  .colab-df-quickchart-complete:disabled:hover {\n",
              "    background-color: var(--disabled-bg-color);\n",
              "    fill: var(--disabled-fill-color);\n",
              "    box-shadow: none;\n",
              "  }\n",
              "\n",
              "  .colab-df-spinner {\n",
              "    border: 2px solid var(--fill-color);\n",
              "    border-color: transparent;\n",
              "    border-bottom-color: var(--fill-color);\n",
              "    animation:\n",
              "      spin 1s steps(1) infinite;\n",
              "  }\n",
              "\n",
              "  @keyframes spin {\n",
              "    0% {\n",
              "      border-color: transparent;\n",
              "      border-bottom-color: var(--fill-color);\n",
              "      border-left-color: var(--fill-color);\n",
              "    }\n",
              "    20% {\n",
              "      border-color: transparent;\n",
              "      border-left-color: var(--fill-color);\n",
              "      border-top-color: var(--fill-color);\n",
              "    }\n",
              "    30% {\n",
              "      border-color: transparent;\n",
              "      border-left-color: var(--fill-color);\n",
              "      border-top-color: var(--fill-color);\n",
              "      border-right-color: var(--fill-color);\n",
              "    }\n",
              "    40% {\n",
              "      border-color: transparent;\n",
              "      border-right-color: var(--fill-color);\n",
              "      border-top-color: var(--fill-color);\n",
              "    }\n",
              "    60% {\n",
              "      border-color: transparent;\n",
              "      border-right-color: var(--fill-color);\n",
              "    }\n",
              "    80% {\n",
              "      border-color: transparent;\n",
              "      border-right-color: var(--fill-color);\n",
              "      border-bottom-color: var(--fill-color);\n",
              "    }\n",
              "    90% {\n",
              "      border-color: transparent;\n",
              "      border-bottom-color: var(--fill-color);\n",
              "    }\n",
              "  }\n",
              "</style>\n",
              "\n",
              "  <script>\n",
              "    async function quickchart(key) {\n",
              "      const quickchartButtonEl =\n",
              "        document.querySelector('#' + key + ' button');\n",
              "      quickchartButtonEl.disabled = true;  // To prevent multiple clicks.\n",
              "      quickchartButtonEl.classList.add('colab-df-spinner');\n",
              "      try {\n",
              "        const charts = await google.colab.kernel.invokeFunction(\n",
              "            'suggestCharts', [key], {});\n",
              "      } catch (error) {\n",
              "        console.error('Error during call to suggestCharts:', error);\n",
              "      }\n",
              "      quickchartButtonEl.classList.remove('colab-df-spinner');\n",
              "      quickchartButtonEl.classList.add('colab-df-quickchart-complete');\n",
              "    }\n",
              "    (() => {\n",
              "      let quickchartButtonEl =\n",
              "        document.querySelector('#df-70bc50d7-7041-469e-8083-f3224337b95a button');\n",
              "      quickchartButtonEl.style.display =\n",
              "        google.colab.kernel.accessAllowed ? 'block' : 'none';\n",
              "    })();\n",
              "  </script>\n",
              "</div>\n",
              "\n",
              "    </div>\n",
              "  </div>\n"
            ],
            "application/vnd.google.colaboratory.intrinsic+json": {
              "type": "dataframe",
              "variable_name": "train_df_shuffled",
              "summary": "{\n  \"name\": \"train_df_shuffled\",\n  \"rows\": 7613,\n  \"fields\": [\n    {\n      \"column\": \"id\",\n      \"properties\": {\n        \"dtype\": \"number\",\n        \"std\": 3137,\n        \"min\": 1,\n        \"max\": 10873,\n        \"num_unique_values\": 7613,\n        \"samples\": [\n          7061,\n          843,\n          10603\n        ],\n        \"semantic_type\": \"\",\n        \"description\": \"\"\n      }\n    },\n    {\n      \"column\": \"keyword\",\n      \"properties\": {\n        \"dtype\": \"category\",\n        \"num_unique_values\": 221,\n        \"samples\": [\n          \"blazing\",\n          \"emergency\",\n          \"rescue\"\n        ],\n        \"semantic_type\": \"\",\n        \"description\": \"\"\n      }\n    },\n    {\n      \"column\": \"location\",\n      \"properties\": {\n        \"dtype\": \"category\",\n        \"num_unique_values\": 3341,\n        \"samples\": [\n          \"617-BTOWN-BEATDOWN\",\n          \"Newcastle Upon Tyne, England\",\n          \"Federal Capital Territory\"\n        ],\n        \"semantic_type\": \"\",\n        \"description\": \"\"\n      }\n    },\n    {\n      \"column\": \"text\",\n      \"properties\": {\n        \"dtype\": \"string\",\n        \"num_unique_values\": 7503,\n        \"samples\": [\n          \"This week first responders and DART members are participating in a four day intensive Technical Large Animal... http://t.co/tL93AOd3ER\",\n          \"My mom is watching a show about bridges breaking/falling and the people on them drowning in their cars aka one of my biggest fears ????\",\n          \"@NickLee8  i went to school in a bombed out East End of London3 families to one house no bathroom outside loo &amp; poor so whats yr point\"\n        ],\n        \"semantic_type\": \"\",\n        \"description\": \"\"\n      }\n    },\n    {\n      \"column\": \"target\",\n      \"properties\": {\n        \"dtype\": \"number\",\n        \"std\": 0,\n        \"min\": 0,\n        \"max\": 1,\n        \"num_unique_values\": 2,\n        \"samples\": [\n          0,\n          1\n        ],\n        \"semantic_type\": \"\",\n        \"description\": \"\"\n      }\n    }\n  ]\n}"
            }
          },
          "metadata": {},
          "execution_count": 22
        }
      ]
    },
    {
      "cell_type": "code",
      "source": [
        "test_df.head()"
      ],
      "metadata": {
        "colab": {
          "base_uri": "https://localhost:8080/",
          "height": 206
        },
        "id": "tk9ycfUOmMDM",
        "outputId": "65c94ea3-faf5-42ca-a8d9-d62d9548732a"
      },
      "execution_count": 23,
      "outputs": [
        {
          "output_type": "execute_result",
          "data": {
            "text/plain": [
              "   id keyword location                                               text\n",
              "0   0     NaN      NaN                 Just happened a terrible car crash\n",
              "1   2     NaN      NaN  Heard about #earthquake is different cities, s...\n",
              "2   3     NaN      NaN  there is a forest fire at spot pond, geese are...\n",
              "3   9     NaN      NaN           Apocalypse lighting. #Spokane #wildfires\n",
              "4  11     NaN      NaN      Typhoon Soudelor kills 28 in China and Taiwan"
            ],
            "text/html": [
              "\n",
              "  <div id=\"df-e0824ce1-3e7b-45f9-b9fb-900e0a83cd30\" class=\"colab-df-container\">\n",
              "    <div>\n",
              "<style scoped>\n",
              "    .dataframe tbody tr th:only-of-type {\n",
              "        vertical-align: middle;\n",
              "    }\n",
              "\n",
              "    .dataframe tbody tr th {\n",
              "        vertical-align: top;\n",
              "    }\n",
              "\n",
              "    .dataframe thead th {\n",
              "        text-align: right;\n",
              "    }\n",
              "</style>\n",
              "<table border=\"1\" class=\"dataframe\">\n",
              "  <thead>\n",
              "    <tr style=\"text-align: right;\">\n",
              "      <th></th>\n",
              "      <th>id</th>\n",
              "      <th>keyword</th>\n",
              "      <th>location</th>\n",
              "      <th>text</th>\n",
              "    </tr>\n",
              "  </thead>\n",
              "  <tbody>\n",
              "    <tr>\n",
              "      <th>0</th>\n",
              "      <td>0</td>\n",
              "      <td>NaN</td>\n",
              "      <td>NaN</td>\n",
              "      <td>Just happened a terrible car crash</td>\n",
              "    </tr>\n",
              "    <tr>\n",
              "      <th>1</th>\n",
              "      <td>2</td>\n",
              "      <td>NaN</td>\n",
              "      <td>NaN</td>\n",
              "      <td>Heard about #earthquake is different cities, s...</td>\n",
              "    </tr>\n",
              "    <tr>\n",
              "      <th>2</th>\n",
              "      <td>3</td>\n",
              "      <td>NaN</td>\n",
              "      <td>NaN</td>\n",
              "      <td>there is a forest fire at spot pond, geese are...</td>\n",
              "    </tr>\n",
              "    <tr>\n",
              "      <th>3</th>\n",
              "      <td>9</td>\n",
              "      <td>NaN</td>\n",
              "      <td>NaN</td>\n",
              "      <td>Apocalypse lighting. #Spokane #wildfires</td>\n",
              "    </tr>\n",
              "    <tr>\n",
              "      <th>4</th>\n",
              "      <td>11</td>\n",
              "      <td>NaN</td>\n",
              "      <td>NaN</td>\n",
              "      <td>Typhoon Soudelor kills 28 in China and Taiwan</td>\n",
              "    </tr>\n",
              "  </tbody>\n",
              "</table>\n",
              "</div>\n",
              "    <div class=\"colab-df-buttons\">\n",
              "\n",
              "  <div class=\"colab-df-container\">\n",
              "    <button class=\"colab-df-convert\" onclick=\"convertToInteractive('df-e0824ce1-3e7b-45f9-b9fb-900e0a83cd30')\"\n",
              "            title=\"Convert this dataframe to an interactive table.\"\n",
              "            style=\"display:none;\">\n",
              "\n",
              "  <svg xmlns=\"http://www.w3.org/2000/svg\" height=\"24px\" viewBox=\"0 -960 960 960\">\n",
              "    <path d=\"M120-120v-720h720v720H120Zm60-500h600v-160H180v160Zm220 220h160v-160H400v160Zm0 220h160v-160H400v160ZM180-400h160v-160H180v160Zm440 0h160v-160H620v160ZM180-180h160v-160H180v160Zm440 0h160v-160H620v160Z\"/>\n",
              "  </svg>\n",
              "    </button>\n",
              "\n",
              "  <style>\n",
              "    .colab-df-container {\n",
              "      display:flex;\n",
              "      gap: 12px;\n",
              "    }\n",
              "\n",
              "    .colab-df-convert {\n",
              "      background-color: #E8F0FE;\n",
              "      border: none;\n",
              "      border-radius: 50%;\n",
              "      cursor: pointer;\n",
              "      display: none;\n",
              "      fill: #1967D2;\n",
              "      height: 32px;\n",
              "      padding: 0 0 0 0;\n",
              "      width: 32px;\n",
              "    }\n",
              "\n",
              "    .colab-df-convert:hover {\n",
              "      background-color: #E2EBFA;\n",
              "      box-shadow: 0px 1px 2px rgba(60, 64, 67, 0.3), 0px 1px 3px 1px rgba(60, 64, 67, 0.15);\n",
              "      fill: #174EA6;\n",
              "    }\n",
              "\n",
              "    .colab-df-buttons div {\n",
              "      margin-bottom: 4px;\n",
              "    }\n",
              "\n",
              "    [theme=dark] .colab-df-convert {\n",
              "      background-color: #3B4455;\n",
              "      fill: #D2E3FC;\n",
              "    }\n",
              "\n",
              "    [theme=dark] .colab-df-convert:hover {\n",
              "      background-color: #434B5C;\n",
              "      box-shadow: 0px 1px 3px 1px rgba(0, 0, 0, 0.15);\n",
              "      filter: drop-shadow(0px 1px 2px rgba(0, 0, 0, 0.3));\n",
              "      fill: #FFFFFF;\n",
              "    }\n",
              "  </style>\n",
              "\n",
              "    <script>\n",
              "      const buttonEl =\n",
              "        document.querySelector('#df-e0824ce1-3e7b-45f9-b9fb-900e0a83cd30 button.colab-df-convert');\n",
              "      buttonEl.style.display =\n",
              "        google.colab.kernel.accessAllowed ? 'block' : 'none';\n",
              "\n",
              "      async function convertToInteractive(key) {\n",
              "        const element = document.querySelector('#df-e0824ce1-3e7b-45f9-b9fb-900e0a83cd30');\n",
              "        const dataTable =\n",
              "          await google.colab.kernel.invokeFunction('convertToInteractive',\n",
              "                                                    [key], {});\n",
              "        if (!dataTable) return;\n",
              "\n",
              "        const docLinkHtml = 'Like what you see? Visit the ' +\n",
              "          '<a target=\"_blank\" href=https://colab.research.google.com/notebooks/data_table.ipynb>data table notebook</a>'\n",
              "          + ' to learn more about interactive tables.';\n",
              "        element.innerHTML = '';\n",
              "        dataTable['output_type'] = 'display_data';\n",
              "        await google.colab.output.renderOutput(dataTable, element);\n",
              "        const docLink = document.createElement('div');\n",
              "        docLink.innerHTML = docLinkHtml;\n",
              "        element.appendChild(docLink);\n",
              "      }\n",
              "    </script>\n",
              "  </div>\n",
              "\n",
              "\n",
              "<div id=\"df-90a9e968-62b9-45e7-99d2-c22f08e77f9b\">\n",
              "  <button class=\"colab-df-quickchart\" onclick=\"quickchart('df-90a9e968-62b9-45e7-99d2-c22f08e77f9b')\"\n",
              "            title=\"Suggest charts\"\n",
              "            style=\"display:none;\">\n",
              "\n",
              "<svg xmlns=\"http://www.w3.org/2000/svg\" height=\"24px\"viewBox=\"0 0 24 24\"\n",
              "     width=\"24px\">\n",
              "    <g>\n",
              "        <path d=\"M19 3H5c-1.1 0-2 .9-2 2v14c0 1.1.9 2 2 2h14c1.1 0 2-.9 2-2V5c0-1.1-.9-2-2-2zM9 17H7v-7h2v7zm4 0h-2V7h2v10zm4 0h-2v-4h2v4z\"/>\n",
              "    </g>\n",
              "</svg>\n",
              "  </button>\n",
              "\n",
              "<style>\n",
              "  .colab-df-quickchart {\n",
              "      --bg-color: #E8F0FE;\n",
              "      --fill-color: #1967D2;\n",
              "      --hover-bg-color: #E2EBFA;\n",
              "      --hover-fill-color: #174EA6;\n",
              "      --disabled-fill-color: #AAA;\n",
              "      --disabled-bg-color: #DDD;\n",
              "  }\n",
              "\n",
              "  [theme=dark] .colab-df-quickchart {\n",
              "      --bg-color: #3B4455;\n",
              "      --fill-color: #D2E3FC;\n",
              "      --hover-bg-color: #434B5C;\n",
              "      --hover-fill-color: #FFFFFF;\n",
              "      --disabled-bg-color: #3B4455;\n",
              "      --disabled-fill-color: #666;\n",
              "  }\n",
              "\n",
              "  .colab-df-quickchart {\n",
              "    background-color: var(--bg-color);\n",
              "    border: none;\n",
              "    border-radius: 50%;\n",
              "    cursor: pointer;\n",
              "    display: none;\n",
              "    fill: var(--fill-color);\n",
              "    height: 32px;\n",
              "    padding: 0;\n",
              "    width: 32px;\n",
              "  }\n",
              "\n",
              "  .colab-df-quickchart:hover {\n",
              "    background-color: var(--hover-bg-color);\n",
              "    box-shadow: 0 1px 2px rgba(60, 64, 67, 0.3), 0 1px 3px 1px rgba(60, 64, 67, 0.15);\n",
              "    fill: var(--button-hover-fill-color);\n",
              "  }\n",
              "\n",
              "  .colab-df-quickchart-complete:disabled,\n",
              "  .colab-df-quickchart-complete:disabled:hover {\n",
              "    background-color: var(--disabled-bg-color);\n",
              "    fill: var(--disabled-fill-color);\n",
              "    box-shadow: none;\n",
              "  }\n",
              "\n",
              "  .colab-df-spinner {\n",
              "    border: 2px solid var(--fill-color);\n",
              "    border-color: transparent;\n",
              "    border-bottom-color: var(--fill-color);\n",
              "    animation:\n",
              "      spin 1s steps(1) infinite;\n",
              "  }\n",
              "\n",
              "  @keyframes spin {\n",
              "    0% {\n",
              "      border-color: transparent;\n",
              "      border-bottom-color: var(--fill-color);\n",
              "      border-left-color: var(--fill-color);\n",
              "    }\n",
              "    20% {\n",
              "      border-color: transparent;\n",
              "      border-left-color: var(--fill-color);\n",
              "      border-top-color: var(--fill-color);\n",
              "    }\n",
              "    30% {\n",
              "      border-color: transparent;\n",
              "      border-left-color: var(--fill-color);\n",
              "      border-top-color: var(--fill-color);\n",
              "      border-right-color: var(--fill-color);\n",
              "    }\n",
              "    40% {\n",
              "      border-color: transparent;\n",
              "      border-right-color: var(--fill-color);\n",
              "      border-top-color: var(--fill-color);\n",
              "    }\n",
              "    60% {\n",
              "      border-color: transparent;\n",
              "      border-right-color: var(--fill-color);\n",
              "    }\n",
              "    80% {\n",
              "      border-color: transparent;\n",
              "      border-right-color: var(--fill-color);\n",
              "      border-bottom-color: var(--fill-color);\n",
              "    }\n",
              "    90% {\n",
              "      border-color: transparent;\n",
              "      border-bottom-color: var(--fill-color);\n",
              "    }\n",
              "  }\n",
              "</style>\n",
              "\n",
              "  <script>\n",
              "    async function quickchart(key) {\n",
              "      const quickchartButtonEl =\n",
              "        document.querySelector('#' + key + ' button');\n",
              "      quickchartButtonEl.disabled = true;  // To prevent multiple clicks.\n",
              "      quickchartButtonEl.classList.add('colab-df-spinner');\n",
              "      try {\n",
              "        const charts = await google.colab.kernel.invokeFunction(\n",
              "            'suggestCharts', [key], {});\n",
              "      } catch (error) {\n",
              "        console.error('Error during call to suggestCharts:', error);\n",
              "      }\n",
              "      quickchartButtonEl.classList.remove('colab-df-spinner');\n",
              "      quickchartButtonEl.classList.add('colab-df-quickchart-complete');\n",
              "    }\n",
              "    (() => {\n",
              "      let quickchartButtonEl =\n",
              "        document.querySelector('#df-90a9e968-62b9-45e7-99d2-c22f08e77f9b button');\n",
              "      quickchartButtonEl.style.display =\n",
              "        google.colab.kernel.accessAllowed ? 'block' : 'none';\n",
              "    })();\n",
              "  </script>\n",
              "</div>\n",
              "\n",
              "    </div>\n",
              "  </div>\n"
            ],
            "application/vnd.google.colaboratory.intrinsic+json": {
              "type": "dataframe",
              "variable_name": "test_df",
              "summary": "{\n  \"name\": \"test_df\",\n  \"rows\": 3263,\n  \"fields\": [\n    {\n      \"column\": \"id\",\n      \"properties\": {\n        \"dtype\": \"number\",\n        \"std\": 3146,\n        \"min\": 0,\n        \"max\": 10875,\n        \"num_unique_values\": 3263,\n        \"samples\": [\n          8051,\n          425,\n          1330\n        ],\n        \"semantic_type\": \"\",\n        \"description\": \"\"\n      }\n    },\n    {\n      \"column\": \"keyword\",\n      \"properties\": {\n        \"dtype\": \"category\",\n        \"num_unique_values\": 221,\n        \"samples\": [\n          \"injury\",\n          \"nuclear%20reactor\",\n          \"engulfed\"\n        ],\n        \"semantic_type\": \"\",\n        \"description\": \"\"\n      }\n    },\n    {\n      \"column\": \"location\",\n      \"properties\": {\n        \"dtype\": \"category\",\n        \"num_unique_values\": 1602,\n        \"samples\": [\n          \"UAE\",\n          \"Tokio / Tokyo\",\n          \"Texas\"\n        ],\n        \"semantic_type\": \"\",\n        \"description\": \"\"\n      }\n    },\n    {\n      \"column\": \"text\",\n      \"properties\": {\n        \"dtype\": \"string\",\n        \"num_unique_values\": 3243,\n        \"samples\": [\n          \"Latest: USA: Huge sinkhole swallows up Brooklyn intersection http://t.co/vspKHg3nZy\",\n          \"I liked a @YouTube video http://t.co/a5YTAw9Vih S.O.S. Rona Guide - The Red Whirlwind\",\n          \"HitchBot travels Europe and greeted with open arms. Gets destroyed after two weeks in america. There's a lesson to be learned here.\"\n        ],\n        \"semantic_type\": \"\",\n        \"description\": \"\"\n      }\n    }\n  ]\n}"
            }
          },
          "metadata": {},
          "execution_count": 23
        }
      ]
    },
    {
      "cell_type": "code",
      "source": [
        "# counting total number of one and zeroes in target column of train_df\n",
        "train_df.target.value_counts()\n"
      ],
      "metadata": {
        "colab": {
          "base_uri": "https://localhost:8080/",
          "height": 178
        },
        "id": "Fn9pYmyAm8Pf",
        "outputId": "8d326f2b-ffd1-4b0b-8315-f7c641d24387"
      },
      "execution_count": 24,
      "outputs": [
        {
          "output_type": "execute_result",
          "data": {
            "text/plain": [
              "target\n",
              "0    4342\n",
              "1    3271\n",
              "Name: count, dtype: int64"
            ],
            "text/html": [
              "<div>\n",
              "<style scoped>\n",
              "    .dataframe tbody tr th:only-of-type {\n",
              "        vertical-align: middle;\n",
              "    }\n",
              "\n",
              "    .dataframe tbody tr th {\n",
              "        vertical-align: top;\n",
              "    }\n",
              "\n",
              "    .dataframe thead th {\n",
              "        text-align: right;\n",
              "    }\n",
              "</style>\n",
              "<table border=\"1\" class=\"dataframe\">\n",
              "  <thead>\n",
              "    <tr style=\"text-align: right;\">\n",
              "      <th></th>\n",
              "      <th>count</th>\n",
              "    </tr>\n",
              "    <tr>\n",
              "      <th>target</th>\n",
              "      <th></th>\n",
              "    </tr>\n",
              "  </thead>\n",
              "  <tbody>\n",
              "    <tr>\n",
              "      <th>0</th>\n",
              "      <td>4342</td>\n",
              "    </tr>\n",
              "    <tr>\n",
              "      <th>1</th>\n",
              "      <td>3271</td>\n",
              "    </tr>\n",
              "  </tbody>\n",
              "</table>\n",
              "</div><br><label><b>dtype:</b> int64</label>"
            ]
          },
          "metadata": {},
          "execution_count": 24
        }
      ]
    },
    {
      "cell_type": "code",
      "source": [
        "# total number of sample\n",
        "len(train_df),len(test_df)"
      ],
      "metadata": {
        "colab": {
          "base_uri": "https://localhost:8080/"
        },
        "id": "7y4TfBG2nYaU",
        "outputId": "86363e3b-ecd7-437d-b6d6-c539bbe3a64f"
      },
      "execution_count": 25,
      "outputs": [
        {
          "output_type": "execute_result",
          "data": {
            "text/plain": [
              "(7613, 3263)"
            ]
          },
          "metadata": {},
          "execution_count": 25
        }
      ]
    },
    {
      "cell_type": "markdown",
      "source": [
        "## **VISUALIZATION**"
      ],
      "metadata": {
        "id": "8U-QY4tZpfyL"
      }
    },
    {
      "cell_type": "code",
      "source": [
        "# now its time to visualize random training examples\n",
        "import random\n",
        "random_index=random.randint(0,len(train_df)-5)\n",
        "for row in train_df_shuffled[[\"text\",\"target\"]][random_index:random_index+5].itertuples():\n",
        "  _, text, target = row\n",
        "  print(f\"Target: {target}\", \"(real disaster)\" if target > 0 else \"(not real disaster)\")\n",
        "  print(f\"Text:\\n{text}\\n\")\n",
        "  print(\"---\\n\")"
      ],
      "metadata": {
        "colab": {
          "base_uri": "https://localhost:8080/"
        },
        "id": "KU7sS8O_pWdW",
        "outputId": "88b1b112-1afe-4e8e-91ef-f0fe5c1ab4a3"
      },
      "execution_count": 26,
      "outputs": [
        {
          "output_type": "stream",
          "name": "stdout",
          "text": [
            "Target: 0 (not real disaster)\n",
            "Text:\n",
            "http://t.co/JwIv6WYW6F Osage Beach releases name\n",
            "\n",
            "---\n",
            "\n",
            "Target: 0 (not real disaster)\n",
            "Text:\n",
            "Drunk Meals 101: What To Cook When You're Totally Obliterated http://t.co/QvS7O10bG3\n",
            "\n",
            "---\n",
            "\n",
            "Target: 1 (real disaster)\n",
            "Text:\n",
            "Drunk Meals 101: What To Cook When You're Totally Obliterated http://t.co/m19iVWrdkk\n",
            "\n",
            "---\n",
            "\n",
            "Target: 0 (not real disaster)\n",
            "Text:\n",
            "U.S National Park Services Tonto National Forest: Stop the Annihilation of the Salt River Wild Horse... https://t.co/x2Wn7O2a3w via @Change\n",
            "\n",
            "---\n",
            "\n",
            "Target: 1 (real disaster)\n",
            "Text:\n",
            "#Australia #News ; #Japan marks 70th anniversary of #Hiroshima atomic bombing  http://t.co/7aD0L7cgee READ MORE; http://t.co/hHzQl9tzNP\n",
            "\n",
            "---\n",
            "\n"
          ]
        }
      ]
    },
    {
      "cell_type": "markdown",
      "source": [
        "## **SPILITTING DATA INTO TRAINING AND VALIDATION DATA**"
      ],
      "metadata": {
        "id": "XIxTuKJTs2dE"
      }
    },
    {
      "cell_type": "code",
      "source": [
        "from sklearn.model_selection import train_test_split\n",
        "train_sentences,val_sentences,train_labels,val_labels=train_test_split(train_df_shuffled[\"text\"].to_numpy(),\n",
        "                                                                       train_df_shuffled[\"target\"].to_numpy(),\n",
        "                                                                       test_size=0.1,\n",
        "                                                                       random_state=42)"
      ],
      "metadata": {
        "id": "cz2N5Sa_rypA"
      },
      "execution_count": 27,
      "outputs": []
    },
    {
      "cell_type": "code",
      "source": [
        "len(train_sentences),len(val_sentences),len(train_labels),len(val_labels)"
      ],
      "metadata": {
        "colab": {
          "base_uri": "https://localhost:8080/"
        },
        "id": "zxIgoLUpujdN",
        "outputId": "731e432c-4d34-4bcb-b20f-d11e4e4ce00a"
      },
      "execution_count": 28,
      "outputs": [
        {
          "output_type": "execute_result",
          "data": {
            "text/plain": [
              "(6851, 762, 6851, 762)"
            ]
          },
          "metadata": {},
          "execution_count": 28
        }
      ]
    },
    {
      "cell_type": "code",
      "source": [
        "# viewing first 10 training sentences\n",
        "train_sentences[:10]\n"
      ],
      "metadata": {
        "colab": {
          "base_uri": "https://localhost:8080/"
        },
        "id": "Y884_XeQumQ2",
        "outputId": "7f4d6a8a-d89e-4b3b-8151-f97eaf3ce765"
      },
      "execution_count": 29,
      "outputs": [
        {
          "output_type": "execute_result",
          "data": {
            "text/plain": [
              "array(['@mogacola @zamtriossu i screamed after hitting tweet',\n",
              "       'Imagine getting flattened by Kurt Zouma',\n",
              "       '@Gurmeetramrahim #MSGDoing111WelfareWorks Green S welfare force ke appx 65000 members har time disaster victim ki help ke liye tyar hai....',\n",
              "       \"@shakjn @C7 @Magnums im shaking in fear he's gonna hack the planet\",\n",
              "       'Somehow find you and I collide http://t.co/Ee8RpOahPk',\n",
              "       '@EvaHanderek @MarleyKnysh great times until the bus driver held us hostage in the mall parking lot lmfao',\n",
              "       'destroy the free fandom honestly',\n",
              "       'Weapons stolen from National Guard Armory in New Albany still missing #Gunsense http://t.co/lKNU8902JE',\n",
              "       '@wfaaweather Pete when will the heat wave pass? Is it really going to be mid month? Frisco Boy Scouts have a canoe trip in Okla.',\n",
              "       'Patient-reported outcomes in long-term survivors of metastatic colorectal cancer - British Journal of Surgery http://t.co/5Yl4DC1Tqt'],\n",
              "      dtype=object)"
            ]
          },
          "metadata": {},
          "execution_count": 29
        }
      ]
    },
    {
      "cell_type": "code",
      "source": [
        "# viewing first 10 train labels\n",
        "train_labels[:10]\n"
      ],
      "metadata": {
        "colab": {
          "base_uri": "https://localhost:8080/"
        },
        "id": "GXGDPl7pvGCJ",
        "outputId": "b7ad9a34-4ef7-465b-da14-e90fcb6cd6e0"
      },
      "execution_count": 30,
      "outputs": [
        {
          "output_type": "execute_result",
          "data": {
            "text/plain": [
              "array([0, 0, 1, 0, 0, 1, 1, 0, 1, 1])"
            ]
          },
          "metadata": {},
          "execution_count": 30
        }
      ]
    },
    {
      "cell_type": "markdown",
      "source": [
        "## **IMPORTANT FROM NOW ONWARDS**\n",
        "# **CHANGING OUR TEXT INTO THE NUMBERS**"
      ],
      "metadata": {
        "id": "zVjVSUWfwd-I"
      }
    },
    {
      "cell_type": "markdown",
      "source": [
        "**TEXT VECTORIZATION**"
      ],
      "metadata": {
        "id": "xMJ02Dxx2_pC"
      }
    },
    {
      "cell_type": "code",
      "source": [
        "import tensorflow as tf\n",
        "from tensorflow.keras.layers import TextVectorization\n",
        "text_vectorize=TextVectorization(max_tokens=None,\n",
        "                                 standardize=\"lower_and_strip_punctuation\",\n",
        "                                 split=\"whitespace\",\n",
        "                                 ngrams=None,\n",
        "                                 output_mode=\"int\",\n",
        "                                 output_sequence_length=None)\n",
        "                                # pad_to_max_tokens=True) --not valid if you are using max_token"
      ],
      "metadata": {
        "id": "_8xbaml_2_Rd"
      },
      "execution_count": 31,
      "outputs": []
    },
    {
      "cell_type": "code",
      "source": [
        "train_sentences[0].split()"
      ],
      "metadata": {
        "colab": {
          "base_uri": "https://localhost:8080/"
        },
        "id": "42wDsWfp44bt",
        "outputId": "2e09f0e8-55e9-49a1-cc05-cf53b6cfe846"
      },
      "execution_count": 32,
      "outputs": [
        {
          "output_type": "execute_result",
          "data": {
            "text/plain": [
              "['@mogacola', '@zamtriossu', 'i', 'screamed', 'after', 'hitting', 'tweet']"
            ]
          },
          "metadata": {},
          "execution_count": 32
        }
      ]
    },
    {
      "cell_type": "code",
      "source": [
        "# finding the average number of tokens in training tweet\n",
        "round((sum([len(i.split())for i in train_sentences]))/len(train_sentences))"
      ],
      "metadata": {
        "colab": {
          "base_uri": "https://localhost:8080/"
        },
        "id": "toJuM77Hv_-0",
        "outputId": "184c2e79-ab19-402a-c5f7-9a115f941ca2"
      },
      "execution_count": 33,
      "outputs": [
        {
          "output_type": "execute_result",
          "data": {
            "text/plain": [
              "15"
            ]
          },
          "metadata": {},
          "execution_count": 33
        }
      ]
    },
    {
      "cell_type": "code",
      "source": [
        "# Setup text vectorization with custom variables\n",
        "max_vocab_length = 10000 # max number of words to have in our vocabulary\n",
        "max_length = 15 # max length our sequences will be (e.g. how many words from a Tweet does our model see?)\n",
        "\n",
        "text_vectorizer = TextVectorization(max_tokens=max_vocab_length,\n",
        "                                    output_mode=\"int\",\n",
        "                                    output_sequence_length=max_length)"
      ],
      "metadata": {
        "id": "g2hUlXeK5MOb"
      },
      "execution_count": 34,
      "outputs": []
    },
    {
      "cell_type": "code",
      "source": [
        "text_vectorizer.adapt(train_sentences)"
      ],
      "metadata": {
        "id": "9ZZnF2h-FRfD"
      },
      "execution_count": 35,
      "outputs": []
    },
    {
      "cell_type": "code",
      "source": [
        "# Create sample sentence and tokenize it\n",
        "sample_sentence = \"hello myself ram i get kidnapped!\"\n",
        "text_vectorizer([sample_sentence])"
      ],
      "metadata": {
        "colab": {
          "base_uri": "https://localhost:8080/"
        },
        "id": "RaFnFCr1Cr8Y",
        "outputId": "3ed931a7-ea3a-46e2-c626-4792287f33d1"
      },
      "execution_count": 36,
      "outputs": [
        {
          "output_type": "execute_result",
          "data": {
            "text/plain": [
              "<tf.Tensor: shape=(1, 15), dtype=int64, numpy=\n",
              "array([[1400,  736, 9370,    8,   52, 2074,    0,    0,    0,    0,    0,\n",
              "           0,    0,    0,    0]])>"
            ]
          },
          "metadata": {},
          "execution_count": 36
        }
      ]
    },
    {
      "cell_type": "code",
      "source": [
        "# choose a random sentence from training dataset and tokenize it.\n",
        "import random\n",
        "random_sentence=random.choice(train_sentences)\n",
        "print(f\"random_sentence is:\\n{random_sentence}\")\n",
        "print()\n",
        "print(f\"vectorized version is\\n:{text_vectorizer([random_sentence])}\")"
      ],
      "metadata": {
        "colab": {
          "base_uri": "https://localhost:8080/"
        },
        "id": "9zuDLVETC3XQ",
        "outputId": "08c43f2e-b24f-4a2c-8667-79c6d9d79e95"
      },
      "execution_count": 37,
      "outputs": [
        {
          "output_type": "stream",
          "name": "stdout",
          "text": [
            "random_sentence is:\n",
            "@NBCNews Yea bombing #pearlharbor not so good of an idea!\n",
            "\n",
            "vectorized version is\n",
            ":[[3600 3235  156 9882   34   28  136    6   39 1078    0    0    0    0\n",
            "     0]]\n"
          ]
        }
      ]
    },
    {
      "cell_type": "code",
      "source": [
        "# get unique word in a vocabulary\n",
        "words_in_vocab= text_vectorizer.get_vocabulary()\n",
        "top_5_words = words_in_vocab[:5]       # most common tokens (notice the [UNK] token for \"unknown\" words)\n",
        "bottom_5_words = words_in_vocab[-5:]   # least common tokens\n",
        "print(f\"Number of words in vocab: {len(words_in_vocab)}\")\n",
        "print(f\"Top 5 most common words: {top_5_words}\")\n",
        "print(f\"Bottom 5 least common words: {bottom_5_words}\")\n",
        "\n"
      ],
      "metadata": {
        "colab": {
          "base_uri": "https://localhost:8080/"
        },
        "id": "ETaIVR-0E8hd",
        "outputId": "492fa731-f235-4bb2-a78b-265d4f9d952d"
      },
      "execution_count": 38,
      "outputs": [
        {
          "output_type": "stream",
          "name": "stdout",
          "text": [
            "Number of words in vocab: 10000\n",
            "Top 5 most common words: ['', '[UNK]', 'the', 'a', 'in']\n",
            "Bottom 5 least common words: ['pages', 'paeds', 'pads', 'padres', 'paddytomlinson1']\n"
          ]
        }
      ]
    },
    {
      "cell_type": "markdown",
      "source": [
        "# **CREATE AN EMBEDDING USING AN EMBEDDING LAYER**"
      ],
      "metadata": {
        "id": "FbGfUEYJHQRD"
      }
    },
    {
      "cell_type": "markdown",
      "source": [
        "We can see what an embedding of a word looks like by using the **tf.keras.layers.Embedding layer.**\n",
        "\n",
        "The main parameters we're concerned about here are:\n",
        "\n",
        "1. **input_dim** - The size of the vocabulary (e.g. len(text_vectorizer.get_vocabulary()).\n",
        "2. **output_dim** - The size of the output embedding vector, for example, a value of 100 outputs a feature vector of size 100 for each word.\n",
        "3. **embeddings_initializer** - How to initialize the embeddings matrix, default is \"uniform\" which randomly initalizes embedding matrix with uniform distribution. This can be changed for using pre-learned embeddings.\n",
        "4. **input_length** - Length of sequences being passed to embedding layer."
      ],
      "metadata": {
        "id": "J4yyZK0sI6Ho"
      }
    },
    {
      "cell_type": "code",
      "source": [
        "tf.random.set_seed(42)\n",
        "from tensorflow.keras import layers\n",
        "embedding= layers.Embedding(input_dim=max_vocab_length,\n",
        "                            output_dim=128,\n",
        "                            input_length=max_length,\n",
        "                            name=\"embedding_layer\")"
      ],
      "metadata": {
        "colab": {
          "base_uri": "https://localhost:8080/"
        },
        "id": "xLbvNr6nI5yn",
        "outputId": "cf3e77b7-f4b3-41aa-d1db-310c9c36d093"
      },
      "execution_count": 39,
      "outputs": [
        {
          "output_type": "stream",
          "name": "stderr",
          "text": [
            "/usr/local/lib/python3.10/dist-packages/keras/src/layers/core/embedding.py:90: UserWarning: Argument `input_length` is deprecated. Just remove it.\n",
            "  warnings.warn(\n"
          ]
        }
      ]
    },
    {
      "cell_type": "code",
      "source": [
        "# choose a random sentence from the training_sentence and embedded it\n",
        "random_sentence_embedded=random.choice(train_sentences)\n",
        "print(f\"random sentence for embedding is:/n{random_sentence_embedded}\")\n",
        "print()\n",
        "# Embed the random sentence (turn it into numerical representation)\n",
        "sample_embed = embedding(text_vectorizer([random_sentence_embedded]))\n",
        "sample_embed"
      ],
      "metadata": {
        "colab": {
          "base_uri": "https://localhost:8080/"
        },
        "id": "wubgjCD_KmeT",
        "outputId": "94ef08c2-f811-4b08-8242-e272f14cba7c"
      },
      "execution_count": 40,
      "outputs": [
        {
          "output_type": "stream",
          "name": "stdout",
          "text": [
            "random sentence for embedding is:/nTake this China get demolished and sent back to the fucking stone age\n",
            "\n"
          ]
        },
        {
          "output_type": "execute_result",
          "data": {
            "text/plain": [
              "<tf.Tensor: shape=(1, 15, 128), dtype=float32, numpy=\n",
              "array([[[-0.04671878, -0.03758879, -0.04594154, ...,  0.04716725,\n",
              "         -0.00682427,  0.00332314],\n",
              "        [ 0.00699025,  0.00539088,  0.03270547, ..., -0.01468775,\n",
              "          0.01046938, -0.04322174],\n",
              "        [ 0.0395211 ,  0.00467578, -0.01948786, ..., -0.04501212,\n",
              "         -0.04629534, -0.02808203],\n",
              "        ...,\n",
              "        [ 0.029877  ,  0.01391688, -0.02727797, ...,  0.01219711,\n",
              "         -0.02607939, -0.03991965],\n",
              "        [ 0.01938589,  0.04719632,  0.03973642, ..., -0.02278095,\n",
              "         -0.02391504, -0.02681161],\n",
              "        [ 0.01938589,  0.04719632,  0.03973642, ..., -0.02278095,\n",
              "         -0.02391504, -0.02681161]]], dtype=float32)>"
            ]
          },
          "metadata": {},
          "execution_count": 40
        }
      ]
    },
    {
      "cell_type": "code",
      "source": [
        "# Check out a single token's embedding\n",
        "sample_embed[0][0]"
      ],
      "metadata": {
        "colab": {
          "base_uri": "https://localhost:8080/"
        },
        "id": "yJryR6fPLAC7",
        "outputId": "dcf9cf3b-8c6d-475f-c1da-8e5f2a84bd48"
      },
      "execution_count": 41,
      "outputs": [
        {
          "output_type": "execute_result",
          "data": {
            "text/plain": [
              "<tf.Tensor: shape=(128,), dtype=float32, numpy=\n",
              "array([-4.67187762e-02, -3.75887863e-02, -4.59415428e-02,  4.76679541e-02,\n",
              "       -1.44963339e-03,  2.22038142e-02, -3.95137891e-02, -1.70460828e-02,\n",
              "        2.93341912e-02, -3.46809514e-02, -3.10940985e-02, -1.68005824e-02,\n",
              "        2.49843113e-02, -8.06389004e-03,  1.51317753e-02,  4.17243876e-02,\n",
              "        2.80505307e-02,  1.94986500e-02,  1.36954300e-02, -1.83477998e-02,\n",
              "       -4.32837009e-03, -4.50341962e-02,  2.87315510e-02,  3.96206230e-03,\n",
              "        3.18760611e-02,  1.01467855e-02,  3.50841768e-02,  3.91315483e-02,\n",
              "       -3.62058878e-02, -3.00978664e-02, -2.16899402e-02,  1.72032043e-03,\n",
              "        2.94296406e-02,  7.65100121e-05,  4.03266065e-02, -1.75536647e-02,\n",
              "        2.95238383e-02, -1.84493549e-02, -7.98705965e-03,  1.71252526e-02,\n",
              "        1.89416073e-02,  4.93727587e-02, -1.89492945e-02,  9.02716070e-03,\n",
              "        1.03023052e-02,  1.33498050e-02,  2.33719461e-02, -4.72845919e-02,\n",
              "       -5.99838793e-04,  4.60533611e-02, -2.15442106e-03,  1.10501163e-02,\n",
              "        1.85212158e-02,  3.46782245e-02, -4.75820675e-02, -1.63089149e-02,\n",
              "        9.53562185e-03, -1.39299408e-02,  2.87759565e-02,  1.91449858e-02,\n",
              "        2.13810690e-02,  3.23781408e-02,  3.17918099e-02,  2.95984782e-02,\n",
              "       -2.39021424e-02,  2.91670077e-02, -7.82979652e-03,  3.83663513e-02,\n",
              "       -4.51852344e-02, -1.74624547e-02, -2.28261352e-02, -4.52113748e-02,\n",
              "       -4.66980040e-04, -1.49564818e-03,  5.47862053e-03, -2.23822240e-02,\n",
              "        3.57365496e-02,  6.67059422e-03,  2.98206322e-02,  3.60502638e-02,\n",
              "       -2.36956365e-02,  2.59672664e-02,  1.92968287e-02,  2.69065760e-02,\n",
              "        1.84578821e-03, -7.33412802e-04, -3.24297771e-02, -1.54484138e-02,\n",
              "       -4.20575626e-02, -4.05519009e-02, -7.50728697e-03, -3.00743114e-02,\n",
              "       -2.42390279e-02, -2.51368433e-03,  3.29233520e-02,  1.46230310e-03,\n",
              "       -1.17605552e-02, -3.01539190e-02,  1.15100369e-02, -3.20840850e-02,\n",
              "        1.90686025e-02,  2.28327177e-02,  3.93683054e-02,  4.24992181e-02,\n",
              "        2.52401493e-02,  4.87163775e-02,  3.27321328e-02, -3.21284682e-02,\n",
              "       -1.36315227e-02, -2.94192433e-02, -7.83125311e-03, -4.40245047e-02,\n",
              "       -1.05926283e-02, -3.64460796e-03,  1.89365037e-02, -3.44761014e-02,\n",
              "        1.58293881e-02,  4.13349383e-02,  3.63653935e-02,  4.87291813e-03,\n",
              "       -2.58345734e-02, -2.26995945e-02,  4.00874764e-03, -9.71668959e-03,\n",
              "        1.85386874e-02,  4.71672527e-02, -6.82426617e-03,  3.32313776e-03],\n",
              "      dtype=float32)>"
            ]
          },
          "metadata": {},
          "execution_count": 41
        }
      ]
    },
    {
      "cell_type": "markdown",
      "source": [
        "# **MODELLING WITH THE TEXT DATASET**(Running a series of experiment's)\n",
        "More specifically, we'll be building the following:\n",
        "\n",
        "* **Model 0**: Naive Bayes (baseline)\n",
        "* **Model 1**: Feed-forward neural network (dense model)\n",
        "* **Model 2**: LSTM model\n",
        "* **Model 3**: GRU model\n",
        "* **Model 4**: Bidirectional-LSTM model\n",
        "* **Model 5**: 1D Convolutional Neural Network\n",
        "* **Model 6**: TensorFlow Hub Pretrained Feature Extractor\n",
        "* **Model 7**: Same as model 6 with 10% of training data"
      ],
      "metadata": {
        "id": "N61oFJ8_Nu5K"
      }
    },
    {
      "cell_type": "markdown",
      "source": [
        "# **MODEL 0**: NAIVE BAYES ( baseline model)\n",
        "\n",
        "As with all machine learning modelling experiments, it's important to create a baseline model so you've got a benchmark for future experiments to build upon.\n",
        "\n",
        "To create our baseline, we'll create a **Scikit-Learn Pipeline using the TF-IDF (term frequency-inverse document frequency) formula to convert our words to numbers** and then model them with the Multinomial Naive Bayes algorithm"
      ],
      "metadata": {
        "id": "btnOxcrhU0hz"
      }
    },
    {
      "cell_type": "code",
      "source": [
        "from sklearn.feature_extraction.text import TfidfVectorizer\n",
        "from sklearn.naive_bayes import MultinomialNB\n",
        "from sklearn.pipeline import Pipeline\n",
        "\n",
        "# create tokenization and modelling pipeline\n",
        "model_0=Pipeline([\n",
        "    (\"tfid\",TfidfVectorizer()), # convert text to numbers\n",
        "    (\"clf\",MultinomialNB())   # model the text\n",
        "\n",
        "])\n",
        "\n",
        "# fitting the model to training data\n",
        "model_0.fit(train_sentences,train_labels)"
      ],
      "metadata": {
        "id": "GIDDwdbBMf7Q",
        "colab": {
          "base_uri": "https://localhost:8080/",
          "height": 125
        },
        "outputId": "917f0a7d-fbb1-4a40-cd28-01aebde6af1e"
      },
      "execution_count": 42,
      "outputs": [
        {
          "output_type": "execute_result",
          "data": {
            "text/plain": [
              "Pipeline(steps=[('tfid', TfidfVectorizer()), ('clf', MultinomialNB())])"
            ],
            "text/html": [
              "<style>#sk-container-id-1 {color: black;}#sk-container-id-1 pre{padding: 0;}#sk-container-id-1 div.sk-toggleable {background-color: white;}#sk-container-id-1 label.sk-toggleable__label {cursor: pointer;display: block;width: 100%;margin-bottom: 0;padding: 0.3em;box-sizing: border-box;text-align: center;}#sk-container-id-1 label.sk-toggleable__label-arrow:before {content: \"▸\";float: left;margin-right: 0.25em;color: #696969;}#sk-container-id-1 label.sk-toggleable__label-arrow:hover:before {color: black;}#sk-container-id-1 div.sk-estimator:hover label.sk-toggleable__label-arrow:before {color: black;}#sk-container-id-1 div.sk-toggleable__content {max-height: 0;max-width: 0;overflow: hidden;text-align: left;background-color: #f0f8ff;}#sk-container-id-1 div.sk-toggleable__content pre {margin: 0.2em;color: black;border-radius: 0.25em;background-color: #f0f8ff;}#sk-container-id-1 input.sk-toggleable__control:checked~div.sk-toggleable__content {max-height: 200px;max-width: 100%;overflow: auto;}#sk-container-id-1 input.sk-toggleable__control:checked~label.sk-toggleable__label-arrow:before {content: \"▾\";}#sk-container-id-1 div.sk-estimator input.sk-toggleable__control:checked~label.sk-toggleable__label {background-color: #d4ebff;}#sk-container-id-1 div.sk-label input.sk-toggleable__control:checked~label.sk-toggleable__label {background-color: #d4ebff;}#sk-container-id-1 input.sk-hidden--visually {border: 0;clip: rect(1px 1px 1px 1px);clip: rect(1px, 1px, 1px, 1px);height: 1px;margin: -1px;overflow: hidden;padding: 0;position: absolute;width: 1px;}#sk-container-id-1 div.sk-estimator {font-family: monospace;background-color: #f0f8ff;border: 1px dotted black;border-radius: 0.25em;box-sizing: border-box;margin-bottom: 0.5em;}#sk-container-id-1 div.sk-estimator:hover {background-color: #d4ebff;}#sk-container-id-1 div.sk-parallel-item::after {content: \"\";width: 100%;border-bottom: 1px solid gray;flex-grow: 1;}#sk-container-id-1 div.sk-label:hover label.sk-toggleable__label {background-color: #d4ebff;}#sk-container-id-1 div.sk-serial::before {content: \"\";position: absolute;border-left: 1px solid gray;box-sizing: border-box;top: 0;bottom: 0;left: 50%;z-index: 0;}#sk-container-id-1 div.sk-serial {display: flex;flex-direction: column;align-items: center;background-color: white;padding-right: 0.2em;padding-left: 0.2em;position: relative;}#sk-container-id-1 div.sk-item {position: relative;z-index: 1;}#sk-container-id-1 div.sk-parallel {display: flex;align-items: stretch;justify-content: center;background-color: white;position: relative;}#sk-container-id-1 div.sk-item::before, #sk-container-id-1 div.sk-parallel-item::before {content: \"\";position: absolute;border-left: 1px solid gray;box-sizing: border-box;top: 0;bottom: 0;left: 50%;z-index: -1;}#sk-container-id-1 div.sk-parallel-item {display: flex;flex-direction: column;z-index: 1;position: relative;background-color: white;}#sk-container-id-1 div.sk-parallel-item:first-child::after {align-self: flex-end;width: 50%;}#sk-container-id-1 div.sk-parallel-item:last-child::after {align-self: flex-start;width: 50%;}#sk-container-id-1 div.sk-parallel-item:only-child::after {width: 0;}#sk-container-id-1 div.sk-dashed-wrapped {border: 1px dashed gray;margin: 0 0.4em 0.5em 0.4em;box-sizing: border-box;padding-bottom: 0.4em;background-color: white;}#sk-container-id-1 div.sk-label label {font-family: monospace;font-weight: bold;display: inline-block;line-height: 1.2em;}#sk-container-id-1 div.sk-label-container {text-align: center;}#sk-container-id-1 div.sk-container {/* jupyter's `normalize.less` sets `[hidden] { display: none; }` but bootstrap.min.css set `[hidden] { display: none !important; }` so we also need the `!important` here to be able to override the default hidden behavior on the sphinx rendered scikit-learn.org. See: https://github.com/scikit-learn/scikit-learn/issues/21755 */display: inline-block !important;position: relative;}#sk-container-id-1 div.sk-text-repr-fallback {display: none;}</style><div id=\"sk-container-id-1\" class=\"sk-top-container\"><div class=\"sk-text-repr-fallback\"><pre>Pipeline(steps=[(&#x27;tfid&#x27;, TfidfVectorizer()), (&#x27;clf&#x27;, MultinomialNB())])</pre><b>In a Jupyter environment, please rerun this cell to show the HTML representation or trust the notebook. <br />On GitHub, the HTML representation is unable to render, please try loading this page with nbviewer.org.</b></div><div class=\"sk-container\" hidden><div class=\"sk-item sk-dashed-wrapped\"><div class=\"sk-label-container\"><div class=\"sk-label sk-toggleable\"><input class=\"sk-toggleable__control sk-hidden--visually\" id=\"sk-estimator-id-1\" type=\"checkbox\" ><label for=\"sk-estimator-id-1\" class=\"sk-toggleable__label sk-toggleable__label-arrow\">Pipeline</label><div class=\"sk-toggleable__content\"><pre>Pipeline(steps=[(&#x27;tfid&#x27;, TfidfVectorizer()), (&#x27;clf&#x27;, MultinomialNB())])</pre></div></div></div><div class=\"sk-serial\"><div class=\"sk-item\"><div class=\"sk-estimator sk-toggleable\"><input class=\"sk-toggleable__control sk-hidden--visually\" id=\"sk-estimator-id-2\" type=\"checkbox\" ><label for=\"sk-estimator-id-2\" class=\"sk-toggleable__label sk-toggleable__label-arrow\">TfidfVectorizer</label><div class=\"sk-toggleable__content\"><pre>TfidfVectorizer()</pre></div></div></div><div class=\"sk-item\"><div class=\"sk-estimator sk-toggleable\"><input class=\"sk-toggleable__control sk-hidden--visually\" id=\"sk-estimator-id-3\" type=\"checkbox\" ><label for=\"sk-estimator-id-3\" class=\"sk-toggleable__label sk-toggleable__label-arrow\">MultinomialNB</label><div class=\"sk-toggleable__content\"><pre>MultinomialNB()</pre></div></div></div></div></div></div></div>"
            ]
          },
          "metadata": {},
          "execution_count": 42
        }
      ]
    },
    {
      "cell_type": "code",
      "source": [
        "# evaluate our baseline model\n",
        "baseline_model_score=model_0.score(val_sentences,val_labels)\n",
        "print(f\"our baseline model score is: \\n{baseline_model_score*100:.2f}%\")"
      ],
      "metadata": {
        "colab": {
          "base_uri": "https://localhost:8080/"
        },
        "id": "BKfBVgLfUz1B",
        "outputId": "010dc136-92bd-45c6-a6c4-bec93246b30c"
      },
      "execution_count": 43,
      "outputs": [
        {
          "output_type": "stream",
          "name": "stdout",
          "text": [
            "our baseline model score is: \n",
            "79.27%\n"
          ]
        }
      ]
    },
    {
      "cell_type": "code",
      "source": [
        "# make prediction\n",
        "baseline_model_pred=model_0.predict(val_sentences)\n",
        "baseline_model_pred[0:20]"
      ],
      "metadata": {
        "colab": {
          "base_uri": "https://localhost:8080/"
        },
        "id": "bRbptctnYOAU",
        "outputId": "0fde65d9-1837-46c8-c717-b07ced806f8a"
      },
      "execution_count": 44,
      "outputs": [
        {
          "output_type": "execute_result",
          "data": {
            "text/plain": [
              "array([1, 1, 1, 0, 0, 1, 1, 1, 1, 0, 0, 1, 0, 0, 0, 0, 0, 0, 0, 1])"
            ]
          },
          "metadata": {},
          "execution_count": 44
        }
      ]
    },
    {
      "cell_type": "markdown",
      "source": [
        "# **creating a function for evalaution of our model**\n",
        "let's create a helper function which takes an array of predictions and ground truth labels and computes the following:\n",
        "\n",
        "* Accuracy\n",
        "* Precision\n",
        "* Recall\n",
        "* F1-score\n",
        "\n",
        "🔑 Note: Since we're dealing with a classification problem, the above metrics are the most appropriate."
      ],
      "metadata": {
        "id": "jEGODy0waCw9"
      }
    },
    {
      "cell_type": "code",
      "source": [
        "from sklearn.metrics import accuracy_score, precision_recall_fscore_support\n",
        "def calcuate_results(y_true,y_pred):\n",
        "  # Calculate model accuracy\n",
        "  model_accuracy = accuracy_score(y_true, y_pred) * 100\n",
        "  # Calculate model precision, recall and f1 score using \"weighted\" average\n",
        "  model_precision, model_recall, model_f1, _ = precision_recall_fscore_support(y_true, y_pred, average=\"weighted\")\n",
        "  model_results = {\"accuracy\": model_accuracy,\n",
        "                  \"precision\": model_precision,\n",
        "                  \"recall\": model_recall,\n",
        "                  \"f1\": model_f1}\n",
        "  return model_results"
      ],
      "metadata": {
        "id": "ExHyQDt0ZVBZ"
      },
      "execution_count": 45,
      "outputs": []
    },
    {
      "cell_type": "code",
      "source": [
        "baseline_results=calcuate_results(y_true=val_labels,\n",
        "                  y_pred=baseline_model_pred)"
      ],
      "metadata": {
        "id": "GcVt4RNka_zM"
      },
      "execution_count": 46,
      "outputs": []
    },
    {
      "cell_type": "code",
      "source": [
        "baseline_results"
      ],
      "metadata": {
        "colab": {
          "base_uri": "https://localhost:8080/"
        },
        "id": "Iau1RxDrbW6u",
        "outputId": "bc00a269-b130-4a48-f2c2-814311fafc52"
      },
      "execution_count": 47,
      "outputs": [
        {
          "output_type": "execute_result",
          "data": {
            "text/plain": [
              "{'accuracy': 79.26509186351706,\n",
              " 'precision': 0.8111390004213173,\n",
              " 'recall': 0.7926509186351706,\n",
              " 'f1': 0.7862189758049549}"
            ]
          },
          "metadata": {},
          "execution_count": 47
        }
      ]
    },
    {
      "cell_type": "markdown",
      "source": [
        "# **MODEL 1**: Feed-forward neural network (**dense model**)"
      ],
      "metadata": {
        "id": "CPycRa8rd6Cu"
      }
    },
    {
      "cell_type": "code",
      "source": [
        "# create a tensorboard callback\n",
        "from helper_functions import create_tensorboard_callback\n",
        "\n",
        "# create a directory to save tensorboard log\n",
        "SAVE_DIR=\"model_logs\""
      ],
      "metadata": {
        "id": "KgDYTgTzbdwN"
      },
      "execution_count": 48,
      "outputs": []
    },
    {
      "cell_type": "code",
      "source": [
        "# Build a model with Functional API\n",
        "from tensorflow.keras import layers\n",
        "inputs=layers.Input(shape=(1,),dtype=tf.string) # fetching input as text\n",
        "x=text_vectorizer(inputs)\n",
        "x=embedding(x)\n",
        "x = layers.GlobalAveragePooling1D()(x) # lower the dimensionality of the embedding (try running the model without this layer and see what happens)\n",
        "outputs=layers.Dense(1,activation=\"sigmoid\")(x)\n",
        "model_1=tf.keras.Model(inputs,outputs,name=\"model_1_dense\")"
      ],
      "metadata": {
        "id": "5K9lj2KmeYe1"
      },
      "execution_count": 49,
      "outputs": []
    },
    {
      "cell_type": "code",
      "source": [
        "model_1.summary()"
      ],
      "metadata": {
        "colab": {
          "base_uri": "https://localhost:8080/",
          "height": 350
        },
        "id": "pL-oyv84fswc",
        "outputId": "5ce01b71-5328-49d0-d20f-e59163919741"
      },
      "execution_count": 50,
      "outputs": [
        {
          "output_type": "display_data",
          "data": {
            "text/plain": [
              "\u001b[1mModel: \"model_1_dense\"\u001b[0m\n"
            ],
            "text/html": [
              "<pre style=\"white-space:pre;overflow-x:auto;line-height:normal;font-family:Menlo,'DejaVu Sans Mono',consolas,'Courier New',monospace\"><span style=\"font-weight: bold\">Model: \"model_1_dense\"</span>\n",
              "</pre>\n"
            ]
          },
          "metadata": {}
        },
        {
          "output_type": "display_data",
          "data": {
            "text/plain": [
              "┏━━━━━━━━━━━━━━━━━━━━━━━━━━━━━━━━━━━━━━┳━━━━━━━━━━━━━━━━━━━━━━━━━━━━━┳━━━━━━━━━━━━━━━━━┓\n",
              "┃\u001b[1m \u001b[0m\u001b[1mLayer (type)                        \u001b[0m\u001b[1m \u001b[0m┃\u001b[1m \u001b[0m\u001b[1mOutput Shape               \u001b[0m\u001b[1m \u001b[0m┃\u001b[1m \u001b[0m\u001b[1m        Param #\u001b[0m\u001b[1m \u001b[0m┃\n",
              "┡━━━━━━━━━━━━━━━━━━━━━━━━━━━━━━━━━━━━━━╇━━━━━━━━━━━━━━━━━━━━━━━━━━━━━╇━━━━━━━━━━━━━━━━━┩\n",
              "│ input_layer (\u001b[38;5;33mInputLayer\u001b[0m)             │ (\u001b[38;5;45mNone\u001b[0m, \u001b[38;5;34m1\u001b[0m)                   │               \u001b[38;5;34m0\u001b[0m │\n",
              "├──────────────────────────────────────┼─────────────────────────────┼─────────────────┤\n",
              "│ text_vectorization_3                 │ (\u001b[38;5;45mNone\u001b[0m, \u001b[38;5;34m15\u001b[0m)                  │               \u001b[38;5;34m0\u001b[0m │\n",
              "│ (\u001b[38;5;33mTextVectorization\u001b[0m)                  │                             │                 │\n",
              "├──────────────────────────────────────┼─────────────────────────────┼─────────────────┤\n",
              "│ embedding_layer (\u001b[38;5;33mEmbedding\u001b[0m)          │ (\u001b[38;5;45mNone\u001b[0m, \u001b[38;5;34m15\u001b[0m, \u001b[38;5;34m128\u001b[0m)             │       \u001b[38;5;34m1,280,000\u001b[0m │\n",
              "├──────────────────────────────────────┼─────────────────────────────┼─────────────────┤\n",
              "│ global_average_pooling1d             │ (\u001b[38;5;45mNone\u001b[0m, \u001b[38;5;34m128\u001b[0m)                 │               \u001b[38;5;34m0\u001b[0m │\n",
              "│ (\u001b[38;5;33mGlobalAveragePooling1D\u001b[0m)             │                             │                 │\n",
              "├──────────────────────────────────────┼─────────────────────────────┼─────────────────┤\n",
              "│ dense (\u001b[38;5;33mDense\u001b[0m)                        │ (\u001b[38;5;45mNone\u001b[0m, \u001b[38;5;34m1\u001b[0m)                   │             \u001b[38;5;34m129\u001b[0m │\n",
              "└──────────────────────────────────────┴─────────────────────────────┴─────────────────┘\n"
            ],
            "text/html": [
              "<pre style=\"white-space:pre;overflow-x:auto;line-height:normal;font-family:Menlo,'DejaVu Sans Mono',consolas,'Courier New',monospace\">┏━━━━━━━━━━━━━━━━━━━━━━━━━━━━━━━━━━━━━━┳━━━━━━━━━━━━━━━━━━━━━━━━━━━━━┳━━━━━━━━━━━━━━━━━┓\n",
              "┃<span style=\"font-weight: bold\"> Layer (type)                         </span>┃<span style=\"font-weight: bold\"> Output Shape                </span>┃<span style=\"font-weight: bold\">         Param # </span>┃\n",
              "┡━━━━━━━━━━━━━━━━━━━━━━━━━━━━━━━━━━━━━━╇━━━━━━━━━━━━━━━━━━━━━━━━━━━━━╇━━━━━━━━━━━━━━━━━┩\n",
              "│ input_layer (<span style=\"color: #0087ff; text-decoration-color: #0087ff\">InputLayer</span>)             │ (<span style=\"color: #00d7ff; text-decoration-color: #00d7ff\">None</span>, <span style=\"color: #00af00; text-decoration-color: #00af00\">1</span>)                   │               <span style=\"color: #00af00; text-decoration-color: #00af00\">0</span> │\n",
              "├──────────────────────────────────────┼─────────────────────────────┼─────────────────┤\n",
              "│ text_vectorization_3                 │ (<span style=\"color: #00d7ff; text-decoration-color: #00d7ff\">None</span>, <span style=\"color: #00af00; text-decoration-color: #00af00\">15</span>)                  │               <span style=\"color: #00af00; text-decoration-color: #00af00\">0</span> │\n",
              "│ (<span style=\"color: #0087ff; text-decoration-color: #0087ff\">TextVectorization</span>)                  │                             │                 │\n",
              "├──────────────────────────────────────┼─────────────────────────────┼─────────────────┤\n",
              "│ embedding_layer (<span style=\"color: #0087ff; text-decoration-color: #0087ff\">Embedding</span>)          │ (<span style=\"color: #00d7ff; text-decoration-color: #00d7ff\">None</span>, <span style=\"color: #00af00; text-decoration-color: #00af00\">15</span>, <span style=\"color: #00af00; text-decoration-color: #00af00\">128</span>)             │       <span style=\"color: #00af00; text-decoration-color: #00af00\">1,280,000</span> │\n",
              "├──────────────────────────────────────┼─────────────────────────────┼─────────────────┤\n",
              "│ global_average_pooling1d             │ (<span style=\"color: #00d7ff; text-decoration-color: #00d7ff\">None</span>, <span style=\"color: #00af00; text-decoration-color: #00af00\">128</span>)                 │               <span style=\"color: #00af00; text-decoration-color: #00af00\">0</span> │\n",
              "│ (<span style=\"color: #0087ff; text-decoration-color: #0087ff\">GlobalAveragePooling1D</span>)             │                             │                 │\n",
              "├──────────────────────────────────────┼─────────────────────────────┼─────────────────┤\n",
              "│ dense (<span style=\"color: #0087ff; text-decoration-color: #0087ff\">Dense</span>)                        │ (<span style=\"color: #00d7ff; text-decoration-color: #00d7ff\">None</span>, <span style=\"color: #00af00; text-decoration-color: #00af00\">1</span>)                   │             <span style=\"color: #00af00; text-decoration-color: #00af00\">129</span> │\n",
              "└──────────────────────────────────────┴─────────────────────────────┴─────────────────┘\n",
              "</pre>\n"
            ]
          },
          "metadata": {}
        },
        {
          "output_type": "display_data",
          "data": {
            "text/plain": [
              "\u001b[1m Total params: \u001b[0m\u001b[38;5;34m1,280,129\u001b[0m (4.88 MB)\n"
            ],
            "text/html": [
              "<pre style=\"white-space:pre;overflow-x:auto;line-height:normal;font-family:Menlo,'DejaVu Sans Mono',consolas,'Courier New',monospace\"><span style=\"font-weight: bold\"> Total params: </span><span style=\"color: #00af00; text-decoration-color: #00af00\">1,280,129</span> (4.88 MB)\n",
              "</pre>\n"
            ]
          },
          "metadata": {}
        },
        {
          "output_type": "display_data",
          "data": {
            "text/plain": [
              "\u001b[1m Trainable params: \u001b[0m\u001b[38;5;34m1,280,129\u001b[0m (4.88 MB)\n"
            ],
            "text/html": [
              "<pre style=\"white-space:pre;overflow-x:auto;line-height:normal;font-family:Menlo,'DejaVu Sans Mono',consolas,'Courier New',monospace\"><span style=\"font-weight: bold\"> Trainable params: </span><span style=\"color: #00af00; text-decoration-color: #00af00\">1,280,129</span> (4.88 MB)\n",
              "</pre>\n"
            ]
          },
          "metadata": {}
        },
        {
          "output_type": "display_data",
          "data": {
            "text/plain": [
              "\u001b[1m Non-trainable params: \u001b[0m\u001b[38;5;34m0\u001b[0m (0.00 B)\n"
            ],
            "text/html": [
              "<pre style=\"white-space:pre;overflow-x:auto;line-height:normal;font-family:Menlo,'DejaVu Sans Mono',consolas,'Courier New',monospace\"><span style=\"font-weight: bold\"> Non-trainable params: </span><span style=\"color: #00af00; text-decoration-color: #00af00\">0</span> (0.00 B)\n",
              "</pre>\n"
            ]
          },
          "metadata": {}
        }
      ]
    },
    {
      "cell_type": "code",
      "source": [
        "# compiling the model\n",
        "model_1.compile(loss=tf.keras.losses.BinaryCrossentropy,\n",
        "                optimizer=tf.keras.optimizers.Adam(),\n",
        "                metrics=['accuracy'])\n"
      ],
      "metadata": {
        "id": "SIrcvRFsgyx4"
      },
      "execution_count": 51,
      "outputs": []
    },
    {
      "cell_type": "code",
      "source": [
        "# Fit the model\n",
        "model_1_history = model_1.fit(train_sentences, # input sentences can be a list of strings due to text preprocessing layer built-in model\n",
        "                              train_labels,\n",
        "                              epochs=5,\n",
        "                              validation_data=(val_sentences, val_labels),\n",
        "                              callbacks=[create_tensorboard_callback(dir_name=SAVE_DIR,\n",
        "                                                                     experiment_name=\"simple_dense_model\")])"
      ],
      "metadata": {
        "colab": {
          "base_uri": "https://localhost:8080/"
        },
        "id": "bVfl-765hRSi",
        "outputId": "719438bf-9a69-47a0-b198-2cfa17131500"
      },
      "execution_count": 52,
      "outputs": [
        {
          "output_type": "stream",
          "name": "stdout",
          "text": [
            "Saving TensorBoard log files to: model_logs/simple_dense_model/20240827-035554\n",
            "Epoch 1/5\n"
          ]
        },
        {
          "output_type": "stream",
          "name": "stderr",
          "text": [
            "/usr/local/lib/python3.10/dist-packages/keras/src/callbacks/tensorboard.py:667: UserWarning: Model failed to serialize as JSON. Ignoring... BinaryCrossentropy.get_config() missing 1 required positional argument: 'self'\n",
            "  warnings.warn(f\"Model failed to serialize as JSON. Ignoring... {exc}\")\n"
          ]
        },
        {
          "output_type": "stream",
          "name": "stdout",
          "text": [
            "\u001b[1m215/215\u001b[0m \u001b[32m━━━━━━━━━━━━━━━━━━━━\u001b[0m\u001b[37m\u001b[0m \u001b[1m5s\u001b[0m 12ms/step - accuracy: 0.6405 - loss: 0.6509 - val_accuracy: 0.7612 - val_loss: 0.5354\n",
            "Epoch 2/5\n",
            "\u001b[1m215/215\u001b[0m \u001b[32m━━━━━━━━━━━━━━━━━━━━\u001b[0m\u001b[37m\u001b[0m \u001b[1m2s\u001b[0m 5ms/step - accuracy: 0.8066 - loss: 0.4678 - val_accuracy: 0.7927 - val_loss: 0.4746\n",
            "Epoch 3/5\n",
            "\u001b[1m215/215\u001b[0m \u001b[32m━━━━━━━━━━━━━━━━━━━━\u001b[0m\u001b[37m\u001b[0m \u001b[1m1s\u001b[0m 5ms/step - accuracy: 0.8528 - loss: 0.3634 - val_accuracy: 0.7966 - val_loss: 0.4622\n",
            "Epoch 4/5\n",
            "\u001b[1m215/215\u001b[0m \u001b[32m━━━━━━━━━━━━━━━━━━━━\u001b[0m\u001b[37m\u001b[0m \u001b[1m1s\u001b[0m 5ms/step - accuracy: 0.8857 - loss: 0.2970 - val_accuracy: 0.7874 - val_loss: 0.4681\n",
            "Epoch 5/5\n",
            "\u001b[1m215/215\u001b[0m \u001b[32m━━━━━━━━━━━━━━━━━━━━\u001b[0m\u001b[37m\u001b[0m \u001b[1m1s\u001b[0m 6ms/step - accuracy: 0.9057 - loss: 0.2482 - val_accuracy: 0.7769 - val_loss: 0.4836\n"
          ]
        }
      ]
    },
    {
      "cell_type": "code",
      "source": [
        "# evaluating it\n",
        "model_1.evaluate(val_sentences,val_labels)"
      ],
      "metadata": {
        "colab": {
          "base_uri": "https://localhost:8080/"
        },
        "id": "whFe9HiJixXd",
        "outputId": "b002b87e-08b6-4b30-f0b9-945e66a38393"
      },
      "execution_count": 53,
      "outputs": [
        {
          "output_type": "stream",
          "name": "stdout",
          "text": [
            "\u001b[1m24/24\u001b[0m \u001b[32m━━━━━━━━━━━━━━━━━━━━\u001b[0m\u001b[37m\u001b[0m \u001b[1m0s\u001b[0m 3ms/step - accuracy: 0.7670 - loss: 0.5158\n"
          ]
        },
        {
          "output_type": "execute_result",
          "data": {
            "text/plain": [
              "[0.48364073038101196, 0.7769029140472412]"
            ]
          },
          "metadata": {},
          "execution_count": 53
        }
      ]
    },
    {
      "cell_type": "code",
      "source": [
        "# make prediction and evaluating it\n",
        "model_1_pred_probs=model_1.predict(val_sentences)\n",
        "model_1_pred_probs"
      ],
      "metadata": {
        "colab": {
          "base_uri": "https://localhost:8080/"
        },
        "collapsed": true,
        "id": "pOs02wf2jVRy",
        "outputId": "ad1c7850-38ea-441b-f3df-b5172d63adfa"
      },
      "execution_count": 54,
      "outputs": [
        {
          "output_type": "stream",
          "name": "stdout",
          "text": [
            "\u001b[1m24/24\u001b[0m \u001b[32m━━━━━━━━━━━━━━━━━━━━\u001b[0m\u001b[37m\u001b[0m \u001b[1m1s\u001b[0m 9ms/step\n"
          ]
        },
        {
          "output_type": "execute_result",
          "data": {
            "text/plain": [
              "array([[3.28996569e-01],\n",
              "       [7.34534204e-01],\n",
              "       [9.97789741e-01],\n",
              "       [1.89822480e-01],\n",
              "       [9.97216925e-02],\n",
              "       [9.42521930e-01],\n",
              "       [8.95433187e-01],\n",
              "       [9.94333982e-01],\n",
              "       [9.62197840e-01],\n",
              "       [3.80900085e-01],\n",
              "       [1.23831041e-01],\n",
              "       [7.05145419e-01],\n",
              "       [3.90062407e-02],\n",
              "       [2.46043146e-01],\n",
              "       [4.24915645e-03],\n",
              "       [1.54950157e-01],\n",
              "       [2.29637139e-02],\n",
              "       [7.53095150e-02],\n",
              "       [2.67096937e-01],\n",
              "       [5.34985960e-01],\n",
              "       [9.03853774e-01],\n",
              "       [4.22058180e-02],\n",
              "       [3.66915226e-01],\n",
              "       [1.08511128e-01],\n",
              "       [9.46890712e-01],\n",
              "       [9.98862386e-01],\n",
              "       [4.41166461e-02],\n",
              "       [6.53793439e-02],\n",
              "       [2.31062956e-02],\n",
              "       [2.00263694e-01],\n",
              "       [5.99747837e-01],\n",
              "       [3.30624551e-01],\n",
              "       [5.24938881e-01],\n",
              "       [1.57817483e-01],\n",
              "       [4.18865383e-01],\n",
              "       [6.19560853e-02],\n",
              "       [9.96063173e-01],\n",
              "       [2.06967279e-01],\n",
              "       [3.32529433e-02],\n",
              "       [9.98704314e-01],\n",
              "       [2.22296417e-01],\n",
              "       [1.87421627e-02],\n",
              "       [3.49923939e-01],\n",
              "       [5.06170914e-02],\n",
              "       [6.61696494e-01],\n",
              "       [9.86155212e-01],\n",
              "       [3.88046503e-01],\n",
              "       [9.02240098e-01],\n",
              "       [2.52353162e-01],\n",
              "       [6.00450039e-01],\n",
              "       [5.00033759e-02],\n",
              "       [6.29229248e-01],\n",
              "       [4.65238750e-01],\n",
              "       [3.21911424e-02],\n",
              "       [1.30195990e-01],\n",
              "       [3.20963487e-02],\n",
              "       [2.14013070e-01],\n",
              "       [9.53400731e-01],\n",
              "       [9.77914706e-02],\n",
              "       [3.18634626e-03],\n",
              "       [2.18808174e-01],\n",
              "       [9.66836751e-01],\n",
              "       [9.01305377e-01],\n",
              "       [1.63094372e-01],\n",
              "       [9.32435989e-01],\n",
              "       [9.77351606e-01],\n",
              "       [7.10240662e-01],\n",
              "       [3.29723239e-01],\n",
              "       [1.24444433e-01],\n",
              "       [1.90424353e-01],\n",
              "       [9.95583832e-02],\n",
              "       [3.95418666e-02],\n",
              "       [9.33417916e-01],\n",
              "       [2.03265905e-01],\n",
              "       [1.36502564e-01],\n",
              "       [4.47294891e-01],\n",
              "       [4.92458433e-01],\n",
              "       [8.25974941e-01],\n",
              "       [3.09915125e-01],\n",
              "       [5.48623562e-01],\n",
              "       [5.35977066e-01],\n",
              "       [3.39269340e-01],\n",
              "       [9.96807575e-01],\n",
              "       [1.19925961e-01],\n",
              "       [1.90308452e-01],\n",
              "       [9.39711630e-02],\n",
              "       [3.16631235e-02],\n",
              "       [1.00038327e-01],\n",
              "       [6.55757070e-01],\n",
              "       [8.71622086e-01],\n",
              "       [9.93724287e-01],\n",
              "       [8.13577510e-03],\n",
              "       [5.23320794e-01],\n",
              "       [2.34323200e-02],\n",
              "       [9.81512308e-01],\n",
              "       [7.36019015e-01],\n",
              "       [8.50805581e-01],\n",
              "       [9.70635653e-01],\n",
              "       [9.08260465e-01],\n",
              "       [9.47092950e-01],\n",
              "       [9.99295831e-01],\n",
              "       [2.16773704e-01],\n",
              "       [1.63346026e-02],\n",
              "       [9.13138509e-01],\n",
              "       [9.19198692e-01],\n",
              "       [9.68720764e-02],\n",
              "       [8.62611234e-01],\n",
              "       [9.82292593e-01],\n",
              "       [6.76878616e-02],\n",
              "       [4.17705685e-01],\n",
              "       [6.51883423e-01],\n",
              "       [4.26769294e-02],\n",
              "       [3.12122881e-01],\n",
              "       [1.61848649e-01],\n",
              "       [1.48410916e-01],\n",
              "       [4.20662433e-01],\n",
              "       [4.76294637e-01],\n",
              "       [6.88909054e-01],\n",
              "       [7.56514907e-01],\n",
              "       [8.01759809e-02],\n",
              "       [9.99794781e-01],\n",
              "       [8.74404460e-02],\n",
              "       [1.11675546e-01],\n",
              "       [7.73874402e-01],\n",
              "       [4.20046598e-01],\n",
              "       [3.60390872e-01],\n",
              "       [8.36707294e-01],\n",
              "       [9.97985713e-03],\n",
              "       [9.67517868e-02],\n",
              "       [8.77373993e-01],\n",
              "       [1.27833977e-01],\n",
              "       [9.99794781e-01],\n",
              "       [9.99775469e-01],\n",
              "       [9.98862386e-01],\n",
              "       [9.86335754e-01],\n",
              "       [7.45328814e-02],\n",
              "       [9.76256847e-01],\n",
              "       [2.09186003e-01],\n",
              "       [3.40261638e-01],\n",
              "       [7.37330168e-02],\n",
              "       [9.97242689e-01],\n",
              "       [4.30829108e-01],\n",
              "       [2.46043146e-01],\n",
              "       [9.63204205e-01],\n",
              "       [3.63683730e-01],\n",
              "       [5.57365775e-01],\n",
              "       [3.61301266e-02],\n",
              "       [8.42778385e-03],\n",
              "       [2.01937363e-01],\n",
              "       [9.77162659e-01],\n",
              "       [2.90315539e-01],\n",
              "       [8.16599429e-02],\n",
              "       [4.74150985e-01],\n",
              "       [1.82571620e-01],\n",
              "       [2.68087059e-01],\n",
              "       [9.91519988e-01],\n",
              "       [7.43107736e-01],\n",
              "       [4.07854587e-01],\n",
              "       [9.90299225e-01],\n",
              "       [2.33268254e-02],\n",
              "       [9.74100053e-01],\n",
              "       [4.52698544e-02],\n",
              "       [2.75497109e-01],\n",
              "       [9.93353724e-01],\n",
              "       [3.06356519e-01],\n",
              "       [6.75867498e-02],\n",
              "       [9.98620749e-01],\n",
              "       [4.48994488e-01],\n",
              "       [9.84389484e-01],\n",
              "       [2.77042270e-01],\n",
              "       [9.94560301e-01],\n",
              "       [8.54550779e-01],\n",
              "       [8.18018973e-01],\n",
              "       [2.15830803e-02],\n",
              "       [9.98199463e-01],\n",
              "       [1.00390770e-01],\n",
              "       [3.54547441e-01],\n",
              "       [4.68307972e-01],\n",
              "       [7.99694121e-01],\n",
              "       [9.93440092e-01],\n",
              "       [1.85185838e-02],\n",
              "       [7.70874143e-01],\n",
              "       [7.10944772e-01],\n",
              "       [9.64094460e-01],\n",
              "       [9.70443070e-01],\n",
              "       [3.74840647e-01],\n",
              "       [1.41001582e-01],\n",
              "       [9.99796093e-01],\n",
              "       [1.72452182e-02],\n",
              "       [2.73286682e-02],\n",
              "       [9.66354087e-02],\n",
              "       [9.43477213e-01],\n",
              "       [6.61819577e-02],\n",
              "       [2.87334561e-01],\n",
              "       [1.59732588e-02],\n",
              "       [8.10507908e-02],\n",
              "       [5.43073975e-02],\n",
              "       [2.65213519e-01],\n",
              "       [7.37264693e-01],\n",
              "       [6.01613149e-02],\n",
              "       [3.71451557e-01],\n",
              "       [8.66216362e-01],\n",
              "       [9.71221030e-01],\n",
              "       [3.16383511e-01],\n",
              "       [1.16168536e-01],\n",
              "       [9.99867797e-01],\n",
              "       [5.27812719e-01],\n",
              "       [9.16739464e-01],\n",
              "       [6.70904756e-01],\n",
              "       [8.39531004e-01],\n",
              "       [3.76109064e-01],\n",
              "       [9.85494733e-01],\n",
              "       [1.87484473e-02],\n",
              "       [1.71698734e-01],\n",
              "       [7.14749377e-03],\n",
              "       [5.65798767e-03],\n",
              "       [9.38466012e-01],\n",
              "       [8.19011986e-01],\n",
              "       [8.98450434e-01],\n",
              "       [1.95806846e-01],\n",
              "       [6.77794874e-01],\n",
              "       [7.80044198e-02],\n",
              "       [2.19186600e-02],\n",
              "       [1.47228539e-01],\n",
              "       [9.84965563e-01],\n",
              "       [1.57745361e-01],\n",
              "       [5.13933539e-01],\n",
              "       [9.95146215e-01],\n",
              "       [6.50711477e-01],\n",
              "       [5.65996647e-01],\n",
              "       [1.07201025e-01],\n",
              "       [1.83365837e-01],\n",
              "       [8.49659622e-01],\n",
              "       [3.21108431e-01],\n",
              "       [6.61678553e-01],\n",
              "       [2.00893715e-01],\n",
              "       [5.57530224e-01],\n",
              "       [3.53413880e-01],\n",
              "       [1.29675984e-01],\n",
              "       [8.85066390e-02],\n",
              "       [4.30783451e-01],\n",
              "       [2.22662255e-01],\n",
              "       [9.99889493e-01],\n",
              "       [9.90320027e-01],\n",
              "       [9.06045511e-02],\n",
              "       [2.19982471e-02],\n",
              "       [8.77072036e-01],\n",
              "       [1.05248451e-01],\n",
              "       [8.79796669e-02],\n",
              "       [4.06423867e-01],\n",
              "       [5.65438233e-02],\n",
              "       [6.04191661e-01],\n",
              "       [7.55924091e-04],\n",
              "       [4.21063840e-01],\n",
              "       [9.19785082e-01],\n",
              "       [3.38868946e-01],\n",
              "       [9.74990904e-01],\n",
              "       [9.98707771e-01],\n",
              "       [3.19730461e-01],\n",
              "       [1.47213131e-01],\n",
              "       [3.04360271e-01],\n",
              "       [4.23666500e-02],\n",
              "       [4.91823070e-03],\n",
              "       [9.82949257e-01],\n",
              "       [9.63409424e-01],\n",
              "       [6.56082273e-01],\n",
              "       [9.66815889e-01],\n",
              "       [6.53679073e-02],\n",
              "       [1.72714382e-01],\n",
              "       [8.94464273e-03],\n",
              "       [1.54069975e-01],\n",
              "       [2.73221750e-02],\n",
              "       [9.65124488e-01],\n",
              "       [8.84090140e-02],\n",
              "       [8.92892759e-03],\n",
              "       [9.83128190e-01],\n",
              "       [7.75493123e-03],\n",
              "       [9.97754037e-02],\n",
              "       [9.87937868e-01],\n",
              "       [4.15537693e-02],\n",
              "       [1.17008224e-01],\n",
              "       [6.15130411e-03],\n",
              "       [9.70080912e-01],\n",
              "       [5.92964947e-01],\n",
              "       [7.92974412e-01],\n",
              "       [7.19968855e-01],\n",
              "       [4.70451832e-01],\n",
              "       [6.41993135e-02],\n",
              "       [9.29194510e-01],\n",
              "       [5.09885065e-02],\n",
              "       [7.81310618e-01],\n",
              "       [4.22029942e-01],\n",
              "       [3.87913615e-01],\n",
              "       [3.43647033e-01],\n",
              "       [1.85695946e-01],\n",
              "       [7.67400324e-01],\n",
              "       [2.19401151e-01],\n",
              "       [7.23058522e-01],\n",
              "       [1.30115598e-01],\n",
              "       [7.71231413e-01],\n",
              "       [3.12340111e-02],\n",
              "       [7.80192539e-02],\n",
              "       [2.32926488e-01],\n",
              "       [9.85332072e-01],\n",
              "       [2.07659379e-01],\n",
              "       [1.26603290e-01],\n",
              "       [2.90787876e-01],\n",
              "       [3.08321267e-01],\n",
              "       [1.08192518e-01],\n",
              "       [4.29632291e-02],\n",
              "       [3.22658941e-02],\n",
              "       [9.82535839e-01],\n",
              "       [4.43492144e-01],\n",
              "       [2.74925768e-01],\n",
              "       [9.99819100e-01],\n",
              "       [4.78018112e-02],\n",
              "       [6.72814250e-01],\n",
              "       [2.83109218e-01],\n",
              "       [3.89565378e-02],\n",
              "       [2.37345755e-01],\n",
              "       [1.81631923e-01],\n",
              "       [1.66666657e-01],\n",
              "       [9.37163949e-01],\n",
              "       [2.88435698e-01],\n",
              "       [9.88853812e-01],\n",
              "       [1.17236637e-01],\n",
              "       [3.50646712e-02],\n",
              "       [9.96661901e-01],\n",
              "       [1.98201835e-02],\n",
              "       [9.96144056e-01],\n",
              "       [1.37413025e-01],\n",
              "       [5.02810851e-02],\n",
              "       [9.69103575e-01],\n",
              "       [4.90965173e-02],\n",
              "       [3.43868062e-02],\n",
              "       [9.81619000e-01],\n",
              "       [7.97758438e-03],\n",
              "       [2.15423629e-01],\n",
              "       [7.19535351e-01],\n",
              "       [9.18301821e-01],\n",
              "       [5.97666856e-03],\n",
              "       [1.66574329e-01],\n",
              "       [9.82508361e-01],\n",
              "       [9.64954376e-01],\n",
              "       [7.60759950e-01],\n",
              "       [4.77391124e-01],\n",
              "       [5.25017321e-01],\n",
              "       [4.23198223e-01],\n",
              "       [6.96276799e-02],\n",
              "       [9.82769951e-02],\n",
              "       [1.56881496e-01],\n",
              "       [7.98852682e-01],\n",
              "       [3.35338563e-02],\n",
              "       [3.99398565e-01],\n",
              "       [3.77867907e-01],\n",
              "       [1.36596039e-02],\n",
              "       [9.80022311e-01],\n",
              "       [9.98862386e-01],\n",
              "       [9.93449509e-01],\n",
              "       [3.52463126e-02],\n",
              "       [2.83424467e-01],\n",
              "       [1.27707899e-01],\n",
              "       [3.73028040e-01],\n",
              "       [7.79486358e-01],\n",
              "       [2.15780973e-01],\n",
              "       [2.13621873e-02],\n",
              "       [1.03791885e-01],\n",
              "       [3.86095494e-02],\n",
              "       [5.44719696e-01],\n",
              "       [9.65582393e-03],\n",
              "       [1.94261551e-01],\n",
              "       [4.41326424e-02],\n",
              "       [3.41498405e-01],\n",
              "       [3.18727732e-01],\n",
              "       [4.64015096e-01],\n",
              "       [2.70209432e-01],\n",
              "       [5.90355061e-02],\n",
              "       [3.16009879e-01],\n",
              "       [6.89523518e-02],\n",
              "       [9.97241974e-01],\n",
              "       [9.20452893e-01],\n",
              "       [5.47101080e-01],\n",
              "       [7.28257418e-01],\n",
              "       [2.49985438e-02],\n",
              "       [5.38763404e-01],\n",
              "       [9.91605401e-01],\n",
              "       [7.05317676e-01],\n",
              "       [2.56656170e-01],\n",
              "       [9.86661971e-01],\n",
              "       [1.85691893e-01],\n",
              "       [9.46220517e-01],\n",
              "       [2.93037593e-01],\n",
              "       [2.82477550e-02],\n",
              "       [5.10068953e-01],\n",
              "       [4.98171121e-01],\n",
              "       [9.96397436e-01],\n",
              "       [1.47755027e-01],\n",
              "       [5.02269417e-02],\n",
              "       [7.08935484e-02],\n",
              "       [2.15780973e-01],\n",
              "       [9.99206841e-01],\n",
              "       [2.44985539e-02],\n",
              "       [7.53352880e-01],\n",
              "       [9.70806420e-01],\n",
              "       [7.70432055e-02],\n",
              "       [9.99794781e-01],\n",
              "       [3.28293853e-02],\n",
              "       [3.97703469e-01],\n",
              "       [5.89192249e-02],\n",
              "       [7.44613767e-01],\n",
              "       [9.09471452e-01],\n",
              "       [7.51913488e-02],\n",
              "       [1.46271859e-03],\n",
              "       [2.47074202e-01],\n",
              "       [9.89204705e-01],\n",
              "       [9.09158409e-01],\n",
              "       [1.41184419e-01],\n",
              "       [3.83583009e-01],\n",
              "       [6.69571519e-01],\n",
              "       [3.80571857e-02],\n",
              "       [9.90071118e-01],\n",
              "       [4.62957889e-01],\n",
              "       [9.98892963e-01],\n",
              "       [9.20269608e-01],\n",
              "       [9.86347049e-02],\n",
              "       [3.18247467e-01],\n",
              "       [9.27839801e-02],\n",
              "       [9.45181549e-01],\n",
              "       [7.54072130e-01],\n",
              "       [3.56403500e-01],\n",
              "       [5.26519269e-02],\n",
              "       [3.06153119e-01],\n",
              "       [4.38774638e-02],\n",
              "       [8.14358220e-02],\n",
              "       [1.25422344e-01],\n",
              "       [3.65146995e-01],\n",
              "       [5.53161561e-01],\n",
              "       [1.85101256e-01],\n",
              "       [9.99030113e-01],\n",
              "       [9.85052109e-01],\n",
              "       [2.70022064e-01],\n",
              "       [7.34534204e-01],\n",
              "       [1.91165403e-01],\n",
              "       [3.49840410e-02],\n",
              "       [3.94615322e-01],\n",
              "       [6.28182292e-01],\n",
              "       [9.52413827e-02],\n",
              "       [2.59717762e-01],\n",
              "       [2.25919485e-02],\n",
              "       [5.00909150e-01],\n",
              "       [1.84880698e-03],\n",
              "       [9.35342073e-01],\n",
              "       [9.72857296e-01],\n",
              "       [9.95089889e-01],\n",
              "       [9.75647688e-01],\n",
              "       [8.39853346e-01],\n",
              "       [1.28929347e-01],\n",
              "       [5.93521968e-02],\n",
              "       [6.99203849e-01],\n",
              "       [9.00019467e-01],\n",
              "       [9.98485267e-01],\n",
              "       [3.19800503e-03],\n",
              "       [1.34250939e-01],\n",
              "       [1.70063496e-01],\n",
              "       [9.99136269e-01],\n",
              "       [9.99512196e-01],\n",
              "       [3.23228329e-01],\n",
              "       [1.34500131e-01],\n",
              "       [9.97016430e-01],\n",
              "       [6.90382719e-02],\n",
              "       [4.22855943e-01],\n",
              "       [9.83957052e-01],\n",
              "       [1.69115424e-01],\n",
              "       [8.23883638e-02],\n",
              "       [9.47381318e-01],\n",
              "       [3.37206602e-01],\n",
              "       [4.59676296e-01],\n",
              "       [9.72036183e-01],\n",
              "       [1.38958171e-02],\n",
              "       [5.69827668e-02],\n",
              "       [1.07973740e-02],\n",
              "       [2.07261890e-02],\n",
              "       [9.22844782e-02],\n",
              "       [9.71278250e-01],\n",
              "       [2.97432803e-02],\n",
              "       [4.12616789e-01],\n",
              "       [4.98072445e-01],\n",
              "       [9.88447294e-02],\n",
              "       [2.95686334e-01],\n",
              "       [9.17774662e-02],\n",
              "       [3.30275327e-01],\n",
              "       [9.97409642e-01],\n",
              "       [6.36378229e-01],\n",
              "       [1.16607040e-01],\n",
              "       [1.52353615e-01],\n",
              "       [1.37147024e-01],\n",
              "       [8.87256414e-02],\n",
              "       [7.14662790e-01],\n",
              "       [1.75935496e-02],\n",
              "       [9.18659925e-01],\n",
              "       [7.72678375e-01],\n",
              "       [5.95771432e-01],\n",
              "       [6.78034186e-01],\n",
              "       [7.62730837e-01],\n",
              "       [1.06729575e-01],\n",
              "       [3.99072886e-01],\n",
              "       [4.29043233e-01],\n",
              "       [8.84545088e-01],\n",
              "       [2.31214091e-01],\n",
              "       [3.32178354e-01],\n",
              "       [3.90469879e-01],\n",
              "       [1.68076027e-02],\n",
              "       [1.48496628e-01],\n",
              "       [4.40727502e-01],\n",
              "       [7.51200378e-01],\n",
              "       [1.91264018e-01],\n",
              "       [9.88509238e-01],\n",
              "       [9.18263197e-01],\n",
              "       [7.36019015e-01],\n",
              "       [9.84909952e-01],\n",
              "       [1.70884773e-01],\n",
              "       [1.13641076e-01],\n",
              "       [9.04347003e-01],\n",
              "       [2.06529364e-01],\n",
              "       [2.51848586e-02],\n",
              "       [5.24589680e-02],\n",
              "       [9.31357667e-02],\n",
              "       [1.25836313e-03],\n",
              "       [8.53702605e-01],\n",
              "       [8.25699091e-01],\n",
              "       [8.47381234e-01],\n",
              "       [9.42834198e-01],\n",
              "       [6.79801404e-02],\n",
              "       [2.03563079e-01],\n",
              "       [7.33430505e-01],\n",
              "       [1.44519797e-02],\n",
              "       [3.19753110e-01],\n",
              "       [1.71121836e-01],\n",
              "       [6.24553442e-01],\n",
              "       [5.34108043e-01],\n",
              "       [5.57062477e-02],\n",
              "       [6.62400797e-02],\n",
              "       [6.17691815e-01],\n",
              "       [1.41723320e-01],\n",
              "       [1.59872383e-01],\n",
              "       [1.27722770e-01],\n",
              "       [2.27840856e-01],\n",
              "       [9.98999417e-01],\n",
              "       [9.79233444e-01],\n",
              "       [3.23044002e-01],\n",
              "       [8.51373196e-01],\n",
              "       [9.91854310e-01],\n",
              "       [9.63485858e-04],\n",
              "       [9.67467070e-01],\n",
              "       [2.64395773e-01],\n",
              "       [4.48038787e-01],\n",
              "       [3.37200433e-01],\n",
              "       [1.19736187e-01],\n",
              "       [1.36819467e-01],\n",
              "       [3.16205248e-02],\n",
              "       [8.69161040e-02],\n",
              "       [6.63961470e-02],\n",
              "       [6.93630397e-01],\n",
              "       [2.54976928e-01],\n",
              "       [9.95182812e-01],\n",
              "       [6.84100091e-02],\n",
              "       [6.08989954e-01],\n",
              "       [5.68407416e-01],\n",
              "       [1.73271187e-02],\n",
              "       [5.38456254e-02],\n",
              "       [9.68963444e-01],\n",
              "       [7.43482292e-01],\n",
              "       [9.65823829e-01],\n",
              "       [1.49681836e-01],\n",
              "       [7.82894865e-02],\n",
              "       [3.80411386e-01],\n",
              "       [3.36153656e-01],\n",
              "       [3.95889997e-01],\n",
              "       [9.91854310e-01],\n",
              "       [1.54185845e-02],\n",
              "       [4.92679290e-02],\n",
              "       [1.60903513e-01],\n",
              "       [9.97460067e-01],\n",
              "       [1.78627804e-01],\n",
              "       [5.76479249e-02],\n",
              "       [8.08743656e-01],\n",
              "       [6.43227398e-02],\n",
              "       [3.18645053e-02],\n",
              "       [1.83083966e-01],\n",
              "       [2.51461893e-01],\n",
              "       [1.59238666e-01],\n",
              "       [3.45844388e-01],\n",
              "       [3.33525568e-01],\n",
              "       [2.06203878e-01],\n",
              "       [1.03199430e-01],\n",
              "       [4.27196234e-01],\n",
              "       [1.38111701e-02],\n",
              "       [9.37026620e-01],\n",
              "       [8.10901105e-01],\n",
              "       [5.57280004e-01],\n",
              "       [3.94468121e-02],\n",
              "       [2.38040444e-02],\n",
              "       [9.81355488e-01],\n",
              "       [5.42773664e-01],\n",
              "       [9.99563158e-01],\n",
              "       [3.30278456e-01],\n",
              "       [8.98801506e-01],\n",
              "       [1.65410161e-01],\n",
              "       [5.69966555e-01],\n",
              "       [7.72664070e-01],\n",
              "       [2.34853234e-02],\n",
              "       [9.78464127e-01],\n",
              "       [1.47981122e-01],\n",
              "       [5.45657337e-01],\n",
              "       [9.98314857e-01],\n",
              "       [1.56795710e-01],\n",
              "       [3.34894545e-02],\n",
              "       [3.13144505e-01],\n",
              "       [1.55504569e-02],\n",
              "       [5.09889901e-01],\n",
              "       [9.99867797e-01],\n",
              "       [3.43011260e-01],\n",
              "       [9.44133997e-01],\n",
              "       [2.96493232e-01],\n",
              "       [8.14243853e-01],\n",
              "       [2.86011219e-01],\n",
              "       [3.75276148e-01],\n",
              "       [2.18129642e-02],\n",
              "       [5.86139679e-01],\n",
              "       [1.58269461e-02],\n",
              "       [2.61992604e-01],\n",
              "       [9.53285336e-01],\n",
              "       [9.62458909e-01],\n",
              "       [9.96168911e-01],\n",
              "       [7.55380869e-01],\n",
              "       [3.74305099e-02],\n",
              "       [3.73508900e-01],\n",
              "       [2.38052737e-02],\n",
              "       [5.50337136e-01],\n",
              "       [3.59461576e-01],\n",
              "       [9.29708600e-01],\n",
              "       [3.30382958e-02],\n",
              "       [8.01482141e-01],\n",
              "       [8.49814713e-01],\n",
              "       [2.85295159e-01],\n",
              "       [2.75043607e-01],\n",
              "       [3.32178354e-01],\n",
              "       [2.07362160e-01],\n",
              "       [5.26608348e-01],\n",
              "       [6.26526356e-01],\n",
              "       [9.98799801e-01],\n",
              "       [8.54717568e-02],\n",
              "       [8.01410526e-03],\n",
              "       [1.54590104e-02],\n",
              "       [3.00395340e-01],\n",
              "       [2.31787533e-01],\n",
              "       [2.72061061e-02],\n",
              "       [8.56407464e-01],\n",
              "       [1.02124795e-01],\n",
              "       [2.26137802e-01],\n",
              "       [2.13104069e-01],\n",
              "       [2.89815664e-01],\n",
              "       [9.32200134e-01],\n",
              "       [1.60494268e-01],\n",
              "       [4.86606747e-01],\n",
              "       [3.17460507e-01],\n",
              "       [1.19340448e-02],\n",
              "       [1.06110275e-01],\n",
              "       [9.99708951e-01],\n",
              "       [8.34412575e-01],\n",
              "       [4.19040397e-03],\n",
              "       [3.35378677e-01],\n",
              "       [2.12935463e-01],\n",
              "       [6.22171722e-02],\n",
              "       [8.88107598e-01],\n",
              "       [4.94360924e-01],\n",
              "       [6.60057962e-01],\n",
              "       [3.51177633e-01],\n",
              "       [2.20581695e-01],\n",
              "       [6.77138686e-01],\n",
              "       [2.19242513e-01],\n",
              "       [5.20048663e-02],\n",
              "       [8.77511859e-01],\n",
              "       [1.92894176e-01],\n",
              "       [4.10365999e-01],\n",
              "       [9.88350868e-01],\n",
              "       [3.27467382e-01],\n",
              "       [4.98058736e-01],\n",
              "       [1.25836313e-03],\n",
              "       [3.73123944e-01],\n",
              "       [8.34087908e-01],\n",
              "       [9.99794781e-01],\n",
              "       [7.07748234e-01],\n",
              "       [4.56987880e-02],\n",
              "       [9.93442655e-01],\n",
              "       [3.87614191e-01],\n",
              "       [8.69754732e-01],\n",
              "       [3.87614191e-01],\n",
              "       [9.92808223e-01],\n",
              "       [1.13657806e-02],\n",
              "       [4.62292969e-01],\n",
              "       [1.06667988e-01],\n",
              "       [9.69123304e-01],\n",
              "       [2.34782249e-01],\n",
              "       [4.11587447e-01],\n",
              "       [6.21267036e-02],\n",
              "       [3.39098841e-01],\n",
              "       [1.23870097e-01],\n",
              "       [1.75917186e-02],\n",
              "       [2.56635934e-01],\n",
              "       [5.52250780e-02],\n",
              "       [1.55479282e-01],\n",
              "       [7.85000205e-01],\n",
              "       [3.28686386e-02],\n",
              "       [1.73317730e-01],\n",
              "       [3.56581472e-02],\n",
              "       [1.24727562e-02],\n",
              "       [1.15417674e-01],\n",
              "       [6.05586648e-01],\n",
              "       [7.03011304e-02],\n",
              "       [5.94693244e-01],\n",
              "       [1.23695105e-01],\n",
              "       [1.93471864e-01],\n",
              "       [9.03471947e-01],\n",
              "       [1.68191701e-01],\n",
              "       [4.46197800e-02],\n",
              "       [5.89493923e-02],\n",
              "       [4.66442993e-03],\n",
              "       [9.88522410e-01],\n",
              "       [1.24727562e-02],\n",
              "       [3.29166949e-01],\n",
              "       [9.93528187e-01],\n",
              "       [9.94975209e-01],\n",
              "       [9.97837365e-01],\n",
              "       [9.99900222e-01],\n",
              "       [9.99435008e-01],\n",
              "       [2.28190064e-01],\n",
              "       [9.34054926e-02],\n",
              "       [3.06670785e-01],\n",
              "       [5.61958373e-01],\n",
              "       [9.97358143e-01],\n",
              "       [5.00730097e-01],\n",
              "       [2.71392822e-01],\n",
              "       [5.03225446e-01],\n",
              "       [7.15249896e-01],\n",
              "       [2.96557620e-02],\n",
              "       [8.05348437e-03],\n",
              "       [1.12690806e-01],\n",
              "       [3.54751587e-01],\n",
              "       [7.57488888e-03],\n",
              "       [1.04130797e-01],\n",
              "       [3.79754424e-01],\n",
              "       [9.89552319e-01],\n",
              "       [2.89345197e-02],\n",
              "       [8.82509708e-01],\n",
              "       [7.80661821e-01],\n",
              "       [8.61355588e-02],\n",
              "       [3.48047286e-01],\n",
              "       [1.19476400e-01],\n",
              "       [7.56959319e-01],\n",
              "       [4.36496675e-01],\n",
              "       [1.04243914e-02]], dtype=float32)"
            ]
          },
          "metadata": {},
          "execution_count": 54
        }
      ]
    },
    {
      "cell_type": "code",
      "source": [
        "import numpy as np\n",
        "\n",
        "np.round(model_1_pred_probs[0]),val_labels[0]"
      ],
      "metadata": {
        "colab": {
          "base_uri": "https://localhost:8080/"
        },
        "id": "cWa10TNqjlkd",
        "outputId": "5825f5f9-5aa9-4dbd-a3ba-fd6ac40ea7f7"
      },
      "execution_count": 55,
      "outputs": [
        {
          "output_type": "execute_result",
          "data": {
            "text/plain": [
              "(array([0.], dtype=float32), 0)"
            ]
          },
          "metadata": {},
          "execution_count": 55
        }
      ]
    },
    {
      "cell_type": "code",
      "source": [
        "# Round out predictions and reduce to 1-dimensional array\n",
        "model_1_pred = tf.squeeze(tf.round(model_1_pred_probs))\n",
        "\n",
        "# calculate model 2 results\n",
        "model_1_results=  calcuate_results(y_true=val_labels, y_pred=model_1_pred)\n",
        "model_1_results"
      ],
      "metadata": {
        "colab": {
          "base_uri": "https://localhost:8080/"
        },
        "id": "MMwUMDpcJ5hl",
        "outputId": "78b0d244-7792-4361-f39f-0556a392d862"
      },
      "execution_count": 56,
      "outputs": [
        {
          "output_type": "execute_result",
          "data": {
            "text/plain": [
              "{'accuracy': 77.69028871391076,\n",
              " 'precision': 0.7798819103655997,\n",
              " 'recall': 0.7769028871391076,\n",
              " 'f1': 0.7743498017353971}"
            ]
          },
          "metadata": {},
          "execution_count": 56
        }
      ]
    },
    {
      "cell_type": "markdown",
      "source": [
        "# **VISULAZING LEARNED EMBEDDINGS**"
      ],
      "metadata": {
        "id": "he2tLoJsnJfI"
      }
    },
    {
      "cell_type": "code",
      "source": [
        "words_in_vocab=text_vectorizer.get_vocabulary()\n",
        "len(words_in_vocab),words_in_vocab[0:10]"
      ],
      "metadata": {
        "colab": {
          "base_uri": "https://localhost:8080/"
        },
        "id": "9C7MYA0wla5P",
        "outputId": "23bfde98-6154-4e7e-ebb3-d692c845e485"
      },
      "execution_count": 57,
      "outputs": [
        {
          "output_type": "execute_result",
          "data": {
            "text/plain": [
              "(10000, ['', '[UNK]', 'the', 'a', 'in', 'to', 'of', 'and', 'i', 'is'])"
            ]
          },
          "metadata": {},
          "execution_count": 57
        }
      ]
    },
    {
      "cell_type": "code",
      "source": [
        "# get the weight matrix of embedding layer\n",
        "# (these are the numerical representation of each token in our training data)\n",
        "embed_weights=model_1.get_layer(\"embedding_layer\").get_weights()\n",
        "embed_weights[0]\n"
      ],
      "metadata": {
        "colab": {
          "base_uri": "https://localhost:8080/"
        },
        "id": "28dtwWXBlepe",
        "outputId": "c4866d91-306f-4e4c-e810-7c4fe2b82dc8"
      },
      "execution_count": 58,
      "outputs": [
        {
          "output_type": "execute_result",
          "data": {
            "text/plain": [
              "array([[ 0.02557274,  0.04829991,  0.0436557 , ..., -0.02547036,\n",
              "        -0.03223529, -0.03635564],\n",
              "       [-0.02935966,  0.02777586,  0.03029151, ..., -0.04949431,\n",
              "         0.00316111,  0.02564764],\n",
              "       [-0.00764561,  0.03432943, -0.01534967, ..., -0.01332443,\n",
              "        -0.03027177, -0.01914836],\n",
              "       ...,\n",
              "       [ 0.00115604,  0.04710287,  0.01567621, ...,  0.00016892,\n",
              "         0.01992036, -0.00969188],\n",
              "       [ 0.03276298,  0.08437194,  0.04783018, ..., -0.04842814,\n",
              "        -0.01816805, -0.01331091],\n",
              "       [ 0.06809836,  0.06834454,  0.03093811, ..., -0.04535054,\n",
              "        -0.10988707, -0.01346146]], dtype=float32)"
            ]
          },
          "metadata": {},
          "execution_count": 58
        }
      ]
    },
    {
      "cell_type": "markdown",
      "source": [
        "## **Recurrent Neural Network** (RNN's)\n",
        "A **Recurrent Neural Network** (RNN) is a type of artificial neural network designed to recognize patterns in sequences of data, such as time series or natural language.\n",
        "\n",
        "Improvements Over Basic RNNs:\n",
        "\n",
        "-> To address the vanishing gradient problem, advanced RNN architectures have been developed, such as:\n",
        "\n",
        "* **Long Short-Term Memory** (LSTM): Incorporates gates to control the flow of information, allowing the network to \"remember\" or \"forget\" information over longer periods.\n",
        "* **Gated Recurrent Unit** (GRU): A simplified version of LSTMs that also helps with long-term dependencies, using fewer parameters.\n",
        "* **Bidirectional RNN's** : Bidirectional RNN's passes forward and backward along a sequence, left to right and right to left."
      ],
      "metadata": {
        "id": "fQHGIgIx2BHL"
      }
    },
    {
      "cell_type": "markdown",
      "source": [
        "# **MODEL 2**: LSTM MODEL\n",
        "* long short term memory\n",
        "* variant of RNN."
      ],
      "metadata": {
        "id": "La9Z1MP_5qJd"
      }
    },
    {
      "cell_type": "code",
      "source": [
        "# setting random seeds\n",
        "tf.random.set_seed(42)\n",
        "\n",
        "# creating embedding layer\n",
        "model_2_embedding = layers.Embedding(input_dim=max_vocab_length,\n",
        "                                     output_dim=128,\n",
        "                                     embeddings_initializer=\"uniform\",\n",
        "                                     input_length=max_length,\n",
        "                                     name=\"embedding_2\")\n",
        "\n",
        "# creating model\n",
        "from tensorflow.keras import layers\n",
        "inputs=layers.Input(shape=(1,),name=\"input_layer\",dtype=(\"string\"))\n",
        "x=text_vectorizer(inputs)\n",
        "x=model_2_embedding(x)\n",
        "#x=layers.LSTM(units=64,return_sequences=True)(x)\n",
        "x=layers.LSTM(units=64)(x)\n",
        "outputs=layers.Dense(1,activation=\"sigmoid\")(x)\n",
        "model_2=tf.keras.Model(inputs,outputs,name=\"LSTM_model\")"
      ],
      "metadata": {
        "colab": {
          "base_uri": "https://localhost:8080/"
        },
        "id": "6sdSdSZv5phg",
        "outputId": "0a06e0b6-5c01-4b17-fb35-2db57b0e0e42"
      },
      "execution_count": 59,
      "outputs": [
        {
          "output_type": "stream",
          "name": "stderr",
          "text": [
            "/usr/local/lib/python3.10/dist-packages/keras/src/layers/core/embedding.py:90: UserWarning: Argument `input_length` is deprecated. Just remove it.\n",
            "  warnings.warn(\n"
          ]
        }
      ]
    },
    {
      "cell_type": "code",
      "source": [
        "model_2.summary()\n"
      ],
      "metadata": {
        "colab": {
          "base_uri": "https://localhost:8080/",
          "height": 333
        },
        "id": "wz7n5BdT8J1q",
        "outputId": "f4cecc15-8fc5-4da2-d5c0-d2e07b03be4e"
      },
      "execution_count": 60,
      "outputs": [
        {
          "output_type": "display_data",
          "data": {
            "text/plain": [
              "\u001b[1mModel: \"LSTM_model\"\u001b[0m\n"
            ],
            "text/html": [
              "<pre style=\"white-space:pre;overflow-x:auto;line-height:normal;font-family:Menlo,'DejaVu Sans Mono',consolas,'Courier New',monospace\"><span style=\"font-weight: bold\">Model: \"LSTM_model\"</span>\n",
              "</pre>\n"
            ]
          },
          "metadata": {}
        },
        {
          "output_type": "display_data",
          "data": {
            "text/plain": [
              "┏━━━━━━━━━━━━━━━━━━━━━━━━━━━━━━━━━━━━━━┳━━━━━━━━━━━━━━━━━━━━━━━━━━━━━┳━━━━━━━━━━━━━━━━━┓\n",
              "┃\u001b[1m \u001b[0m\u001b[1mLayer (type)                        \u001b[0m\u001b[1m \u001b[0m┃\u001b[1m \u001b[0m\u001b[1mOutput Shape               \u001b[0m\u001b[1m \u001b[0m┃\u001b[1m \u001b[0m\u001b[1m        Param #\u001b[0m\u001b[1m \u001b[0m┃\n",
              "┡━━━━━━━━━━━━━━━━━━━━━━━━━━━━━━━━━━━━━━╇━━━━━━━━━━━━━━━━━━━━━━━━━━━━━╇━━━━━━━━━━━━━━━━━┩\n",
              "│ input_layer (\u001b[38;5;33mInputLayer\u001b[0m)             │ (\u001b[38;5;45mNone\u001b[0m, \u001b[38;5;34m1\u001b[0m)                   │               \u001b[38;5;34m0\u001b[0m │\n",
              "├──────────────────────────────────────┼─────────────────────────────┼─────────────────┤\n",
              "│ text_vectorization_3                 │ (\u001b[38;5;45mNone\u001b[0m, \u001b[38;5;34m15\u001b[0m)                  │               \u001b[38;5;34m0\u001b[0m │\n",
              "│ (\u001b[38;5;33mTextVectorization\u001b[0m)                  │                             │                 │\n",
              "├──────────────────────────────────────┼─────────────────────────────┼─────────────────┤\n",
              "│ embedding_2 (\u001b[38;5;33mEmbedding\u001b[0m)              │ (\u001b[38;5;45mNone\u001b[0m, \u001b[38;5;34m15\u001b[0m, \u001b[38;5;34m128\u001b[0m)             │       \u001b[38;5;34m1,280,000\u001b[0m │\n",
              "├──────────────────────────────────────┼─────────────────────────────┼─────────────────┤\n",
              "│ lstm (\u001b[38;5;33mLSTM\u001b[0m)                          │ (\u001b[38;5;45mNone\u001b[0m, \u001b[38;5;34m64\u001b[0m)                  │          \u001b[38;5;34m49,408\u001b[0m │\n",
              "├──────────────────────────────────────┼─────────────────────────────┼─────────────────┤\n",
              "│ dense_1 (\u001b[38;5;33mDense\u001b[0m)                      │ (\u001b[38;5;45mNone\u001b[0m, \u001b[38;5;34m1\u001b[0m)                   │              \u001b[38;5;34m65\u001b[0m │\n",
              "└──────────────────────────────────────┴─────────────────────────────┴─────────────────┘\n"
            ],
            "text/html": [
              "<pre style=\"white-space:pre;overflow-x:auto;line-height:normal;font-family:Menlo,'DejaVu Sans Mono',consolas,'Courier New',monospace\">┏━━━━━━━━━━━━━━━━━━━━━━━━━━━━━━━━━━━━━━┳━━━━━━━━━━━━━━━━━━━━━━━━━━━━━┳━━━━━━━━━━━━━━━━━┓\n",
              "┃<span style=\"font-weight: bold\"> Layer (type)                         </span>┃<span style=\"font-weight: bold\"> Output Shape                </span>┃<span style=\"font-weight: bold\">         Param # </span>┃\n",
              "┡━━━━━━━━━━━━━━━━━━━━━━━━━━━━━━━━━━━━━━╇━━━━━━━━━━━━━━━━━━━━━━━━━━━━━╇━━━━━━━━━━━━━━━━━┩\n",
              "│ input_layer (<span style=\"color: #0087ff; text-decoration-color: #0087ff\">InputLayer</span>)             │ (<span style=\"color: #00d7ff; text-decoration-color: #00d7ff\">None</span>, <span style=\"color: #00af00; text-decoration-color: #00af00\">1</span>)                   │               <span style=\"color: #00af00; text-decoration-color: #00af00\">0</span> │\n",
              "├──────────────────────────────────────┼─────────────────────────────┼─────────────────┤\n",
              "│ text_vectorization_3                 │ (<span style=\"color: #00d7ff; text-decoration-color: #00d7ff\">None</span>, <span style=\"color: #00af00; text-decoration-color: #00af00\">15</span>)                  │               <span style=\"color: #00af00; text-decoration-color: #00af00\">0</span> │\n",
              "│ (<span style=\"color: #0087ff; text-decoration-color: #0087ff\">TextVectorization</span>)                  │                             │                 │\n",
              "├──────────────────────────────────────┼─────────────────────────────┼─────────────────┤\n",
              "│ embedding_2 (<span style=\"color: #0087ff; text-decoration-color: #0087ff\">Embedding</span>)              │ (<span style=\"color: #00d7ff; text-decoration-color: #00d7ff\">None</span>, <span style=\"color: #00af00; text-decoration-color: #00af00\">15</span>, <span style=\"color: #00af00; text-decoration-color: #00af00\">128</span>)             │       <span style=\"color: #00af00; text-decoration-color: #00af00\">1,280,000</span> │\n",
              "├──────────────────────────────────────┼─────────────────────────────┼─────────────────┤\n",
              "│ lstm (<span style=\"color: #0087ff; text-decoration-color: #0087ff\">LSTM</span>)                          │ (<span style=\"color: #00d7ff; text-decoration-color: #00d7ff\">None</span>, <span style=\"color: #00af00; text-decoration-color: #00af00\">64</span>)                  │          <span style=\"color: #00af00; text-decoration-color: #00af00\">49,408</span> │\n",
              "├──────────────────────────────────────┼─────────────────────────────┼─────────────────┤\n",
              "│ dense_1 (<span style=\"color: #0087ff; text-decoration-color: #0087ff\">Dense</span>)                      │ (<span style=\"color: #00d7ff; text-decoration-color: #00d7ff\">None</span>, <span style=\"color: #00af00; text-decoration-color: #00af00\">1</span>)                   │              <span style=\"color: #00af00; text-decoration-color: #00af00\">65</span> │\n",
              "└──────────────────────────────────────┴─────────────────────────────┴─────────────────┘\n",
              "</pre>\n"
            ]
          },
          "metadata": {}
        },
        {
          "output_type": "display_data",
          "data": {
            "text/plain": [
              "\u001b[1m Total params: \u001b[0m\u001b[38;5;34m1,329,473\u001b[0m (5.07 MB)\n"
            ],
            "text/html": [
              "<pre style=\"white-space:pre;overflow-x:auto;line-height:normal;font-family:Menlo,'DejaVu Sans Mono',consolas,'Courier New',monospace\"><span style=\"font-weight: bold\"> Total params: </span><span style=\"color: #00af00; text-decoration-color: #00af00\">1,329,473</span> (5.07 MB)\n",
              "</pre>\n"
            ]
          },
          "metadata": {}
        },
        {
          "output_type": "display_data",
          "data": {
            "text/plain": [
              "\u001b[1m Trainable params: \u001b[0m\u001b[38;5;34m1,329,473\u001b[0m (5.07 MB)\n"
            ],
            "text/html": [
              "<pre style=\"white-space:pre;overflow-x:auto;line-height:normal;font-family:Menlo,'DejaVu Sans Mono',consolas,'Courier New',monospace\"><span style=\"font-weight: bold\"> Trainable params: </span><span style=\"color: #00af00; text-decoration-color: #00af00\">1,329,473</span> (5.07 MB)\n",
              "</pre>\n"
            ]
          },
          "metadata": {}
        },
        {
          "output_type": "display_data",
          "data": {
            "text/plain": [
              "\u001b[1m Non-trainable params: \u001b[0m\u001b[38;5;34m0\u001b[0m (0.00 B)\n"
            ],
            "text/html": [
              "<pre style=\"white-space:pre;overflow-x:auto;line-height:normal;font-family:Menlo,'DejaVu Sans Mono',consolas,'Courier New',monospace\"><span style=\"font-weight: bold\"> Non-trainable params: </span><span style=\"color: #00af00; text-decoration-color: #00af00\">0</span> (0.00 B)\n",
              "</pre>\n"
            ]
          },
          "metadata": {}
        }
      ]
    },
    {
      "cell_type": "code",
      "source": [
        " # compiling the model\n",
        " model_2.compile(loss=tf.keras.losses.BinaryCrossentropy,\n",
        "                 optimizer=tf.keras.optimizers.Adam(),\n",
        "                 metrics=['accuracy'])"
      ],
      "metadata": {
        "id": "7iqIO5NHpyAQ"
      },
      "execution_count": 61,
      "outputs": []
    },
    {
      "cell_type": "code",
      "source": [
        "# fitting the model\n",
        "history_2=model_2.fit(train_sentences,\n",
        "                      train_labels,\n",
        "                      epochs=5,\n",
        "                      validation_data=(val_sentences,val_labels),\n",
        "                      callbacks=[create_tensorboard_callback(dir_name=SAVE_DIR,\n",
        "                                                                     experiment_name=\"LSTM_model_2\")])"
      ],
      "metadata": {
        "colab": {
          "base_uri": "https://localhost:8080/"
        },
        "id": "fWMVIDm68AVl",
        "outputId": "6e845610-042c-4163-f50c-5149b212b246"
      },
      "execution_count": 62,
      "outputs": [
        {
          "output_type": "stream",
          "name": "stdout",
          "text": [
            "Saving TensorBoard log files to: model_logs/LSTM_model_2/20240827-035609\n",
            "Epoch 1/5\n"
          ]
        },
        {
          "output_type": "stream",
          "name": "stderr",
          "text": [
            "/usr/local/lib/python3.10/dist-packages/keras/src/callbacks/tensorboard.py:667: UserWarning: Model failed to serialize as JSON. Ignoring... BinaryCrossentropy.get_config() missing 1 required positional argument: 'self'\n",
            "  warnings.warn(f\"Model failed to serialize as JSON. Ignoring... {exc}\")\n"
          ]
        },
        {
          "output_type": "stream",
          "name": "stdout",
          "text": [
            "\u001b[1m215/215\u001b[0m \u001b[32m━━━━━━━━━━━━━━━━━━━━\u001b[0m\u001b[37m\u001b[0m \u001b[1m4s\u001b[0m 12ms/step - accuracy: 0.6758 - loss: 0.5816 - val_accuracy: 0.7769 - val_loss: 0.4595\n",
            "Epoch 2/5\n",
            "\u001b[1m215/215\u001b[0m \u001b[32m━━━━━━━━━━━━━━━━━━━━\u001b[0m\u001b[37m\u001b[0m \u001b[1m4s\u001b[0m 7ms/step - accuracy: 0.8666 - loss: 0.3288 - val_accuracy: 0.7520 - val_loss: 0.5213\n",
            "Epoch 3/5\n",
            "\u001b[1m215/215\u001b[0m \u001b[32m━━━━━━━━━━━━━━━━━━━━\u001b[0m\u001b[37m\u001b[0m \u001b[1m1s\u001b[0m 7ms/step - accuracy: 0.9149 - loss: 0.2271 - val_accuracy: 0.7454 - val_loss: 0.6667\n",
            "Epoch 4/5\n",
            "\u001b[1m215/215\u001b[0m \u001b[32m━━━━━━━━━━━━━━━━━━━━\u001b[0m\u001b[37m\u001b[0m \u001b[1m3s\u001b[0m 7ms/step - accuracy: 0.9501 - loss: 0.1481 - val_accuracy: 0.7638 - val_loss: 0.6521\n",
            "Epoch 5/5\n",
            "\u001b[1m215/215\u001b[0m \u001b[32m━━━━━━━━━━━━━━━━━━━━\u001b[0m\u001b[37m\u001b[0m \u001b[1m3s\u001b[0m 7ms/step - accuracy: 0.9567 - loss: 0.1335 - val_accuracy: 0.7703 - val_loss: 0.6284\n"
          ]
        }
      ]
    },
    {
      "cell_type": "code",
      "source": [
        "# make prediction by our LSTM model\n",
        "model_2_pred_prob=model_2.predict(val_sentences)"
      ],
      "metadata": {
        "colab": {
          "base_uri": "https://localhost:8080/"
        },
        "id": "Nzlwt6dRBfvC",
        "outputId": "328d4978-d840-4b28-ba40-5c4303fb82d2"
      },
      "execution_count": 63,
      "outputs": [
        {
          "output_type": "stream",
          "name": "stdout",
          "text": [
            "\u001b[1m24/24\u001b[0m \u001b[32m━━━━━━━━━━━━━━━━━━━━\u001b[0m\u001b[37m\u001b[0m \u001b[1m1s\u001b[0m 15ms/step\n"
          ]
        }
      ]
    },
    {
      "cell_type": "code",
      "source": [
        "np.round(model_2_pred_prob[0])"
      ],
      "metadata": {
        "colab": {
          "base_uri": "https://localhost:8080/"
        },
        "id": "N0QxYUQmBz8J",
        "outputId": "1e39a4ee-b6ec-4488-8bed-92d28cff3770"
      },
      "execution_count": 64,
      "outputs": [
        {
          "output_type": "execute_result",
          "data": {
            "text/plain": [
              "array([0.], dtype=float32)"
            ]
          },
          "metadata": {},
          "execution_count": 64
        }
      ]
    },
    {
      "cell_type": "code",
      "source": [
        "model_2_pred_prob[:20]"
      ],
      "metadata": {
        "colab": {
          "base_uri": "https://localhost:8080/"
        },
        "id": "mGHmwh4rEO-4",
        "outputId": "a46821a8-acba-44dc-da3e-48006e7ba792"
      },
      "execution_count": 65,
      "outputs": [
        {
          "output_type": "execute_result",
          "data": {
            "text/plain": [
              "array([[0.07710304],\n",
              "       [0.9689079 ],\n",
              "       [0.997068  ],\n",
              "       [0.03913005],\n",
              "       [0.00753914],\n",
              "       [0.93655545],\n",
              "       [0.3037262 ],\n",
              "       [0.9980172 ],\n",
              "       [0.99501413],\n",
              "       [0.43396258],\n",
              "       [0.01971198],\n",
              "       [0.2680072 ],\n",
              "       [0.00921259],\n",
              "       [0.4289456 ],\n",
              "       [0.00509805],\n",
              "       [0.02104708],\n",
              "       [0.01319738],\n",
              "       [0.0192828 ],\n",
              "       [0.07547635],\n",
              "       [0.82010967]], dtype=float32)"
            ]
          },
          "metadata": {},
          "execution_count": 65
        }
      ]
    },
    {
      "cell_type": "code",
      "source": [
        "val_labels[0]"
      ],
      "metadata": {
        "colab": {
          "base_uri": "https://localhost:8080/"
        },
        "id": "YyXZOsByB7As",
        "outputId": "cb515338-0a84-4493-d9db-1ffe0dd6a708"
      },
      "execution_count": 66,
      "outputs": [
        {
          "output_type": "execute_result",
          "data": {
            "text/plain": [
              "0"
            ]
          },
          "metadata": {},
          "execution_count": 66
        }
      ]
    },
    {
      "cell_type": "code",
      "source": [
        "# Round out predictions and reduce to 1-dimensional array\n",
        "model_2_pred = tf.squeeze(tf.round(model_2_pred_prob))\n",
        "model_2_pred[:10]"
      ],
      "metadata": {
        "colab": {
          "base_uri": "https://localhost:8080/"
        },
        "id": "kG-jNEavE6u_",
        "outputId": "d13d2abf-b4ff-4502-9e5a-b855eb546798"
      },
      "execution_count": 67,
      "outputs": [
        {
          "output_type": "execute_result",
          "data": {
            "text/plain": [
              "<tf.Tensor: shape=(10,), dtype=float32, numpy=array([0., 1., 1., 0., 0., 1., 0., 1., 1., 0.], dtype=float32)>"
            ]
          },
          "metadata": {},
          "execution_count": 67
        }
      ]
    },
    {
      "cell_type": "code",
      "source": [
        "# calculate model 2 results\n",
        "model_2_results=  calcuate_results(y_true=val_labels, y_pred=model_2_pred)\n",
        "model_2_results"
      ],
      "metadata": {
        "colab": {
          "base_uri": "https://localhost:8080/"
        },
        "id": "FlVKdHeuB_-z",
        "outputId": "e5b1339d-945b-419b-a0fd-d3f11dc8d5b9"
      },
      "execution_count": 68,
      "outputs": [
        {
          "output_type": "execute_result",
          "data": {
            "text/plain": [
              "{'accuracy': 77.03412073490814,\n",
              " 'precision': 0.7760118694840564,\n",
              " 'recall': 0.7703412073490814,\n",
              " 'f1': 0.7665375100103654}"
            ]
          },
          "metadata": {},
          "execution_count": 68
        }
      ]
    },
    {
      "cell_type": "markdown",
      "source": [
        "# **MODEL 3**: GRU\n",
        "* gated recurrent unit\n",
        "* Another popular and effective RNN component is the GRU or gated recurrent unit.\n",
        "\n",
        "To use the GRU cell in TensorFlow, we can call the **tensorflow.keras.layers.GRU() class.**\n",
        "\n",
        "The architecture of the GRU-powered model will follow the same structure we've been using:\n",
        "\n",
        "**Input (text) -> Tokenize -> Embedding -> Layers -> Output (label probability)**\n",
        "\n",
        "Again, the only difference will be the layer(s) we use between the embedding and the output."
      ],
      "metadata": {
        "id": "h1b8H6HiLcZ9"
      }
    },
    {
      "cell_type": "code",
      "source": [
        "from tensorflow.keras import layers\n",
        "# setting random seed\n",
        "tf.random.set_seed(42)\n",
        "\n",
        "#  creating embedding for GRU\n",
        "model_3_embedding=layers.Embedding(input_dim=max_vocab_length,\n",
        "                                   output_dim=128,\n",
        "                                   embeddings_initializer=\"uniform\")\n",
        "\n",
        "# creating model 3\n",
        "inputs=layers.Input(shape=(1,),dtype=\"string\",name=\"input_layer\")\n",
        "x=text_vectorizer(inputs)\n",
        "x=model_3_embedding(x)\n",
        "x=layers.GRU(64)(x)\n",
        "outputs=layers.Dense(1,activation=\"sigmoid\")(x)\n",
        "model_3=tf.keras.Model(inputs,outputs,name=\"model_3_GRU\")"
      ],
      "metadata": {
        "id": "KAwgfxbTCu1C"
      },
      "execution_count": 69,
      "outputs": []
    },
    {
      "cell_type": "code",
      "source": [
        "model_3.summary()"
      ],
      "metadata": {
        "colab": {
          "base_uri": "https://localhost:8080/",
          "height": 333
        },
        "id": "TNLSHpfwM_NJ",
        "outputId": "fc5ca9d1-ad90-440b-ac9e-684d10edc403"
      },
      "execution_count": 70,
      "outputs": [
        {
          "output_type": "display_data",
          "data": {
            "text/plain": [
              "\u001b[1mModel: \"model_3_GRU\"\u001b[0m\n"
            ],
            "text/html": [
              "<pre style=\"white-space:pre;overflow-x:auto;line-height:normal;font-family:Menlo,'DejaVu Sans Mono',consolas,'Courier New',monospace\"><span style=\"font-weight: bold\">Model: \"model_3_GRU\"</span>\n",
              "</pre>\n"
            ]
          },
          "metadata": {}
        },
        {
          "output_type": "display_data",
          "data": {
            "text/plain": [
              "┏━━━━━━━━━━━━━━━━━━━━━━━━━━━━━━━━━━━━━━┳━━━━━━━━━━━━━━━━━━━━━━━━━━━━━┳━━━━━━━━━━━━━━━━━┓\n",
              "┃\u001b[1m \u001b[0m\u001b[1mLayer (type)                        \u001b[0m\u001b[1m \u001b[0m┃\u001b[1m \u001b[0m\u001b[1mOutput Shape               \u001b[0m\u001b[1m \u001b[0m┃\u001b[1m \u001b[0m\u001b[1m        Param #\u001b[0m\u001b[1m \u001b[0m┃\n",
              "┡━━━━━━━━━━━━━━━━━━━━━━━━━━━━━━━━━━━━━━╇━━━━━━━━━━━━━━━━━━━━━━━━━━━━━╇━━━━━━━━━━━━━━━━━┩\n",
              "│ input_layer (\u001b[38;5;33mInputLayer\u001b[0m)             │ (\u001b[38;5;45mNone\u001b[0m, \u001b[38;5;34m1\u001b[0m)                   │               \u001b[38;5;34m0\u001b[0m │\n",
              "├──────────────────────────────────────┼─────────────────────────────┼─────────────────┤\n",
              "│ text_vectorization_3                 │ (\u001b[38;5;45mNone\u001b[0m, \u001b[38;5;34m15\u001b[0m)                  │               \u001b[38;5;34m0\u001b[0m │\n",
              "│ (\u001b[38;5;33mTextVectorization\u001b[0m)                  │                             │                 │\n",
              "├──────────────────────────────────────┼─────────────────────────────┼─────────────────┤\n",
              "│ embedding (\u001b[38;5;33mEmbedding\u001b[0m)                │ (\u001b[38;5;45mNone\u001b[0m, \u001b[38;5;34m15\u001b[0m, \u001b[38;5;34m128\u001b[0m)             │       \u001b[38;5;34m1,280,000\u001b[0m │\n",
              "├──────────────────────────────────────┼─────────────────────────────┼─────────────────┤\n",
              "│ gru (\u001b[38;5;33mGRU\u001b[0m)                            │ (\u001b[38;5;45mNone\u001b[0m, \u001b[38;5;34m64\u001b[0m)                  │          \u001b[38;5;34m37,248\u001b[0m │\n",
              "├──────────────────────────────────────┼─────────────────────────────┼─────────────────┤\n",
              "│ dense_2 (\u001b[38;5;33mDense\u001b[0m)                      │ (\u001b[38;5;45mNone\u001b[0m, \u001b[38;5;34m1\u001b[0m)                   │              \u001b[38;5;34m65\u001b[0m │\n",
              "└──────────────────────────────────────┴─────────────────────────────┴─────────────────┘\n"
            ],
            "text/html": [
              "<pre style=\"white-space:pre;overflow-x:auto;line-height:normal;font-family:Menlo,'DejaVu Sans Mono',consolas,'Courier New',monospace\">┏━━━━━━━━━━━━━━━━━━━━━━━━━━━━━━━━━━━━━━┳━━━━━━━━━━━━━━━━━━━━━━━━━━━━━┳━━━━━━━━━━━━━━━━━┓\n",
              "┃<span style=\"font-weight: bold\"> Layer (type)                         </span>┃<span style=\"font-weight: bold\"> Output Shape                </span>┃<span style=\"font-weight: bold\">         Param # </span>┃\n",
              "┡━━━━━━━━━━━━━━━━━━━━━━━━━━━━━━━━━━━━━━╇━━━━━━━━━━━━━━━━━━━━━━━━━━━━━╇━━━━━━━━━━━━━━━━━┩\n",
              "│ input_layer (<span style=\"color: #0087ff; text-decoration-color: #0087ff\">InputLayer</span>)             │ (<span style=\"color: #00d7ff; text-decoration-color: #00d7ff\">None</span>, <span style=\"color: #00af00; text-decoration-color: #00af00\">1</span>)                   │               <span style=\"color: #00af00; text-decoration-color: #00af00\">0</span> │\n",
              "├──────────────────────────────────────┼─────────────────────────────┼─────────────────┤\n",
              "│ text_vectorization_3                 │ (<span style=\"color: #00d7ff; text-decoration-color: #00d7ff\">None</span>, <span style=\"color: #00af00; text-decoration-color: #00af00\">15</span>)                  │               <span style=\"color: #00af00; text-decoration-color: #00af00\">0</span> │\n",
              "│ (<span style=\"color: #0087ff; text-decoration-color: #0087ff\">TextVectorization</span>)                  │                             │                 │\n",
              "├──────────────────────────────────────┼─────────────────────────────┼─────────────────┤\n",
              "│ embedding (<span style=\"color: #0087ff; text-decoration-color: #0087ff\">Embedding</span>)                │ (<span style=\"color: #00d7ff; text-decoration-color: #00d7ff\">None</span>, <span style=\"color: #00af00; text-decoration-color: #00af00\">15</span>, <span style=\"color: #00af00; text-decoration-color: #00af00\">128</span>)             │       <span style=\"color: #00af00; text-decoration-color: #00af00\">1,280,000</span> │\n",
              "├──────────────────────────────────────┼─────────────────────────────┼─────────────────┤\n",
              "│ gru (<span style=\"color: #0087ff; text-decoration-color: #0087ff\">GRU</span>)                            │ (<span style=\"color: #00d7ff; text-decoration-color: #00d7ff\">None</span>, <span style=\"color: #00af00; text-decoration-color: #00af00\">64</span>)                  │          <span style=\"color: #00af00; text-decoration-color: #00af00\">37,248</span> │\n",
              "├──────────────────────────────────────┼─────────────────────────────┼─────────────────┤\n",
              "│ dense_2 (<span style=\"color: #0087ff; text-decoration-color: #0087ff\">Dense</span>)                      │ (<span style=\"color: #00d7ff; text-decoration-color: #00d7ff\">None</span>, <span style=\"color: #00af00; text-decoration-color: #00af00\">1</span>)                   │              <span style=\"color: #00af00; text-decoration-color: #00af00\">65</span> │\n",
              "└──────────────────────────────────────┴─────────────────────────────┴─────────────────┘\n",
              "</pre>\n"
            ]
          },
          "metadata": {}
        },
        {
          "output_type": "display_data",
          "data": {
            "text/plain": [
              "\u001b[1m Total params: \u001b[0m\u001b[38;5;34m1,317,313\u001b[0m (5.03 MB)\n"
            ],
            "text/html": [
              "<pre style=\"white-space:pre;overflow-x:auto;line-height:normal;font-family:Menlo,'DejaVu Sans Mono',consolas,'Courier New',monospace\"><span style=\"font-weight: bold\"> Total params: </span><span style=\"color: #00af00; text-decoration-color: #00af00\">1,317,313</span> (5.03 MB)\n",
              "</pre>\n"
            ]
          },
          "metadata": {}
        },
        {
          "output_type": "display_data",
          "data": {
            "text/plain": [
              "\u001b[1m Trainable params: \u001b[0m\u001b[38;5;34m1,317,313\u001b[0m (5.03 MB)\n"
            ],
            "text/html": [
              "<pre style=\"white-space:pre;overflow-x:auto;line-height:normal;font-family:Menlo,'DejaVu Sans Mono',consolas,'Courier New',monospace\"><span style=\"font-weight: bold\"> Trainable params: </span><span style=\"color: #00af00; text-decoration-color: #00af00\">1,317,313</span> (5.03 MB)\n",
              "</pre>\n"
            ]
          },
          "metadata": {}
        },
        {
          "output_type": "display_data",
          "data": {
            "text/plain": [
              "\u001b[1m Non-trainable params: \u001b[0m\u001b[38;5;34m0\u001b[0m (0.00 B)\n"
            ],
            "text/html": [
              "<pre style=\"white-space:pre;overflow-x:auto;line-height:normal;font-family:Menlo,'DejaVu Sans Mono',consolas,'Courier New',monospace\"><span style=\"font-weight: bold\"> Non-trainable params: </span><span style=\"color: #00af00; text-decoration-color: #00af00\">0</span> (0.00 B)\n",
              "</pre>\n"
            ]
          },
          "metadata": {}
        }
      ]
    },
    {
      "cell_type": "code",
      "source": [
        "# compiling the model\n",
        "model_3.compile(loss=tf.keras.losses.BinaryCrossentropy,\n",
        "                 optimizer=tf.keras.optimizers.Adam(),\n",
        "                 metrics=['accuracy'])"
      ],
      "metadata": {
        "id": "rbbjwnlMOSwR"
      },
      "execution_count": 71,
      "outputs": []
    },
    {
      "cell_type": "code",
      "source": [
        "# fitting the model\n",
        "history_model_3=model_3.fit(train_sentences,\n",
        "            train_labels,\n",
        "            epochs=5,\n",
        "            validation_data=(val_sentences,val_labels),\n",
        "            callbacks=[create_tensorboard_callback(dir_name=SAVE_DIR,experiment_name=\"model_3_GRU\")])"
      ],
      "metadata": {
        "colab": {
          "base_uri": "https://localhost:8080/"
        },
        "id": "CFbLQUKKOeot",
        "outputId": "da1d2531-e9d9-48d3-e67b-470e5b9a099d"
      },
      "execution_count": 72,
      "outputs": [
        {
          "output_type": "stream",
          "name": "stdout",
          "text": [
            "Saving TensorBoard log files to: model_logs/model_3_GRU/20240827-035625\n",
            "Epoch 1/5\n"
          ]
        },
        {
          "output_type": "stream",
          "name": "stderr",
          "text": [
            "/usr/local/lib/python3.10/dist-packages/keras/src/callbacks/tensorboard.py:667: UserWarning: Model failed to serialize as JSON. Ignoring... BinaryCrossentropy.get_config() missing 1 required positional argument: 'self'\n",
            "  warnings.warn(f\"Model failed to serialize as JSON. Ignoring... {exc}\")\n"
          ]
        },
        {
          "output_type": "stream",
          "name": "stdout",
          "text": [
            "\u001b[1m215/215\u001b[0m \u001b[32m━━━━━━━━━━━━━━━━━━━━\u001b[0m\u001b[37m\u001b[0m \u001b[1m3s\u001b[0m 8ms/step - accuracy: 0.6393 - loss: 0.6106 - val_accuracy: 0.7743 - val_loss: 0.4605\n",
            "Epoch 2/5\n",
            "\u001b[1m215/215\u001b[0m \u001b[32m━━━━━━━━━━━━━━━━━━━━\u001b[0m\u001b[37m\u001b[0m \u001b[1m1s\u001b[0m 7ms/step - accuracy: 0.8587 - loss: 0.3427 - val_accuracy: 0.7546 - val_loss: 0.5358\n",
            "Epoch 3/5\n",
            "\u001b[1m215/215\u001b[0m \u001b[32m━━━━━━━━━━━━━━━━━━━━\u001b[0m\u001b[37m\u001b[0m \u001b[1m1s\u001b[0m 6ms/step - accuracy: 0.9103 - loss: 0.2402 - val_accuracy: 0.7559 - val_loss: 0.6094\n",
            "Epoch 4/5\n",
            "\u001b[1m215/215\u001b[0m \u001b[32m━━━━━━━━━━━━━━━━━━━━\u001b[0m\u001b[37m\u001b[0m \u001b[1m1s\u001b[0m 7ms/step - accuracy: 0.9403 - loss: 0.1622 - val_accuracy: 0.7651 - val_loss: 0.6161\n",
            "Epoch 5/5\n",
            "\u001b[1m215/215\u001b[0m \u001b[32m━━━━━━━━━━━━━━━━━━━━\u001b[0m\u001b[37m\u001b[0m \u001b[1m1s\u001b[0m 6ms/step - accuracy: 0.9588 - loss: 0.1315 - val_accuracy: 0.7559 - val_loss: 0.6568\n"
          ]
        }
      ]
    },
    {
      "cell_type": "code",
      "source": [
        "# predicting through our model\n",
        "model_3_pred_prob=model_3.predict(val_sentences)"
      ],
      "metadata": {
        "colab": {
          "base_uri": "https://localhost:8080/"
        },
        "id": "6U_oxRdUOvjd",
        "outputId": "d6ba168d-b44e-4a49-8f6b-6160f5d351a6"
      },
      "execution_count": 73,
      "outputs": [
        {
          "output_type": "stream",
          "name": "stdout",
          "text": [
            "\u001b[1m24/24\u001b[0m \u001b[32m━━━━━━━━━━━━━━━━━━━━\u001b[0m\u001b[37m\u001b[0m \u001b[1m1s\u001b[0m 14ms/step\n"
          ]
        }
      ]
    },
    {
      "cell_type": "code",
      "source": [
        "np.round(model_3_pred_prob[5])"
      ],
      "metadata": {
        "colab": {
          "base_uri": "https://localhost:8080/"
        },
        "id": "JJm9Yd9dQyK3",
        "outputId": "cb907e2b-4eff-4be4-9a83-6e711b7525a2"
      },
      "execution_count": 74,
      "outputs": [
        {
          "output_type": "execute_result",
          "data": {
            "text/plain": [
              "array([1.], dtype=float32)"
            ]
          },
          "metadata": {},
          "execution_count": 74
        }
      ]
    },
    {
      "cell_type": "code",
      "source": [
        "val_labels[5]"
      ],
      "metadata": {
        "colab": {
          "base_uri": "https://localhost:8080/"
        },
        "id": "SzgmQRyERCio",
        "outputId": "df3cac8d-11a0-4a1e-ef52-22edc6e11e7a"
      },
      "execution_count": 75,
      "outputs": [
        {
          "output_type": "execute_result",
          "data": {
            "text/plain": [
              "1"
            ]
          },
          "metadata": {},
          "execution_count": 75
        }
      ]
    },
    {
      "cell_type": "code",
      "source": [
        "model_3_pred_prob[:20]"
      ],
      "metadata": {
        "colab": {
          "base_uri": "https://localhost:8080/"
        },
        "id": "GbC4DN-ZRGu5",
        "outputId": "716b5fbb-ba92-410b-a822-7d74371944bb"
      },
      "execution_count": 76,
      "outputs": [
        {
          "output_type": "execute_result",
          "data": {
            "text/plain": [
              "array([[0.06518997],\n",
              "       [0.92584324],\n",
              "       [0.9902982 ],\n",
              "       [0.27950343],\n",
              "       [0.00898783],\n",
              "       [0.98585445],\n",
              "       [0.21642849],\n",
              "       [0.99644667],\n",
              "       [0.99076486],\n",
              "       [0.7544893 ],\n",
              "       [0.01099435],\n",
              "       [0.59489816],\n",
              "       [0.01581424],\n",
              "       [0.37469104],\n",
              "       [0.00596643],\n",
              "       [0.05522661],\n",
              "       [0.01056598],\n",
              "       [0.01016943],\n",
              "       [0.11268909],\n",
              "       [0.9540292 ]], dtype=float32)"
            ]
          },
          "metadata": {},
          "execution_count": 76
        }
      ]
    },
    {
      "cell_type": "code",
      "source": [
        "# Convert prediction probabilities to prediction classes\n",
        "model_3_preds = tf.squeeze(tf.round(model_3_pred_prob))\n",
        "model_3_preds[:10]"
      ],
      "metadata": {
        "colab": {
          "base_uri": "https://localhost:8080/"
        },
        "id": "Hvl8zbnDRP6Q",
        "outputId": "70bd7698-5538-4b1b-f1a6-3d1651beef5a"
      },
      "execution_count": 77,
      "outputs": [
        {
          "output_type": "execute_result",
          "data": {
            "text/plain": [
              "<tf.Tensor: shape=(10,), dtype=float32, numpy=array([0., 1., 1., 0., 0., 1., 0., 1., 1., 1.], dtype=float32)>"
            ]
          },
          "metadata": {},
          "execution_count": 77
        }
      ]
    },
    {
      "cell_type": "code",
      "source": [
        "# Calcuate model_3 results\n",
        "model_3_results = calculate_results(y_true=val_labels,\n",
        "                                    y_pred=model_3_preds)\n",
        "model_3_results"
      ],
      "metadata": {
        "colab": {
          "base_uri": "https://localhost:8080/"
        },
        "id": "F6Q2VGZNRmqc",
        "outputId": "c9c706f2-4076-4f6d-c409-4d69910a3000"
      },
      "execution_count": 78,
      "outputs": [
        {
          "output_type": "execute_result",
          "data": {
            "text/plain": [
              "{'accuracy': 75.59055118110236,\n",
              " 'precision': 0.7578854326598573,\n",
              " 'recall': 0.7559055118110236,\n",
              " 'f1': 0.7532626479990396}"
            ]
          },
          "metadata": {},
          "execution_count": 78
        }
      ]
    },
    {
      "cell_type": "markdown",
      "source": [
        "#**MODEL 4**: BI-DIRECTIONAL RNN\n",
        "* A standard RNN will process a sequence from left to right, where as a bidirectional RNN will process the sequence from left to right and then again from right to left.\n",
        "* In practice, many sequence models often see and improvement in performance when using bidirectional RNN's\n",
        "* However, this improvement in performance often comes at the cost of longer training times and increased model parameters (since the model goes left to right and right to left, the number of trainable parameters doubles)."
      ],
      "metadata": {
        "id": "C4Mb2BkEUVtH"
      }
    },
    {
      "cell_type": "code",
      "source": [
        "from tensorflow.keras import layers\n",
        "\n",
        "\n",
        "model_4_embedding = layers.Embedding(input_dim=max_vocab_length,\n",
        "                                     output_dim=128,\n",
        "                                     embeddings_initializer=\"uniform\",\n",
        "                                     name=\"embedding_4\")\n",
        "\n",
        "\n",
        "# setting seed\n",
        "tf.random.set_seed(42)\n",
        "\n",
        "# creating model 3\n",
        "inputs=layers.Input(shape=(1,),dtype=\"string\",name=\"input_layer\")\n",
        "x=text_vectorizer(inputs)\n",
        "x=model_4_embedding(x)\n",
        "x=layers.Bidirectional(layers.LSTM(63))(x)\n",
        "outputs=layers.Dense(1,activation=\"sigmoid\")(x)\n",
        "model_4=tf.keras.Model(inputs,outputs,name=\"model_4_bi-directional\")"
      ],
      "metadata": {
        "id": "pHtkku5NSu2B"
      },
      "execution_count": 79,
      "outputs": []
    },
    {
      "cell_type": "code",
      "source": [
        "# Compile\n",
        "model_4.compile(loss=\"binary_crossentropy\",\n",
        "                optimizer=tf.keras.optimizers.Adam(),\n",
        "                metrics=[\"accuracy\"])"
      ],
      "metadata": {
        "id": "m19UObTNXOFr"
      },
      "execution_count": 80,
      "outputs": []
    },
    {
      "cell_type": "code",
      "source": [
        "# Fit the model (takes longer because of the bidirectional layers)\n",
        "model_4_history = model_4.fit(train_sentences,\n",
        "                              train_labels,\n",
        "                              epochs=5,\n",
        "                              validation_data=(val_sentences, val_labels),\n",
        "                              callbacks=[create_tensorboard_callback(SAVE_DIR, \"bidirectional_RNN\")])"
      ],
      "metadata": {
        "colab": {
          "base_uri": "https://localhost:8080/"
        },
        "id": "7tkvb36uXN6g",
        "outputId": "82b09bba-9691-4e73-83c5-bbab366bea1b"
      },
      "execution_count": 81,
      "outputs": [
        {
          "output_type": "stream",
          "name": "stdout",
          "text": [
            "Saving TensorBoard log files to: model_logs/bidirectional_RNN/20240827-035636\n",
            "Epoch 1/5\n",
            "\u001b[1m215/215\u001b[0m \u001b[32m━━━━━━━━━━━━━━━━━━━━\u001b[0m\u001b[37m\u001b[0m \u001b[1m5s\u001b[0m 10ms/step - accuracy: 0.6769 - loss: 0.5810 - val_accuracy: 0.7861 - val_loss: 0.4592\n",
            "Epoch 2/5\n",
            "\u001b[1m215/215\u001b[0m \u001b[32m━━━━━━━━━━━━━━━━━━━━\u001b[0m\u001b[37m\u001b[0m \u001b[1m2s\u001b[0m 8ms/step - accuracy: 0.8646 - loss: 0.3288 - val_accuracy: 0.7703 - val_loss: 0.5089\n",
            "Epoch 3/5\n",
            "\u001b[1m215/215\u001b[0m \u001b[32m━━━━━━━━━━━━━━━━━━━━\u001b[0m\u001b[37m\u001b[0m \u001b[1m3s\u001b[0m 8ms/step - accuracy: 0.9144 - loss: 0.2231 - val_accuracy: 0.7493 - val_loss: 0.6105\n",
            "Epoch 4/5\n",
            "\u001b[1m215/215\u001b[0m \u001b[32m━━━━━━━━━━━━━━━━━━━━\u001b[0m\u001b[37m\u001b[0m \u001b[1m2s\u001b[0m 8ms/step - accuracy: 0.9493 - loss: 0.1421 - val_accuracy: 0.7428 - val_loss: 0.6963\n",
            "Epoch 5/5\n",
            "\u001b[1m215/215\u001b[0m \u001b[32m━━━━━━━━━━━━━━━━━━━━\u001b[0m\u001b[37m\u001b[0m \u001b[1m3s\u001b[0m 11ms/step - accuracy: 0.9615 - loss: 0.1209 - val_accuracy: 0.7677 - val_loss: 0.7343\n"
          ]
        }
      ]
    },
    {
      "cell_type": "code",
      "source": [
        "# predicting through our model\n",
        "model_4_pred_prob=model_4.predict(val_sentences)"
      ],
      "metadata": {
        "colab": {
          "base_uri": "https://localhost:8080/"
        },
        "id": "6jDrFI3NV9-r",
        "outputId": "c77390da-75db-41b2-fd0e-82f8bea180bc"
      },
      "execution_count": 82,
      "outputs": [
        {
          "output_type": "stream",
          "name": "stdout",
          "text": [
            "\u001b[1m24/24\u001b[0m \u001b[32m━━━━━━━━━━━━━━━━━━━━\u001b[0m\u001b[37m\u001b[0m \u001b[1m1s\u001b[0m 15ms/step\n"
          ]
        }
      ]
    },
    {
      "cell_type": "code",
      "source": [
        "model_4_pred_prob[:10]"
      ],
      "metadata": {
        "colab": {
          "base_uri": "https://localhost:8080/"
        },
        "id": "qOZtW_N8WbXX",
        "outputId": "c668a7bd-0808-4ddb-9027-ad8ac1f0bc2a"
      },
      "execution_count": 83,
      "outputs": [
        {
          "output_type": "execute_result",
          "data": {
            "text/plain": [
              "array([[0.02227972],\n",
              "       [0.94507164],\n",
              "       [0.9997794 ],\n",
              "       [0.01905067],\n",
              "       [0.00834056],\n",
              "       [0.9926548 ],\n",
              "       [0.40275896],\n",
              "       [0.99975985],\n",
              "       [0.9988977 ],\n",
              "       [0.69878095]], dtype=float32)"
            ]
          },
          "metadata": {},
          "execution_count": 83
        }
      ]
    },
    {
      "cell_type": "code",
      "source": [
        "np.round(model_4_pred_prob[1])"
      ],
      "metadata": {
        "colab": {
          "base_uri": "https://localhost:8080/"
        },
        "id": "skakHQIxWiew",
        "outputId": "db355ad2-8541-42a4-b085-2b709f52fa8b"
      },
      "execution_count": 84,
      "outputs": [
        {
          "output_type": "execute_result",
          "data": {
            "text/plain": [
              "array([1.], dtype=float32)"
            ]
          },
          "metadata": {},
          "execution_count": 84
        }
      ]
    },
    {
      "cell_type": "code",
      "source": [
        "val_labels[1]"
      ],
      "metadata": {
        "colab": {
          "base_uri": "https://localhost:8080/"
        },
        "id": "eCs-ls5yWoRr",
        "outputId": "8b323db3-bf45-4838-95f8-ad6a298c4727"
      },
      "execution_count": 85,
      "outputs": [
        {
          "output_type": "execute_result",
          "data": {
            "text/plain": [
              "0"
            ]
          },
          "metadata": {},
          "execution_count": 85
        }
      ]
    },
    {
      "cell_type": "code",
      "source": [
        "# convert prediction between 0 and 1\n",
        "model_4_pred=tf.squeeze(tf.round(model_4_pred_prob))\n",
        "model_4_pred"
      ],
      "metadata": {
        "colab": {
          "base_uri": "https://localhost:8080/"
        },
        "id": "xeMobPHwWt8-",
        "outputId": "5cefff7f-fedf-4715-87ab-a3cac18a6804"
      },
      "execution_count": 86,
      "outputs": [
        {
          "output_type": "execute_result",
          "data": {
            "text/plain": [
              "<tf.Tensor: shape=(762,), dtype=float32, numpy=\n",
              "array([0., 1., 1., 0., 0., 1., 0., 1., 1., 1., 0., 0., 0., 0., 0., 0., 0.,\n",
              "       0., 0., 0., 1., 0., 0., 0., 1., 1., 0., 0., 0., 0., 1., 0., 0., 0.,\n",
              "       0., 0., 1., 0., 0., 1., 0., 0., 0., 0., 1., 1., 0., 1., 0., 0., 0.,\n",
              "       0., 1., 0., 0., 0., 0., 1., 0., 0., 0., 1., 0., 0., 1., 1., 1., 1.,\n",
              "       0., 0., 0., 0., 1., 0., 0., 0., 0., 1., 0., 1., 0., 0., 1., 0., 0.,\n",
              "       0., 0., 0., 0., 1., 1., 0., 0., 0., 1., 1., 0., 1., 1., 1., 1., 0.,\n",
              "       0., 1., 1., 0., 1., 1., 0., 0., 1., 0., 0., 0., 0., 0., 0., 0., 0.,\n",
              "       0., 1., 0., 0., 1., 0., 0., 1., 0., 0., 1., 0., 1., 1., 1., 1., 0.,\n",
              "       1., 0., 0., 0., 1., 1., 0., 1., 1., 0., 0., 0., 0., 1., 0., 0., 0.,\n",
              "       0., 0., 1., 0., 0., 1., 0., 1., 0., 0., 1., 0., 0., 1., 0., 1., 0.,\n",
              "       1., 1., 1., 0., 1., 0., 0., 0., 0., 1., 0., 0., 0., 1., 1., 0., 0.,\n",
              "       1., 0., 0., 0., 1., 0., 0., 0., 0., 0., 0., 1., 0., 0., 1., 1., 0.,\n",
              "       0., 1., 1., 1., 0., 1., 0., 1., 0., 0., 0., 0., 1., 1., 1., 0., 1.,\n",
              "       0., 0., 0., 1., 0., 0., 1., 1., 1., 0., 0., 1., 0., 1., 0., 0., 0.,\n",
              "       0., 0., 1., 0., 1., 1., 0., 0., 1., 0., 0., 0., 0., 1., 0., 0., 1.,\n",
              "       1., 1., 1., 1., 0., 0., 0., 0., 1., 1., 0., 1., 0., 0., 0., 0., 0.,\n",
              "       1., 0., 0., 1., 0., 0., 1., 0., 0., 0., 1., 0., 1., 0., 0., 0., 1.,\n",
              "       0., 0., 0., 1., 0., 0., 1., 0., 0., 0., 0., 0., 0., 0., 1., 0., 0.,\n",
              "       0., 0., 0., 0., 0., 1., 0., 0., 1., 0., 1., 0., 0., 0., 0., 0., 1.,\n",
              "       0., 1., 0., 0., 1., 0., 1., 0., 0., 1., 0., 0., 1., 0., 0., 1., 1.,\n",
              "       0., 0., 1., 1., 1., 0., 0., 0., 0., 0., 0., 0., 0., 0., 0., 0., 1.,\n",
              "       1., 1., 0., 0., 0., 0., 1., 1., 0., 0., 0., 0., 0., 0., 0., 0., 0.,\n",
              "       1., 0., 0., 0., 0., 1., 1., 1., 1., 0., 1., 1., 1., 0., 1., 0., 1.,\n",
              "       0., 0., 0., 0., 1., 0., 0., 0., 1., 1., 0., 1., 1., 0., 1., 0., 0.,\n",
              "       0., 1., 1., 0., 0., 0., 1., 1., 0., 0., 0., 0., 1., 0., 1., 1., 0.,\n",
              "       0., 0., 1., 1., 0., 0., 0., 0., 0., 0., 0., 1., 0., 1., 1., 0., 1.,\n",
              "       0., 0., 1., 0., 0., 0., 0., 0., 0., 1., 1., 1., 1., 0., 0., 0., 0.,\n",
              "       1., 1., 0., 0., 0., 1., 1., 0., 0., 1., 0., 1., 1., 0., 0., 1., 0.,\n",
              "       0., 1., 0., 0., 0., 0., 0., 1., 0., 0., 0., 0., 0., 0., 0., 1., 1.,\n",
              "       0., 0., 0., 0., 1., 0., 1., 1., 0., 1., 0., 0., 0., 0., 1., 0., 0.,\n",
              "       0., 0., 0., 0., 0., 0., 1., 1., 1., 1., 0., 0., 1., 0., 0., 0., 1.,\n",
              "       0., 0., 1., 1., 1., 0., 0., 0., 0., 0., 0., 1., 0., 0., 0., 1., 0.,\n",
              "       0., 0., 0., 1., 1., 0., 0., 1., 0., 1., 0., 0., 0., 0., 0., 0., 0.,\n",
              "       0., 0., 1., 1., 0., 1., 0., 0., 0., 1., 0., 1., 0., 0., 0., 0., 0.,\n",
              "       1., 0., 0., 0., 1., 0., 0., 1., 0., 0., 0., 0., 0., 0., 0., 0., 0.,\n",
              "       0., 0., 1., 0., 0., 0., 0., 1., 1., 1., 0., 1., 0., 1., 1., 0., 1.,\n",
              "       0., 1., 1., 0., 0., 0., 0., 0., 1., 1., 1., 0., 1., 1., 0., 0., 0.,\n",
              "       0., 1., 1., 1., 1., 1., 0., 0., 0., 0., 1., 1., 0., 1., 1., 0., 1.,\n",
              "       0., 0., 1., 0., 1., 0., 0., 0., 1., 0., 0., 0., 0., 0., 0., 1., 1.,\n",
              "       0., 0., 0., 0., 0., 1., 0., 0., 0., 0., 0., 1., 0., 0., 1., 0., 0.,\n",
              "       0., 0., 0., 0., 0., 1., 0., 0., 0., 1., 1., 1., 1., 0., 1., 0., 1.,\n",
              "       0., 1., 0., 0., 0., 1., 0., 0., 0., 0., 0., 0., 0., 0., 0., 0., 0.,\n",
              "       0., 0., 0., 0., 0., 0., 0., 0., 0., 1., 0., 0., 0., 0., 1., 0., 0.,\n",
              "       1., 1., 1., 1., 1., 0., 0., 0., 0., 1., 0., 0., 0., 0., 0., 0., 0.,\n",
              "       0., 0., 0., 1., 1., 0., 1., 0., 0., 0., 0., 1., 0., 0.],\n",
              "      dtype=float32)>"
            ]
          },
          "metadata": {},
          "execution_count": 86
        }
      ]
    },
    {
      "cell_type": "code",
      "source": [
        "# Calculate bidirectional RNN model results\n",
        "model_4_results = calculate_results(val_labels, model_4_pred)\n",
        "model_4_results"
      ],
      "metadata": {
        "colab": {
          "base_uri": "https://localhost:8080/"
        },
        "id": "JEuyxBxmXsQf",
        "outputId": "e6530d8b-8306-4f84-e1c6-7f5a50b77879"
      },
      "execution_count": 87,
      "outputs": [
        {
          "output_type": "execute_result",
          "data": {
            "text/plain": [
              "{'accuracy': 76.77165354330708,\n",
              " 'precision': 0.7801124232948082,\n",
              " 'recall': 0.7677165354330708,\n",
              " 'f1': 0.7615317957393009}"
            ]
          },
          "metadata": {},
          "execution_count": 87
        }
      ]
    },
    {
      "cell_type": "markdown",
      "source": [
        " nm jsbjdsb s  # Convolutional Neural Network (and other types of sequence data)\n",
        "\n",
        "* The main difference between using CNNs for images and sequences is the shape of the data. Images come in 2-dimensions (height x width) where as sequences are often 1-dimensional (a string of text).\n",
        "* So to use CNNs with sequences, we use a 1-dimensional convolution instead of a 2-dimensional convolution.\n",
        "\n",
        "* A typical CNN architecture for sequences will look like the following:\n",
        "\n",
        "* **Inputs (text) -> Tokenization -> Embedding -> Layers -> Outputs (class probabilities)**"
      ],
      "metadata": {
        "id": "bELk27_Uoh7A"
      }
    },
    {
      "cell_type": "code",
      "source": [
        "# create a 1-dimensional convolutional layer to model sequences\n",
        "from tensorflow.keras import layers\n",
        "inputs=layers.Input(shape=(1,),dtype=\"string\",name=\"input_layer\")\n",
        "x=text_vectorizer(inputs)\n",
        "x=embedding(x)\n",
        "x=layers.Conv1D(filters=64,\n",
        "                kernel_size=5,\n",
        "                activation=\"relu\",\n",
        "                padding=\"valid\",\n",
        "                strides=1)(x)\n",
        "x=layers.GlobalMaxPooling1D()(x)\n",
        "outputs=layers.Dense(1,activation=\"sigmoid\")(x)\n",
        "#Passing inputs and outputs to the model 5\n",
        "model_5=tf.keras.Model(inputs,outputs,name=\"conv1D_neural_networks\")"
      ],
      "metadata": {
        "id": "93FcsbsSX4b_"
      },
      "execution_count": 110,
      "outputs": []
    },
    {
      "cell_type": "code",
      "source": [
        "# Example of compiling the model\n",
        "model_5.compile(\n",
        "    optimizer='adam',\n",
        "    loss='binary_crossentropy',  # Use string instead of `tf.keras.losses.BinaryCrossentropy()`\n",
        "    metrics=['accuracy']\n",
        ")\n",
        "\n"
      ],
      "metadata": {
        "id": "0NEbjanBt3GN"
      },
      "execution_count": 113,
      "outputs": []
    },
    {
      "cell_type": "code",
      "source": [],
      "metadata": {
        "id": "quGf7vZS8V78"
      },
      "execution_count": 89,
      "outputs": []
    },
    {
      "cell_type": "code",
      "source": [
        "# fitting the modele\n",
        "hist_5=model_5.fit(train_sentences,\n",
        "                   train_labels,\n",
        "                   epochs=5,\n",
        "                   validation_data=(val_sentences,val_labels),\n",
        "                   callbacks=[create_tensorboard_callback(dir_name=\"SAVE_DIR\",experiment_name=\"Conv1D\")]\n",
        "                   )"
      ],
      "metadata": {
        "colab": {
          "base_uri": "https://localhost:8080/"
        },
        "id": "qar4f5DbwTJe",
        "outputId": "1d5eea46-37d3-4f19-9831-488f89165352"
      },
      "execution_count": 103,
      "outputs": [
        {
          "output_type": "stream",
          "name": "stdout",
          "text": [
            "Saving TensorBoard log files to: SAVE_DIR/Conv1D/20240827-040141\n",
            "Epoch 1/5\n"
          ]
        },
        {
          "output_type": "stream",
          "name": "stderr",
          "text": [
            "/usr/local/lib/python3.10/dist-packages/keras/src/callbacks/tensorboard.py:667: UserWarning: Model failed to serialize as JSON. Ignoring... BinaryCrossentropy.get_config() missing 1 required positional argument: 'self'\n",
            "  warnings.warn(f\"Model failed to serialize as JSON. Ignoring... {exc}\")\n"
          ]
        },
        {
          "output_type": "stream",
          "name": "stdout",
          "text": [
            "\u001b[1m215/215\u001b[0m \u001b[32m━━━━━━━━━━━━━━━━━━━━\u001b[0m\u001b[37m\u001b[0m \u001b[1m3s\u001b[0m 10ms/step - accuracy: 0.9310 - loss: 0.1950 - val_accuracy: 0.7795 - val_loss: 0.8007\n",
            "Epoch 2/5\n",
            "\u001b[1m215/215\u001b[0m \u001b[32m━━━━━━━━━━━━━━━━━━━━\u001b[0m\u001b[37m\u001b[0m \u001b[1m2s\u001b[0m 8ms/step - accuracy: 0.9703 - loss: 0.0862 - val_accuracy: 0.7677 - val_loss: 0.8961\n",
            "Epoch 3/5\n",
            "\u001b[1m215/215\u001b[0m \u001b[32m━━━━━━━━━━━━━━━━━━━━\u001b[0m\u001b[37m\u001b[0m \u001b[1m1s\u001b[0m 6ms/step - accuracy: 0.9751 - loss: 0.0694 - val_accuracy: 0.7730 - val_loss: 0.9406\n",
            "Epoch 4/5\n",
            "\u001b[1m215/215\u001b[0m \u001b[32m━━━━━━━━━━━━━━━━━━━━\u001b[0m\u001b[37m\u001b[0m \u001b[1m2s\u001b[0m 6ms/step - accuracy: 0.9763 - loss: 0.0629 - val_accuracy: 0.7743 - val_loss: 0.9697\n",
            "Epoch 5/5\n",
            "\u001b[1m215/215\u001b[0m \u001b[32m━━━━━━━━━━━━━━━━━━━━\u001b[0m\u001b[37m\u001b[0m \u001b[1m2s\u001b[0m 6ms/step - accuracy: 0.9760 - loss: 0.0588 - val_accuracy: 0.7782 - val_loss: 0.9808\n"
          ]
        }
      ]
    },
    {
      "cell_type": "code",
      "source": [
        "# predicting through our model\n",
        "model_5_pred_probs=model_5.predict(val_sentences)"
      ],
      "metadata": {
        "colab": {
          "base_uri": "https://localhost:8080/"
        },
        "collapsed": true,
        "id": "sNPemapFxELK",
        "outputId": "a4d96b21-61cb-421b-b68c-62afcd52d14a"
      },
      "execution_count": 91,
      "outputs": [
        {
          "output_type": "stream",
          "name": "stdout",
          "text": [
            "\u001b[1m24/24\u001b[0m \u001b[32m━━━━━━━━━━━━━━━━━━━━\u001b[0m\u001b[37m\u001b[0m \u001b[1m0s\u001b[0m 7ms/step\n"
          ]
        }
      ]
    },
    {
      "cell_type": "code",
      "source": [
        "# prediction on a particular indexing\n",
        "print(f\"predicted value on that index: {np.round(model_5_pred_probs[2])}\")\n",
        "\n",
        "# actual value on that index\n",
        "print(f\"actulal value of that index: {val_labels[2]}\")"
      ],
      "metadata": {
        "colab": {
          "base_uri": "https://localhost:8080/"
        },
        "id": "_4WhIMltxjCb",
        "outputId": "2b00a9b5-8c23-4212-b238-d48cff7d12d0"
      },
      "execution_count": 92,
      "outputs": [
        {
          "output_type": "stream",
          "name": "stdout",
          "text": [
            "predicted value on that index: [1.]\n",
            "actulal value of that index: 1\n"
          ]
        }
      ]
    },
    {
      "cell_type": "code",
      "source": [
        "# squeezing value between 0 to 1\n",
        "model_5_pred=tf.squeeze(tf.round(model_5_pred_probs))\n",
        "model_5_pred[:10]"
      ],
      "metadata": {
        "colab": {
          "base_uri": "https://localhost:8080/"
        },
        "id": "L4IijQYKxsy_",
        "outputId": "4241c9ad-3bc2-405c-bc45-0c74bce26dff"
      },
      "execution_count": 93,
      "outputs": [
        {
          "output_type": "execute_result",
          "data": {
            "text/plain": [
              "<tf.Tensor: shape=(10,), dtype=float32, numpy=array([1., 1., 1., 0., 0., 1., 1., 1., 1., 1.], dtype=float32)>"
            ]
          },
          "metadata": {},
          "execution_count": 93
        }
      ]
    },
    {
      "cell_type": "code",
      "source": [
        "# Calculate CNN's(1-D) model results\n",
        "model_5_results = calculate_results(val_labels, model_5_pred)\n",
        "model_5_results"
      ],
      "metadata": {
        "colab": {
          "base_uri": "https://localhost:8080/"
        },
        "id": "3fTu778szHPP",
        "outputId": "a4d9ad2d-4f4a-4d13-94cc-4411d6779198"
      },
      "execution_count": 94,
      "outputs": [
        {
          "output_type": "execute_result",
          "data": {
            "text/plain": [
              "{'accuracy': 76.9028871391076,\n",
              " 'precision': 0.7686512691006243,\n",
              " 'recall': 0.7690288713910761,\n",
              " 'f1': 0.7685783875130696}"
            ]
          },
          "metadata": {},
          "execution_count": 94
        }
      ]
    },
    {
      "cell_type": "markdown",
      "source": [
        "# **Using Pretrained Embeddings (transfer learning for NLP)**\n",
        "* The main difference between the embedding layer we created and the Universal Sentence Encoder is that rather than create a word-level embedding, the Universal Sentence Encoder, as you might've guessed, creates a whole sentence-level embedding.\n",
        "\n",
        "* **Our embedding layer also outputs an a 128 dimensional vector** for each word, where as, **the Universal Sentence Encoder outputs a 512 dimensional vector** for each sentence."
      ],
      "metadata": {
        "id": "T8vr0vSJ12hD"
      }
    },
    {
      "cell_type": "code",
      "source": [
        "sample_sentence"
      ],
      "metadata": {
        "colab": {
          "base_uri": "https://localhost:8080/",
          "height": 35
        },
        "id": "AJs7hMiu5J-m",
        "outputId": "dfaf787f-000f-49e1-fe96-3b08b0825e69"
      },
      "execution_count": 95,
      "outputs": [
        {
          "output_type": "execute_result",
          "data": {
            "text/plain": [
              "'hello myself ram i get kidnapped!'"
            ],
            "application/vnd.google.colaboratory.intrinsic+json": {
              "type": "string"
            }
          },
          "metadata": {},
          "execution_count": 95
        }
      ]
    },
    {
      "cell_type": "code",
      "source": [
        "import tensorflow_hub as hub\n",
        "embed=hub.load(\"https://tfhub.dev/google/universal-sentence-encoder/4\")\n",
        "embed_sample=embed([sample_sentence,\n",
        "                      \"When you call the universal sentence encoder on a sentence, it turns it into numbers.\"])\n",
        "print(embed_sample[0][:50])"
      ],
      "metadata": {
        "colab": {
          "base_uri": "https://localhost:8080/"
        },
        "id": "aEBqSjGYzZaY",
        "outputId": "7ca3f303-bf22-4f97-d61f-a3563671b61b"
      },
      "execution_count": 96,
      "outputs": [
        {
          "output_type": "stream",
          "name": "stdout",
          "text": [
            "tf.Tensor(\n",
            "[ 0.05243554 -0.01991722  0.00869413 -0.04072491  0.0480014  -0.00727034\n",
            "  0.01776586 -0.0242346   0.010509   -0.02665792  0.09139082  0.06661649\n",
            " -0.02569999  0.05336045 -0.00973073 -0.07025386 -0.01692817 -0.07330479\n",
            " -0.01472564 -0.06273378 -0.03660143 -0.03970446 -0.0317984  -0.02937189\n",
            "  0.02615621 -0.01399191  0.04986278 -0.06204003  0.01702769  0.06082724\n",
            "  0.06801747  0.06055363 -0.07269911 -0.05789809  0.00174792  0.03278537\n",
            " -0.04541065  0.02789726  0.07763848 -0.02478798  0.0297179  -0.01623836\n",
            " -0.02415786  0.06493546 -0.03467801 -0.06686259 -0.06723221 -0.03659465\n",
            "  0.06258328 -0.02317914], shape=(50,), dtype=float32)\n"
          ]
        }
      ]
    },
    {
      "cell_type": "code",
      "source": [
        "embed_sample"
      ],
      "metadata": {
        "colab": {
          "base_uri": "https://localhost:8080/"
        },
        "id": "PFG99oms4inb",
        "outputId": "13714a40-7ca2-4172-dc6d-72ce80fbab3c"
      },
      "execution_count": 97,
      "outputs": [
        {
          "output_type": "execute_result",
          "data": {
            "text/plain": [
              "<tf.Tensor: shape=(2, 512), dtype=float32, numpy=\n",
              "array([[ 0.05243554, -0.01991722,  0.00869413, ...,  0.03635212,\n",
              "         0.05894758, -0.07590068],\n",
              "       [ 0.03596688, -0.08579469, -0.01152739, ..., -0.03414335,\n",
              "         0.02816022, -0.00878944]], dtype=float32)>"
            ]
          },
          "metadata": {},
          "execution_count": 97
        }
      ]
    },
    {
      "cell_type": "markdown",
      "source": [
        "# Building, Training and evaluating a transfer learning model for NLP"
      ],
      "metadata": {
        "id": "mK8wXiNP7jzL"
      }
    },
    {
      "cell_type": "code",
      "source": [
        "import tensorflow_hub as hub\n",
        "import tensorflow as tf\n",
        "from tensorflow.keras import layers\n",
        "\n",
        "# Use the Universal Sentence Encoder (USE) directly\n",
        "sentence_encoder_layer = hub.KerasLayer(\"https://tfhub.dev/google/universal-sentence-encoder/4\",\n",
        "                                        input_shape=[],  # shape of inputs coming to our model\n",
        "                                        dtype=tf.string,  # data type of inputs (string)\n",
        "                                        trainable=False,  # use pretrained weights\n",
        "                                        name=\"USE\")\n",
        "\n",
        "# Set random seed\n",
        "tf.random.set_seed(42)\n",
        "\n",
        "# Creating the model\n",
        "inputs = layers.Input(shape=(1,), dtype=\"string\", name=\"input_layer\")  # Input layer\n",
        "x = layers.Lambda(lambda x: tf.squeeze(x, axis=1))(inputs)  # Reshape input from (None, 1) to (None,)\n",
        "x = sentence_encoder_layer(x)  # Pass input directly to the USE layer\n",
        "outputs = layers.Dense(1, activation=\"sigmoid\")(x)  # Output layer\n",
        "\n",
        "model_6 = tf.keras.Model(inputs, outputs, name=\"model_6\")\n",
        "\n",
        "# Compile the model\n",
        "model_6.compile(optimizer='adam', loss='binary_crossentropy', metrics=['accuracy'])\n",
        "\n",
        "# Model summary\n",
        "model_6.summary()\n"
      ],
      "metadata": {
        "colab": {
          "base_uri": "https://localhost:8080/",
          "height": 963
        },
        "id": "anuaQYwQAfnr",
        "outputId": "fb7de83d-e2f3-4439-e9b0-de06607e19e1"
      },
      "execution_count": 98,
      "outputs": [
        {
          "output_type": "error",
          "ename": "TypeError",
          "evalue": "Exception encountered when calling layer 'USE' (type KerasLayer).\n\nBinding inputs to tf.function failed due to `A KerasTensor cannot be used as input to a TensorFlow function. A KerasTensor is a symbolic placeholder for a shape and dtype, used when constructing Keras Functional models or Keras Functions. You can only use it as input to a Keras layer or a Keras operation (from the namespaces `keras.layers` and `keras.operations`). You are likely doing something like:\n\n```\nx = Input(...)\n...\ntf_fn(x)  # Invalid.\n```\n\nWhat you should do instead is wrap `tf_fn` in a layer:\n\n```\nclass MyLayer(Layer):\n    def call(self, x):\n        return tf_fn(x)\n\nx = MyLayer()(x)\n```\n`. Received args: (<KerasTensor shape=(None,), dtype=float32, sparse=False, name=keras_tensor_25>,) and kwargs: {} for signature: (inputs: TensorSpec(shape=<unknown>, dtype=tf.string, name=None)).\n\nCall arguments received by layer 'USE' (type KerasLayer):\n  • inputs=<KerasTensor shape=(None,), dtype=float32, sparse=False, name=keras_tensor_25>\n  • training=None",
          "traceback": [
            "\u001b[0;31m---------------------------------------------------------------------------\u001b[0m",
            "\u001b[0;31mTypeError\u001b[0m                                 Traceback (most recent call last)",
            "\u001b[0;32m<ipython-input-98-4d12749f670c>\u001b[0m in \u001b[0;36m<cell line: 18>\u001b[0;34m()\u001b[0m\n\u001b[1;32m     16\u001b[0m \u001b[0minputs\u001b[0m \u001b[0;34m=\u001b[0m \u001b[0mlayers\u001b[0m\u001b[0;34m.\u001b[0m\u001b[0mInput\u001b[0m\u001b[0;34m(\u001b[0m\u001b[0mshape\u001b[0m\u001b[0;34m=\u001b[0m\u001b[0;34m(\u001b[0m\u001b[0;36m1\u001b[0m\u001b[0;34m,\u001b[0m\u001b[0;34m)\u001b[0m\u001b[0;34m,\u001b[0m \u001b[0mdtype\u001b[0m\u001b[0;34m=\u001b[0m\u001b[0;34m\"string\"\u001b[0m\u001b[0;34m,\u001b[0m \u001b[0mname\u001b[0m\u001b[0;34m=\u001b[0m\u001b[0;34m\"input_layer\"\u001b[0m\u001b[0;34m)\u001b[0m  \u001b[0;31m# Input layer\u001b[0m\u001b[0;34m\u001b[0m\u001b[0;34m\u001b[0m\u001b[0m\n\u001b[1;32m     17\u001b[0m \u001b[0mx\u001b[0m \u001b[0;34m=\u001b[0m \u001b[0mlayers\u001b[0m\u001b[0;34m.\u001b[0m\u001b[0mLambda\u001b[0m\u001b[0;34m(\u001b[0m\u001b[0;32mlambda\u001b[0m \u001b[0mx\u001b[0m\u001b[0;34m:\u001b[0m \u001b[0mtf\u001b[0m\u001b[0;34m.\u001b[0m\u001b[0msqueeze\u001b[0m\u001b[0;34m(\u001b[0m\u001b[0mx\u001b[0m\u001b[0;34m,\u001b[0m \u001b[0maxis\u001b[0m\u001b[0;34m=\u001b[0m\u001b[0;36m1\u001b[0m\u001b[0;34m)\u001b[0m\u001b[0;34m)\u001b[0m\u001b[0;34m(\u001b[0m\u001b[0minputs\u001b[0m\u001b[0;34m)\u001b[0m  \u001b[0;31m# Reshape input from (None, 1) to (None,)\u001b[0m\u001b[0;34m\u001b[0m\u001b[0;34m\u001b[0m\u001b[0m\n\u001b[0;32m---> 18\u001b[0;31m \u001b[0mx\u001b[0m \u001b[0;34m=\u001b[0m \u001b[0msentence_encoder_layer\u001b[0m\u001b[0;34m(\u001b[0m\u001b[0mx\u001b[0m\u001b[0;34m)\u001b[0m  \u001b[0;31m# Pass input directly to the USE layer\u001b[0m\u001b[0;34m\u001b[0m\u001b[0;34m\u001b[0m\u001b[0m\n\u001b[0m\u001b[1;32m     19\u001b[0m \u001b[0moutputs\u001b[0m \u001b[0;34m=\u001b[0m \u001b[0mlayers\u001b[0m\u001b[0;34m.\u001b[0m\u001b[0mDense\u001b[0m\u001b[0;34m(\u001b[0m\u001b[0;36m1\u001b[0m\u001b[0;34m,\u001b[0m \u001b[0mactivation\u001b[0m\u001b[0;34m=\u001b[0m\u001b[0;34m\"sigmoid\"\u001b[0m\u001b[0;34m)\u001b[0m\u001b[0;34m(\u001b[0m\u001b[0mx\u001b[0m\u001b[0;34m)\u001b[0m  \u001b[0;31m# Output layer\u001b[0m\u001b[0;34m\u001b[0m\u001b[0;34m\u001b[0m\u001b[0m\n\u001b[1;32m     20\u001b[0m \u001b[0;34m\u001b[0m\u001b[0m\n",
            "\u001b[0;32m/usr/local/lib/python3.10/dist-packages/tf_keras/src/utils/traceback_utils.py\u001b[0m in \u001b[0;36merror_handler\u001b[0;34m(*args, **kwargs)\u001b[0m\n\u001b[1;32m     68\u001b[0m             \u001b[0;31m# To get the full stack trace, call:\u001b[0m\u001b[0;34m\u001b[0m\u001b[0;34m\u001b[0m\u001b[0m\n\u001b[1;32m     69\u001b[0m             \u001b[0;31m# `tf.debugging.disable_traceback_filtering()`\u001b[0m\u001b[0;34m\u001b[0m\u001b[0;34m\u001b[0m\u001b[0m\n\u001b[0;32m---> 70\u001b[0;31m             \u001b[0;32mraise\u001b[0m \u001b[0me\u001b[0m\u001b[0;34m.\u001b[0m\u001b[0mwith_traceback\u001b[0m\u001b[0;34m(\u001b[0m\u001b[0mfiltered_tb\u001b[0m\u001b[0;34m)\u001b[0m \u001b[0;32mfrom\u001b[0m \u001b[0;32mNone\u001b[0m\u001b[0;34m\u001b[0m\u001b[0;34m\u001b[0m\u001b[0m\n\u001b[0m\u001b[1;32m     71\u001b[0m         \u001b[0;32mfinally\u001b[0m\u001b[0;34m:\u001b[0m\u001b[0;34m\u001b[0m\u001b[0;34m\u001b[0m\u001b[0m\n\u001b[1;32m     72\u001b[0m             \u001b[0;32mdel\u001b[0m \u001b[0mfiltered_tb\u001b[0m\u001b[0;34m\u001b[0m\u001b[0;34m\u001b[0m\u001b[0m\n",
            "\u001b[0;32m/usr/local/lib/python3.10/dist-packages/tensorflow_hub/keras_layer.py\u001b[0m in \u001b[0;36mcall\u001b[0;34m(self, inputs, training)\u001b[0m\n\u001b[1;32m    240\u001b[0m     \u001b[0;31m# or else Keras' global `learning_phase`, which might actually be a tensor.\u001b[0m\u001b[0;34m\u001b[0m\u001b[0;34m\u001b[0m\u001b[0m\n\u001b[1;32m    241\u001b[0m     \u001b[0;32mif\u001b[0m \u001b[0;32mnot\u001b[0m \u001b[0mself\u001b[0m\u001b[0;34m.\u001b[0m\u001b[0m_has_training_argument\u001b[0m\u001b[0;34m:\u001b[0m\u001b[0;34m\u001b[0m\u001b[0;34m\u001b[0m\u001b[0m\n\u001b[0;32m--> 242\u001b[0;31m       \u001b[0mresult\u001b[0m \u001b[0;34m=\u001b[0m \u001b[0mf\u001b[0m\u001b[0;34m(\u001b[0m\u001b[0;34m)\u001b[0m\u001b[0;34m\u001b[0m\u001b[0;34m\u001b[0m\u001b[0m\n\u001b[0m\u001b[1;32m    243\u001b[0m     \u001b[0;32melse\u001b[0m\u001b[0;34m:\u001b[0m\u001b[0;34m\u001b[0m\u001b[0;34m\u001b[0m\u001b[0m\n\u001b[1;32m    244\u001b[0m       \u001b[0;32mif\u001b[0m \u001b[0mself\u001b[0m\u001b[0;34m.\u001b[0m\u001b[0mtrainable\u001b[0m\u001b[0;34m:\u001b[0m\u001b[0;34m\u001b[0m\u001b[0;34m\u001b[0m\u001b[0m\n",
            "\u001b[0;31mTypeError\u001b[0m: Exception encountered when calling layer 'USE' (type KerasLayer).\n\nBinding inputs to tf.function failed due to `A KerasTensor cannot be used as input to a TensorFlow function. A KerasTensor is a symbolic placeholder for a shape and dtype, used when constructing Keras Functional models or Keras Functions. You can only use it as input to a Keras layer or a Keras operation (from the namespaces `keras.layers` and `keras.operations`). You are likely doing something like:\n\n```\nx = Input(...)\n...\ntf_fn(x)  # Invalid.\n```\n\nWhat you should do instead is wrap `tf_fn` in a layer:\n\n```\nclass MyLayer(Layer):\n    def call(self, x):\n        return tf_fn(x)\n\nx = MyLayer()(x)\n```\n`. Received args: (<KerasTensor shape=(None,), dtype=float32, sparse=False, name=keras_tensor_25>,) and kwargs: {} for signature: (inputs: TensorSpec(shape=<unknown>, dtype=tf.string, name=None)).\n\nCall arguments received by layer 'USE' (type KerasLayer):\n  • inputs=<KerasTensor shape=(None,), dtype=float32, sparse=False, name=keras_tensor_25>\n  • training=None"
          ]
        }
      ]
    },
    {
      "cell_type": "markdown",
      "source": [
        "# **Comparing the performance of each of our models**"
      ],
      "metadata": {
        "id": "O3Bunx7RHH9Q"
      }
    },
    {
      "cell_type": "code",
      "source": [
        "# Combine model results into a DataFrame\n",
        "all_model_results = pd.DataFrame({\"baseline\": baseline_results,\n",
        "                                  \"simple_dense\": model_1_results,\n",
        "                                  \"lstm\": model_2_results,\n",
        "                                  \"gru\": model_3_results,\n",
        "                                  \"bidirectional\": model_4_results,\n",
        "                                  \"conv1d\": model_5_results})\n",
        "\n",
        "all_model_results.transpose()"
      ],
      "metadata": {
        "colab": {
          "base_uri": "https://localhost:8080/",
          "height": 237
        },
        "id": "swvRLH5h84pK",
        "outputId": "0ec73f40-caae-43f5-95c2-48b1661b191a"
      },
      "execution_count": 99,
      "outputs": [
        {
          "output_type": "execute_result",
          "data": {
            "text/plain": [
              "                accuracy  precision    recall        f1\n",
              "baseline       79.265092   0.811139  0.792651  0.786219\n",
              "simple_dense   77.690289   0.779882  0.776903  0.774350\n",
              "lstm           77.034121   0.776012  0.770341  0.766538\n",
              "gru            75.590551   0.757885  0.755906  0.753263\n",
              "bidirectional  76.771654   0.780112  0.767717  0.761532\n",
              "conv1d         76.902887   0.768651  0.769029  0.768578"
            ],
            "text/html": [
              "\n",
              "  <div id=\"df-0ec5ca21-1b46-41bc-8fc9-4ab32f8c0c08\" class=\"colab-df-container\">\n",
              "    <div>\n",
              "<style scoped>\n",
              "    .dataframe tbody tr th:only-of-type {\n",
              "        vertical-align: middle;\n",
              "    }\n",
              "\n",
              "    .dataframe tbody tr th {\n",
              "        vertical-align: top;\n",
              "    }\n",
              "\n",
              "    .dataframe thead th {\n",
              "        text-align: right;\n",
              "    }\n",
              "</style>\n",
              "<table border=\"1\" class=\"dataframe\">\n",
              "  <thead>\n",
              "    <tr style=\"text-align: right;\">\n",
              "      <th></th>\n",
              "      <th>accuracy</th>\n",
              "      <th>precision</th>\n",
              "      <th>recall</th>\n",
              "      <th>f1</th>\n",
              "    </tr>\n",
              "  </thead>\n",
              "  <tbody>\n",
              "    <tr>\n",
              "      <th>baseline</th>\n",
              "      <td>79.265092</td>\n",
              "      <td>0.811139</td>\n",
              "      <td>0.792651</td>\n",
              "      <td>0.786219</td>\n",
              "    </tr>\n",
              "    <tr>\n",
              "      <th>simple_dense</th>\n",
              "      <td>77.690289</td>\n",
              "      <td>0.779882</td>\n",
              "      <td>0.776903</td>\n",
              "      <td>0.774350</td>\n",
              "    </tr>\n",
              "    <tr>\n",
              "      <th>lstm</th>\n",
              "      <td>77.034121</td>\n",
              "      <td>0.776012</td>\n",
              "      <td>0.770341</td>\n",
              "      <td>0.766538</td>\n",
              "    </tr>\n",
              "    <tr>\n",
              "      <th>gru</th>\n",
              "      <td>75.590551</td>\n",
              "      <td>0.757885</td>\n",
              "      <td>0.755906</td>\n",
              "      <td>0.753263</td>\n",
              "    </tr>\n",
              "    <tr>\n",
              "      <th>bidirectional</th>\n",
              "      <td>76.771654</td>\n",
              "      <td>0.780112</td>\n",
              "      <td>0.767717</td>\n",
              "      <td>0.761532</td>\n",
              "    </tr>\n",
              "    <tr>\n",
              "      <th>conv1d</th>\n",
              "      <td>76.902887</td>\n",
              "      <td>0.768651</td>\n",
              "      <td>0.769029</td>\n",
              "      <td>0.768578</td>\n",
              "    </tr>\n",
              "  </tbody>\n",
              "</table>\n",
              "</div>\n",
              "    <div class=\"colab-df-buttons\">\n",
              "\n",
              "  <div class=\"colab-df-container\">\n",
              "    <button class=\"colab-df-convert\" onclick=\"convertToInteractive('df-0ec5ca21-1b46-41bc-8fc9-4ab32f8c0c08')\"\n",
              "            title=\"Convert this dataframe to an interactive table.\"\n",
              "            style=\"display:none;\">\n",
              "\n",
              "  <svg xmlns=\"http://www.w3.org/2000/svg\" height=\"24px\" viewBox=\"0 -960 960 960\">\n",
              "    <path d=\"M120-120v-720h720v720H120Zm60-500h600v-160H180v160Zm220 220h160v-160H400v160Zm0 220h160v-160H400v160ZM180-400h160v-160H180v160Zm440 0h160v-160H620v160ZM180-180h160v-160H180v160Zm440 0h160v-160H620v160Z\"/>\n",
              "  </svg>\n",
              "    </button>\n",
              "\n",
              "  <style>\n",
              "    .colab-df-container {\n",
              "      display:flex;\n",
              "      gap: 12px;\n",
              "    }\n",
              "\n",
              "    .colab-df-convert {\n",
              "      background-color: #E8F0FE;\n",
              "      border: none;\n",
              "      border-radius: 50%;\n",
              "      cursor: pointer;\n",
              "      display: none;\n",
              "      fill: #1967D2;\n",
              "      height: 32px;\n",
              "      padding: 0 0 0 0;\n",
              "      width: 32px;\n",
              "    }\n",
              "\n",
              "    .colab-df-convert:hover {\n",
              "      background-color: #E2EBFA;\n",
              "      box-shadow: 0px 1px 2px rgba(60, 64, 67, 0.3), 0px 1px 3px 1px rgba(60, 64, 67, 0.15);\n",
              "      fill: #174EA6;\n",
              "    }\n",
              "\n",
              "    .colab-df-buttons div {\n",
              "      margin-bottom: 4px;\n",
              "    }\n",
              "\n",
              "    [theme=dark] .colab-df-convert {\n",
              "      background-color: #3B4455;\n",
              "      fill: #D2E3FC;\n",
              "    }\n",
              "\n",
              "    [theme=dark] .colab-df-convert:hover {\n",
              "      background-color: #434B5C;\n",
              "      box-shadow: 0px 1px 3px 1px rgba(0, 0, 0, 0.15);\n",
              "      filter: drop-shadow(0px 1px 2px rgba(0, 0, 0, 0.3));\n",
              "      fill: #FFFFFF;\n",
              "    }\n",
              "  </style>\n",
              "\n",
              "    <script>\n",
              "      const buttonEl =\n",
              "        document.querySelector('#df-0ec5ca21-1b46-41bc-8fc9-4ab32f8c0c08 button.colab-df-convert');\n",
              "      buttonEl.style.display =\n",
              "        google.colab.kernel.accessAllowed ? 'block' : 'none';\n",
              "\n",
              "      async function convertToInteractive(key) {\n",
              "        const element = document.querySelector('#df-0ec5ca21-1b46-41bc-8fc9-4ab32f8c0c08');\n",
              "        const dataTable =\n",
              "          await google.colab.kernel.invokeFunction('convertToInteractive',\n",
              "                                                    [key], {});\n",
              "        if (!dataTable) return;\n",
              "\n",
              "        const docLinkHtml = 'Like what you see? Visit the ' +\n",
              "          '<a target=\"_blank\" href=https://colab.research.google.com/notebooks/data_table.ipynb>data table notebook</a>'\n",
              "          + ' to learn more about interactive tables.';\n",
              "        element.innerHTML = '';\n",
              "        dataTable['output_type'] = 'display_data';\n",
              "        await google.colab.output.renderOutput(dataTable, element);\n",
              "        const docLink = document.createElement('div');\n",
              "        docLink.innerHTML = docLinkHtml;\n",
              "        element.appendChild(docLink);\n",
              "      }\n",
              "    </script>\n",
              "  </div>\n",
              "\n",
              "\n",
              "<div id=\"df-efaf7191-7930-439e-bdbb-703fd593d68a\">\n",
              "  <button class=\"colab-df-quickchart\" onclick=\"quickchart('df-efaf7191-7930-439e-bdbb-703fd593d68a')\"\n",
              "            title=\"Suggest charts\"\n",
              "            style=\"display:none;\">\n",
              "\n",
              "<svg xmlns=\"http://www.w3.org/2000/svg\" height=\"24px\"viewBox=\"0 0 24 24\"\n",
              "     width=\"24px\">\n",
              "    <g>\n",
              "        <path d=\"M19 3H5c-1.1 0-2 .9-2 2v14c0 1.1.9 2 2 2h14c1.1 0 2-.9 2-2V5c0-1.1-.9-2-2-2zM9 17H7v-7h2v7zm4 0h-2V7h2v10zm4 0h-2v-4h2v4z\"/>\n",
              "    </g>\n",
              "</svg>\n",
              "  </button>\n",
              "\n",
              "<style>\n",
              "  .colab-df-quickchart {\n",
              "      --bg-color: #E8F0FE;\n",
              "      --fill-color: #1967D2;\n",
              "      --hover-bg-color: #E2EBFA;\n",
              "      --hover-fill-color: #174EA6;\n",
              "      --disabled-fill-color: #AAA;\n",
              "      --disabled-bg-color: #DDD;\n",
              "  }\n",
              "\n",
              "  [theme=dark] .colab-df-quickchart {\n",
              "      --bg-color: #3B4455;\n",
              "      --fill-color: #D2E3FC;\n",
              "      --hover-bg-color: #434B5C;\n",
              "      --hover-fill-color: #FFFFFF;\n",
              "      --disabled-bg-color: #3B4455;\n",
              "      --disabled-fill-color: #666;\n",
              "  }\n",
              "\n",
              "  .colab-df-quickchart {\n",
              "    background-color: var(--bg-color);\n",
              "    border: none;\n",
              "    border-radius: 50%;\n",
              "    cursor: pointer;\n",
              "    display: none;\n",
              "    fill: var(--fill-color);\n",
              "    height: 32px;\n",
              "    padding: 0;\n",
              "    width: 32px;\n",
              "  }\n",
              "\n",
              "  .colab-df-quickchart:hover {\n",
              "    background-color: var(--hover-bg-color);\n",
              "    box-shadow: 0 1px 2px rgba(60, 64, 67, 0.3), 0 1px 3px 1px rgba(60, 64, 67, 0.15);\n",
              "    fill: var(--button-hover-fill-color);\n",
              "  }\n",
              "\n",
              "  .colab-df-quickchart-complete:disabled,\n",
              "  .colab-df-quickchart-complete:disabled:hover {\n",
              "    background-color: var(--disabled-bg-color);\n",
              "    fill: var(--disabled-fill-color);\n",
              "    box-shadow: none;\n",
              "  }\n",
              "\n",
              "  .colab-df-spinner {\n",
              "    border: 2px solid var(--fill-color);\n",
              "    border-color: transparent;\n",
              "    border-bottom-color: var(--fill-color);\n",
              "    animation:\n",
              "      spin 1s steps(1) infinite;\n",
              "  }\n",
              "\n",
              "  @keyframes spin {\n",
              "    0% {\n",
              "      border-color: transparent;\n",
              "      border-bottom-color: var(--fill-color);\n",
              "      border-left-color: var(--fill-color);\n",
              "    }\n",
              "    20% {\n",
              "      border-color: transparent;\n",
              "      border-left-color: var(--fill-color);\n",
              "      border-top-color: var(--fill-color);\n",
              "    }\n",
              "    30% {\n",
              "      border-color: transparent;\n",
              "      border-left-color: var(--fill-color);\n",
              "      border-top-color: var(--fill-color);\n",
              "      border-right-color: var(--fill-color);\n",
              "    }\n",
              "    40% {\n",
              "      border-color: transparent;\n",
              "      border-right-color: var(--fill-color);\n",
              "      border-top-color: var(--fill-color);\n",
              "    }\n",
              "    60% {\n",
              "      border-color: transparent;\n",
              "      border-right-color: var(--fill-color);\n",
              "    }\n",
              "    80% {\n",
              "      border-color: transparent;\n",
              "      border-right-color: var(--fill-color);\n",
              "      border-bottom-color: var(--fill-color);\n",
              "    }\n",
              "    90% {\n",
              "      border-color: transparent;\n",
              "      border-bottom-color: var(--fill-color);\n",
              "    }\n",
              "  }\n",
              "</style>\n",
              "\n",
              "  <script>\n",
              "    async function quickchart(key) {\n",
              "      const quickchartButtonEl =\n",
              "        document.querySelector('#' + key + ' button');\n",
              "      quickchartButtonEl.disabled = true;  // To prevent multiple clicks.\n",
              "      quickchartButtonEl.classList.add('colab-df-spinner');\n",
              "      try {\n",
              "        const charts = await google.colab.kernel.invokeFunction(\n",
              "            'suggestCharts', [key], {});\n",
              "      } catch (error) {\n",
              "        console.error('Error during call to suggestCharts:', error);\n",
              "      }\n",
              "      quickchartButtonEl.classList.remove('colab-df-spinner');\n",
              "      quickchartButtonEl.classList.add('colab-df-quickchart-complete');\n",
              "    }\n",
              "    (() => {\n",
              "      let quickchartButtonEl =\n",
              "        document.querySelector('#df-efaf7191-7930-439e-bdbb-703fd593d68a button');\n",
              "      quickchartButtonEl.style.display =\n",
              "        google.colab.kernel.accessAllowed ? 'block' : 'none';\n",
              "    })();\n",
              "  </script>\n",
              "</div>\n",
              "\n",
              "    </div>\n",
              "  </div>\n"
            ],
            "application/vnd.google.colaboratory.intrinsic+json": {
              "type": "dataframe",
              "summary": "{\n  \"name\": \"all_model_results\",\n  \"rows\": 6,\n  \"fields\": [\n    {\n      \"column\": \"accuracy\",\n      \"properties\": {\n        \"dtype\": \"number\",\n        \"std\": 1.2160665164580275,\n        \"min\": 75.59055118110236,\n        \"max\": 79.26509186351706,\n        \"num_unique_values\": 6,\n        \"samples\": [\n          79.26509186351706,\n          77.69028871391076,\n          76.9028871391076\n        ],\n        \"semantic_type\": \"\",\n        \"description\": \"\"\n      }\n    },\n    {\n      \"column\": \"precision\",\n      \"properties\": {\n        \"dtype\": \"number\",\n        \"std\": 0.01787044400508131,\n        \"min\": 0.7578854326598573,\n        \"max\": 0.8111390004213173,\n        \"num_unique_values\": 6,\n        \"samples\": [\n          0.8111390004213173,\n          0.7798819103655997,\n          0.7686512691006243\n        ],\n        \"semantic_type\": \"\",\n        \"description\": \"\"\n      }\n    },\n    {\n      \"column\": \"recall\",\n      \"properties\": {\n        \"dtype\": \"number\",\n        \"std\": 0.012160665164580255,\n        \"min\": 0.7559055118110236,\n        \"max\": 0.7926509186351706,\n        \"num_unique_values\": 6,\n        \"samples\": [\n          0.7926509186351706,\n          0.7769028871391076,\n          0.7690288713910761\n        ],\n        \"semantic_type\": \"\",\n        \"description\": \"\"\n      }\n    },\n    {\n      \"column\": \"f1\",\n      \"properties\": {\n        \"dtype\": \"number\",\n        \"std\": 0.011249243019551151,\n        \"min\": 0.7532626479990396,\n        \"max\": 0.7862189758049549,\n        \"num_unique_values\": 6,\n        \"samples\": [\n          0.7862189758049549,\n          0.7743498017353971,\n          0.7685783875130696\n        ],\n        \"semantic_type\": \"\",\n        \"description\": \"\"\n      }\n    }\n  ]\n}"
            }
          },
          "metadata": {},
          "execution_count": 99
        }
      ]
    },
    {
      "cell_type": "markdown",
      "source": [
        "# **SAVING AND LOADING A TRAINED MODEL**\n",
        "There a 2 main format to save a model in a tensorflow are:\n",
        "1. The **HDF5 Format** (Hierarchical data format version5)\n",
        "2. The **'SavedModel'** format (this is the default tensorflow format)\n",
        "\n"
      ],
      "metadata": {
        "id": "ljI6Nukl5c4X"
      }
    },
    {
      "cell_type": "markdown",
      "source": [
        "![gpt.png](data:image/png;base64,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)"
      ],
      "metadata": {
        "id": "ovf7eeHy76KY"
      }
    },
    {
      "cell_type": "code",
      "source": [
        "# saving model5\n",
        "from tensorflow import keras\n",
        "keras.saving.save_model(model_5, 'model_5.keras')\n",
        "\n",
        "# 2nd method to saving model\n",
        "# model_5.save(\"model_5.h5\")"
      ],
      "metadata": {
        "id": "ngqvlVPeHRol"
      },
      "execution_count": 114,
      "outputs": []
    },
    {
      "cell_type": "code",
      "source": [
        "# loading a model\n",
        "import tensorflow as tf\n",
        "import tensorflow_hub as hub\n",
        "loaded_model_5=tf.keras.models.load_model(\"/content/model_5.keras\")  # must required hdf5 format"
      ],
      "metadata": {
        "colab": {
          "base_uri": "https://localhost:8080/"
        },
        "id": "nDUDr5Z56qR7",
        "outputId": "e5d3c8d4-4fbd-4648-9189-93fd2fd39f00"
      },
      "execution_count": 115,
      "outputs": [
        {
          "output_type": "stream",
          "name": "stderr",
          "text": [
            "/usr/local/lib/python3.10/dist-packages/keras/src/saving/saving_lib.py:576: UserWarning: Skipping variable loading for optimizer 'adam', because it has 12 variables whereas the saved optimizer has 2 variables. \n",
            "  saveable.load_own_variables(weights_store.get(inner_path))\n"
          ]
        }
      ]
    },
    {
      "cell_type": "code",
      "source": [
        "loaded_model_5"
      ],
      "metadata": {
        "colab": {
          "base_uri": "https://localhost:8080/"
        },
        "id": "FfntSluo9C8e",
        "outputId": "a99e1c98-bf91-4566-8f73-c11363afd992"
      },
      "execution_count": 117,
      "outputs": [
        {
          "output_type": "execute_result",
          "data": {
            "text/plain": [
              "<Functional name=conv1D_neural_networks, built=True>"
            ]
          },
          "metadata": {},
          "execution_count": 117
        }
      ]
    },
    {
      "cell_type": "code",
      "source": [
        "loaded_model_5.evaluate(val_sentences,val_labels)"
      ],
      "metadata": {
        "colab": {
          "base_uri": "https://localhost:8080/"
        },
        "id": "Lp-t4c9RAzbq",
        "outputId": "66e71075-81fa-4de1-8aa4-64489c0215cf"
      },
      "execution_count": 118,
      "outputs": [
        {
          "output_type": "stream",
          "name": "stdout",
          "text": [
            "\u001b[1m24/24\u001b[0m \u001b[32m━━━━━━━━━━━━━━━━━━━━\u001b[0m\u001b[37m\u001b[0m \u001b[1m1s\u001b[0m 5ms/step - accuracy: 0.4757 - loss: 0.6988\n"
          ]
        },
        {
          "output_type": "execute_result",
          "data": {
            "text/plain": [
              "[0.7011041641235352, 0.4606299102306366]"
            ]
          },
          "metadata": {},
          "execution_count": 118
        }
      ]
    },
    {
      "cell_type": "code",
      "source": [
        ""
      ],
      "metadata": {
        "id": "dZENVxwoA_ZX"
      },
      "execution_count": null,
      "outputs": []
    }
  ]
}