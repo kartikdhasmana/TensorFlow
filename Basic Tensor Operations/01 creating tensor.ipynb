{
 "cells": [
  {
   "cell_type": "code",
   "execution_count": 1,
   "id": "9e4a97cc-177a-485c-97e0-55a0bb121cf5",
   "metadata": {},
   "outputs": [
    {
     "name": "stdout",
     "output_type": "stream",
     "text": [
      "2.17.0\n"
     ]
    }
   ],
   "source": [
    "import tensorflow as tf\n",
    "print(tf.__version__)"
   ]
  },
  {
   "cell_type": "markdown",
   "id": "3de87517-cd7a-4366-bbcc-4828427f1e33",
   "metadata": {},
   "source": [
    "# creating first tensor"
   ]
  },
  {
   "cell_type": "code",
   "execution_count": 2,
   "id": "91cbd4e4-4407-43af-a149-78c5e8092d36",
   "metadata": {},
   "outputs": [
    {
     "data": {
      "text/plain": [
       "<tf.Tensor: shape=(), dtype=int32, numpy=4>"
      ]
     },
     "execution_count": 2,
     "metadata": {},
     "output_type": "execute_result"
    }
   ],
   "source": [
    "scalar=tf.constant(4)\n",
    "scalar"
   ]
  },
  {
   "cell_type": "code",
   "execution_count": 3,
   "id": "fb738d40-af0b-4a6e-a9fc-0ac88294af26",
   "metadata": {},
   "outputs": [],
   "source": [
    "# checking dimension of tensors\n"
   ]
  },
  {
   "cell_type": "code",
   "execution_count": 4,
   "id": "273e8853-d547-4e48-b9df-ce2f6e05f629",
   "metadata": {},
   "outputs": [
    {
     "data": {
      "text/plain": [
       "0"
      ]
     },
     "execution_count": 4,
     "metadata": {},
     "output_type": "execute_result"
    }
   ],
   "source": [
    "scalar.ndim"
   ]
  },
  {
   "cell_type": "code",
   "execution_count": 5,
   "id": "c6bac94f-2ef1-4a60-a68e-32d2a13a2f1f",
   "metadata": {},
   "outputs": [],
   "source": [
    "# creating vector tensor "
   ]
  },
  {
   "cell_type": "code",
   "execution_count": 6,
   "id": "5e0fcc31-3a18-454a-8592-0e357150463b",
   "metadata": {},
   "outputs": [
    {
     "data": {
      "text/plain": [
       "<tf.Tensor: shape=(4,), dtype=int32, numpy=array([2, 3, 4, 5])>"
      ]
     },
     "execution_count": 6,
     "metadata": {},
     "output_type": "execute_result"
    }
   ],
   "source": [
    "vector=tf.constant([2,3,4,5])\n",
    "vector"
   ]
  },
  {
   "cell_type": "code",
   "execution_count": 7,
   "id": "548ce872-90fc-4dbe-9955-9c420439bc5f",
   "metadata": {},
   "outputs": [
    {
     "data": {
      "text/plain": [
       "1"
      ]
     },
     "execution_count": 7,
     "metadata": {},
     "output_type": "execute_result"
    }
   ],
   "source": [
    "vector.ndim"
   ]
  },
  {
   "cell_type": "code",
   "execution_count": 8,
   "id": "dd14069f-7bc8-42f8-b855-94b7410da8b7",
   "metadata": {},
   "outputs": [],
   "source": [
    "# creating matrix tensor"
   ]
  },
  {
   "cell_type": "code",
   "execution_count": 9,
   "id": "29c203b6-9f33-420e-9fe1-af2f25915724",
   "metadata": {},
   "outputs": [],
   "source": [
    "matrix=tf.constant([[2.,3.,4.],\n",
    "                  [5.,6.,7.],\n",
    "                  [8.,9.,10.]])"
   ]
  },
  {
   "cell_type": "code",
   "execution_count": 10,
   "id": "46e793b9-5c07-47ed-a1c0-fb7d85249a72",
   "metadata": {},
   "outputs": [
    {
     "data": {
      "text/plain": [
       "<tf.Tensor: shape=(3, 3), dtype=float32, numpy=\n",
       "array([[ 2.,  3.,  4.],\n",
       "       [ 5.,  6.,  7.],\n",
       "       [ 8.,  9., 10.]], dtype=float32)>"
      ]
     },
     "execution_count": 10,
     "metadata": {},
     "output_type": "execute_result"
    }
   ],
   "source": [
    "matrix"
   ]
  },
  {
   "cell_type": "code",
   "execution_count": 11,
   "id": "178d44ec-53fb-4c09-b1a1-909858353c3c",
   "metadata": {},
   "outputs": [
    {
     "data": {
      "text/plain": [
       "2"
      ]
     },
     "execution_count": 11,
     "metadata": {},
     "output_type": "execute_result"
    }
   ],
   "source": [
    "matrix.ndim"
   ]
  },
  {
   "cell_type": "markdown",
   "id": "382dd656-1967-4992-8cd1-dad99edc7c59",
   "metadata": {},
   "source": [
    "# how to create a tensor"
   ]
  },
  {
   "cell_type": "code",
   "execution_count": 12,
   "id": "8576814b-de90-43fa-be05-94a29a62126f",
   "metadata": {},
   "outputs": [],
   "source": [
    "tensor=tf.constant([[[1,2,3],\n",
    "                    [4,5,6]],\n",
    "                    \n",
    "                    [[7,8,9],\n",
    "                    [10,11,12]],\n",
    "\n",
    "                    [[13,14,15],\n",
    "                    [16,17,18]]],)"
   ]
  },
  {
   "cell_type": "code",
   "execution_count": 13,
   "id": "f47d9f78-00e8-4439-80f7-6b36240be712",
   "metadata": {},
   "outputs": [
    {
     "data": {
      "text/plain": [
       "<tf.Tensor: shape=(3, 2, 3), dtype=int32, numpy=\n",
       "array([[[ 1,  2,  3],\n",
       "        [ 4,  5,  6]],\n",
       "\n",
       "       [[ 7,  8,  9],\n",
       "        [10, 11, 12]],\n",
       "\n",
       "       [[13, 14, 15],\n",
       "        [16, 17, 18]]])>"
      ]
     },
     "execution_count": 13,
     "metadata": {},
     "output_type": "execute_result"
    }
   ],
   "source": [
    "tensor"
   ]
  },
  {
   "cell_type": "code",
   "execution_count": null,
   "id": "deff915b-1bc8-4609-b6aa-c871dee0be86",
   "metadata": {},
   "outputs": [],
   "source": []
  },
  {
   "cell_type": "markdown",
   "id": "ddc42ea8-27a9-45d4-be1a-28e3eb05ef55",
   "metadata": {},
   "source": [
    "# There are two ways to create tensors are:\n",
    "1) constant\n",
    "2) variable"
   ]
  },
  {
   "cell_type": "code",
   "execution_count": 14,
   "id": "94dc3390-2437-465d-927c-4f2e0ada8604",
   "metadata": {},
   "outputs": [],
   "source": [
    "unchangeable_tensor=tf.constant([7,7])\n",
    "changeable_tensor=tf.Variable([10,7])"
   ]
  },
  {
   "cell_type": "code",
   "execution_count": 15,
   "id": "f2366071-944c-40bc-876a-e16d1802d3e3",
   "metadata": {},
   "outputs": [
    {
     "data": {
      "text/plain": [
       "(<tf.Tensor: shape=(2,), dtype=int32, numpy=array([7, 7])>,\n",
       " <tf.Variable 'Variable:0' shape=(2,) dtype=int32, numpy=array([10,  7])>)"
      ]
     },
     "execution_count": 15,
     "metadata": {},
     "output_type": "execute_result"
    }
   ],
   "source": [
    "unchangeable_tensor,changeable_tensor"
   ]
  },
  {
   "cell_type": "code",
   "execution_count": 16,
   "id": "1d98ee03-3760-41ea-b287-fec3be0d807b",
   "metadata": {},
   "outputs": [
    {
     "data": {
      "text/plain": [
       "<tf.Variable 'UnreadVariable' shape=(2,) dtype=int32, numpy=array([10,  0])>"
      ]
     },
     "execution_count": 16,
     "metadata": {},
     "output_type": "execute_result"
    }
   ],
   "source": [
    "changeable_tensor[1].assign(0)"
   ]
  },
  {
   "cell_type": "code",
   "execution_count": 17,
   "id": "dffe220b-c498-4dac-a245-7f5a6b81e552",
   "metadata": {},
   "outputs": [
    {
     "data": {
      "text/plain": [
       "<tf.Variable 'Variable:0' shape=(2,) dtype=int32, numpy=array([10,  0])>"
      ]
     },
     "execution_count": 17,
     "metadata": {},
     "output_type": "execute_result"
    }
   ],
   "source": [
    "changeable_tensor"
   ]
  },
  {
   "cell_type": "markdown",
   "id": "55547e7c-0556-4305-bcb0-03d6bf8e40ef",
   "metadata": {},
   "source": [
    "# creating random tensor"
   ]
  },
  {
   "cell_type": "raw",
   "id": "13cf9eae-57cc-4213-978c-e329adfe1939",
   "metadata": {},
   "source": [
    "Random Tensor are the tensor are some arbitary size contain of some random number "
   ]
  },
  {
   "cell_type": "code",
   "execution_count": 18,
   "id": "01436f69-2645-4135-a1fa-3e69fc24e6c1",
   "metadata": {},
   "outputs": [
    {
     "data": {
      "text/plain": [
       "<tf.Tensor: shape=(3, 2), dtype=float32, numpy=\n",
       "array([[-1.3240396 ,  0.28785667],\n",
       "       [-0.8757901 , -0.08857018],\n",
       "       [ 0.69211644,  0.84215707]], dtype=float32)>"
      ]
     },
     "execution_count": 18,
     "metadata": {},
     "output_type": "execute_result"
    }
   ],
   "source": [
    "random_tensor=tf.random.Generator.from_seed(7)\n",
    "random_tensor=random_tensor.normal(shape=(3,2))\n",
    "random_tensor\n"
   ]
  },
  {
   "cell_type": "markdown",
   "id": "7564da22-e00b-406c-92ae-cf340f82a28b",
   "metadata": {},
   "source": [
    "# changing order of elements in a tensor"
   ]
  },
  {
   "cell_type": "code",
   "execution_count": 19,
   "id": "3c60f286-029c-4c7c-b988-63f6d6f9ecaa",
   "metadata": {},
   "outputs": [],
   "source": [
    "# shuffling order of a tensor"
   ]
  },
  {
   "cell_type": "code",
   "execution_count": 20,
   "id": "45ce9470-6ceb-41e9-8208-7f89ef9e9bf4",
   "metadata": {},
   "outputs": [],
   "source": [
    "tensor_not_shuffled=tf.Variable([[1,2],\n",
    "                                [3,4],\n",
    "                                [5,6]])                       "
   ]
  },
  {
   "cell_type": "code",
   "execution_count": 21,
   "id": "05890c6d-cf29-48f6-955f-03e4f9ebc57d",
   "metadata": {},
   "outputs": [],
   "source": [
    "# showimg the unshuffled tensor"
   ]
  },
  {
   "cell_type": "code",
   "execution_count": 22,
   "id": "11884978-674e-4cd6-b29e-fb342675be71",
   "metadata": {},
   "outputs": [
    {
     "data": {
      "text/plain": [
       "<tf.Variable 'Variable:0' shape=(3, 2) dtype=int32, numpy=\n",
       "array([[1, 2],\n",
       "       [3, 4],\n",
       "       [5, 6]])>"
      ]
     },
     "execution_count": 22,
     "metadata": {},
     "output_type": "execute_result"
    }
   ],
   "source": [
    "tensor_not_shuffled"
   ]
  },
  {
   "cell_type": "code",
   "execution_count": 23,
   "id": "c8c053a5-a57b-423a-99f7-a694ec3f8f03",
   "metadata": {},
   "outputs": [],
   "source": [
    "# shuffling the tensor_not_shuffled"
   ]
  },
  {
   "cell_type": "code",
   "execution_count": 24,
   "id": "7a03edc0-9a26-461f-8207-4190c18d543f",
   "metadata": {},
   "outputs": [
    {
     "data": {
      "text/plain": [
       "<tf.Tensor: shape=(3, 2), dtype=int32, numpy=\n",
       "array([[3, 4],\n",
       "       [5, 6],\n",
       "       [1, 2]])>"
      ]
     },
     "execution_count": 24,
     "metadata": {},
     "output_type": "execute_result"
    }
   ],
   "source": [
    "tf.random.set_seed=4\n",
    "tensor_shuffled=tf.random.shuffle(tensor_not_shuffled,seed=4)\n",
    "tensor_shuffled\n"
   ]
  },
  {
   "cell_type": "markdown",
   "id": "81feab7f-6c8a-4ac1-ae14-2c69a1c06d3f",
   "metadata": {},
   "source": [
    "# creating a tensor of :\n",
    "1) All Ones\n",
    "2) All Zeroes"
   ]
  },
  {
   "cell_type": "code",
   "execution_count": 25,
   "id": "eed6e709-6d96-4abc-9af3-9af5defd2664",
   "metadata": {},
   "outputs": [
    {
     "data": {
      "text/plain": [
       "<tf.Tensor: shape=(3, 4), dtype=float32, numpy=\n",
       "array([[1., 1., 1., 1.],\n",
       "       [1., 1., 1., 1.],\n",
       "       [1., 1., 1., 1.]], dtype=float32)>"
      ]
     },
     "execution_count": 25,
     "metadata": {},
     "output_type": "execute_result"
    }
   ],
   "source": [
    "ones=tf.ones(shape=(3,4))\n",
    "ones"
   ]
  },
  {
   "cell_type": "code",
   "execution_count": 26,
   "id": "0c101c47-7c63-4b7f-b180-2e3326338f42",
   "metadata": {},
   "outputs": [
    {
     "data": {
      "text/plain": [
       "<tf.Tensor: shape=(10, 10), dtype=float32, numpy=\n",
       "array([[0., 0., 0., 0., 0., 0., 0., 0., 0., 0.],\n",
       "       [0., 0., 0., 0., 0., 0., 0., 0., 0., 0.],\n",
       "       [0., 0., 0., 0., 0., 0., 0., 0., 0., 0.],\n",
       "       [0., 0., 0., 0., 0., 0., 0., 0., 0., 0.],\n",
       "       [0., 0., 0., 0., 0., 0., 0., 0., 0., 0.],\n",
       "       [0., 0., 0., 0., 0., 0., 0., 0., 0., 0.],\n",
       "       [0., 0., 0., 0., 0., 0., 0., 0., 0., 0.],\n",
       "       [0., 0., 0., 0., 0., 0., 0., 0., 0., 0.],\n",
       "       [0., 0., 0., 0., 0., 0., 0., 0., 0., 0.],\n",
       "       [0., 0., 0., 0., 0., 0., 0., 0., 0., 0.]], dtype=float32)>"
      ]
     },
     "execution_count": 26,
     "metadata": {},
     "output_type": "execute_result"
    }
   ],
   "source": [
    "zeros=tf.zeros(shape=(10,10))\n",
    "zeros"
   ]
  },
  {
   "cell_type": "markdown",
   "id": "b91e3512-64f3-41a0-ba50-be521e2d22b2",
   "metadata": {},
   "source": [
    "# PASSING NUMPY TO TENSOR"
   ]
  },
  {
   "cell_type": "code",
   "execution_count": 27,
   "id": "1ec24ce2-6344-4dad-bff2-10d962e12359",
   "metadata": {},
   "outputs": [
    {
     "data": {
      "text/plain": [
       "array([ 1,  2,  3,  4,  5,  6,  7,  8,  9, 10, 11, 12, 13, 14, 15, 16, 17,\n",
       "       18, 19, 20, 21, 22, 23, 24])"
      ]
     },
     "execution_count": 27,
     "metadata": {},
     "output_type": "execute_result"
    }
   ],
   "source": [
    "import numpy as np \n",
    "np_array=np.arange(1,25,dtype=int)\n",
    "np_array"
   ]
  },
  {
   "cell_type": "code",
   "execution_count": 28,
   "id": "78337573-e274-4ca6-9e99-321c809a2b45",
   "metadata": {},
   "outputs": [
    {
     "data": {
      "text/plain": [
       "<tf.Variable 'Variable:0' shape=(24,) dtype=int32, numpy=\n",
       "array([ 1,  2,  3,  4,  5,  6,  7,  8,  9, 10, 11, 12, 13, 14, 15, 16, 17,\n",
       "       18, 19, 20, 21, 22, 23, 24])>"
      ]
     },
     "execution_count": 28,
     "metadata": {},
     "output_type": "execute_result"
    }
   ],
   "source": [
    "tensor1=tf.Variable(np_array)\n",
    "tensor1"
   ]
  },
  {
   "cell_type": "code",
   "execution_count": 29,
   "id": "a1bc679e-8dec-4477-84b5-b8656f76aa3d",
   "metadata": {},
   "outputs": [],
   "source": [
    "# changing shape of numpy array in tensor"
   ]
  },
  {
   "cell_type": "code",
   "execution_count": 30,
   "id": "1e4d5dbf-6f6a-4dee-876e-b0b3521a5498",
   "metadata": {},
   "outputs": [
    {
     "data": {
      "text/plain": [
       "<tf.Tensor: shape=(2, 3, 4), dtype=int32, numpy=\n",
       "array([[[ 1,  2,  3,  4],\n",
       "        [ 5,  6,  7,  8],\n",
       "        [ 9, 10, 11, 12]],\n",
       "\n",
       "       [[13, 14, 15, 16],\n",
       "        [17, 18, 19, 20],\n",
       "        [21, 22, 23, 24]]])>"
      ]
     },
     "execution_count": 30,
     "metadata": {},
     "output_type": "execute_result"
    }
   ],
   "source": [
    "tensor2=tf.constant(np_array,shape=(2,3,4))\n",
    "tensor2"
   ]
  },
  {
   "cell_type": "markdown",
   "id": "31e42e0c-344b-4e35-a12a-62bccc7dfcb3",
   "metadata": {},
   "source": [
    "# various attributes in tensor\n",
    "1) Shape\n",
    "2) Rank\n",
    "3) Axis/Dimension\n",
    "4) size\n",
    "5) Datatype"
   ]
  },
  {
   "cell_type": "code",
   "execution_count": 31,
   "id": "29aaeeee-0260-4c30-9a55-107244448b9f",
   "metadata": {},
   "outputs": [
    {
     "data": {
      "text/plain": [
       "<tf.Tensor: shape=(2, 3, 4, 5), dtype=float32, numpy=\n",
       "array([[[[1., 1., 1., 1., 1.],\n",
       "         [1., 1., 1., 1., 1.],\n",
       "         [1., 1., 1., 1., 1.],\n",
       "         [1., 1., 1., 1., 1.]],\n",
       "\n",
       "        [[1., 1., 1., 1., 1.],\n",
       "         [1., 1., 1., 1., 1.],\n",
       "         [1., 1., 1., 1., 1.],\n",
       "         [1., 1., 1., 1., 1.]],\n",
       "\n",
       "        [[1., 1., 1., 1., 1.],\n",
       "         [1., 1., 1., 1., 1.],\n",
       "         [1., 1., 1., 1., 1.],\n",
       "         [1., 1., 1., 1., 1.]]],\n",
       "\n",
       "\n",
       "       [[[1., 1., 1., 1., 1.],\n",
       "         [1., 1., 1., 1., 1.],\n",
       "         [1., 1., 1., 1., 1.],\n",
       "         [1., 1., 1., 1., 1.]],\n",
       "\n",
       "        [[1., 1., 1., 1., 1.],\n",
       "         [1., 1., 1., 1., 1.],\n",
       "         [1., 1., 1., 1., 1.],\n",
       "         [1., 1., 1., 1., 1.]],\n",
       "\n",
       "        [[1., 1., 1., 1., 1.],\n",
       "         [1., 1., 1., 1., 1.],\n",
       "         [1., 1., 1., 1., 1.],\n",
       "         [1., 1., 1., 1., 1.]]]], dtype=float32)>"
      ]
     },
     "execution_count": 31,
     "metadata": {},
     "output_type": "execute_result"
    }
   ],
   "source": [
    "attributes_tensor=tf.ones(shape=(2,3,4,5))\n",
    "attributes_tensor"
   ]
  },
  {
   "cell_type": "code",
   "execution_count": 32,
   "id": "06a28dea-2aca-45f7-966a-cf6fb6e85df3",
   "metadata": {},
   "outputs": [
    {
     "name": "stdout",
     "output_type": "stream",
     "text": [
      "shape of tensor: (2, 3, 4, 5)\n",
      "Rank of the tensor: 3\n",
      "element along first axis: 5\n",
      "Total number of element in a tensor: tf.Tensor(120, shape=(), dtype=int32)\n",
      "DataType of a tensor: <dtype: 'float32'>\n"
     ]
    }
   ],
   "source": [
    "print(\"shape of tensor:\",attributes_tensor.shape)\n",
    "print(\"Rank of the tensor:\",tensor.ndim)\n",
    "print(\"element along first axis:\",attributes_tensor.shape[-1])\n",
    "print(\"Total number of element in a tensor:\",tf.size(attributes_tensor))\n",
    "print(\"DataType of a tensor:\",attributes_tensor.dtype)"
   ]
  },
  {
   "cell_type": "code",
   "execution_count": 33,
   "id": "46331b4b-ae88-46a7-8c49-fdc70de83bce",
   "metadata": {},
   "outputs": [],
   "source": [
    "# expanding dimension of a tensor"
   ]
  },
  {
   "cell_type": "code",
   "execution_count": 34,
   "id": "f54e2611-d26b-41ba-9354-8001eba2aa69",
   "metadata": {},
   "outputs": [],
   "source": [
    "tens=tf.Variable([[1,2,3,4],\n",
    "                 [5,6,7,8]])\n"
   ]
  },
  {
   "cell_type": "code",
   "execution_count": 35,
   "id": "9b87d4d1-4522-4fab-9d5d-444faa3dfe2d",
   "metadata": {},
   "outputs": [
    {
     "data": {
      "text/plain": [
       "<tf.Variable 'Variable:0' shape=(2, 4) dtype=int32, numpy=\n",
       "array([[1, 2, 3, 4],\n",
       "       [5, 6, 7, 8]])>"
      ]
     },
     "execution_count": 35,
     "metadata": {},
     "output_type": "execute_result"
    }
   ],
   "source": [
    "tens"
   ]
  },
  {
   "cell_type": "code",
   "execution_count": 36,
   "id": "984f4671-bab1-43e1-a9b0-e4d4a15ec6bc",
   "metadata": {},
   "outputs": [
    {
     "data": {
      "text/plain": [
       "<tf.Tensor: shape=(2, 4, 1), dtype=int32, numpy=\n",
       "array([[[1],\n",
       "        [2],\n",
       "        [3],\n",
       "        [4]],\n",
       "\n",
       "       [[5],\n",
       "        [6],\n",
       "        [7],\n",
       "        [8]]])>"
      ]
     },
     "execution_count": 36,
     "metadata": {},
     "output_type": "execute_result"
    }
   ],
   "source": [
    "tf.expand_dims(tens,axis=-1)"
   ]
  },
  {
   "cell_type": "markdown",
   "id": "d79a6294-76c5-4a52-8f38-0e3dc0894479",
   "metadata": {},
   "source": [
    "# MANIPULATING TENSOR\n",
    "1. addition\n",
    "2. multplication\n",
    "3. subtractions\n",
    "4. Division"
   ]
  },
  {
   "cell_type": "code",
   "execution_count": 37,
   "id": "cb2ce5cf-bc93-42e9-8194-00431eaab941",
   "metadata": {},
   "outputs": [
    {
     "name": "stdout",
     "output_type": "stream",
     "text": [
      "<tf.Variable 'Variable:0' shape=(2, 4) dtype=int32, numpy=\n",
      "array([[1, 2, 3, 4],\n",
      "       [5, 6, 7, 8]])>\n",
      "addition in tensor: tf.Tensor(\n",
      "[[11 12 13 14]\n",
      " [15 16 17 18]], shape=(2, 4), dtype=int32)\n"
     ]
    }
   ],
   "source": [
    "print(tens)\n",
    "print(\"addition in tensor:\",tens+10)"
   ]
  },
  {
   "cell_type": "code",
   "execution_count": 38,
   "id": "791dbda8-3752-419d-a8be-1e23531b0d2b",
   "metadata": {},
   "outputs": [
    {
     "name": "stdout",
     "output_type": "stream",
     "text": [
      "<tf.Variable 'Variable:0' shape=(2, 4) dtype=int32, numpy=\n",
      "array([[1, 2, 3, 4],\n",
      "       [5, 6, 7, 8]])>\n",
      "subtraction in tensor: tf.Tensor(\n",
      "[[-9 -8 -7 -6]\n",
      " [-5 -4 -3 -2]], shape=(2, 4), dtype=int32)\n"
     ]
    }
   ],
   "source": [
    "print(tens)\n",
    "print(\"subtraction in tensor:\",tens-10)"
   ]
  },
  {
   "cell_type": "code",
   "execution_count": 39,
   "id": "89215dfc-4577-4e61-8f2d-30fb7a5d981f",
   "metadata": {},
   "outputs": [
    {
     "name": "stdout",
     "output_type": "stream",
     "text": [
      "<tf.Variable 'Variable:0' shape=(2, 4) dtype=int32, numpy=\n",
      "array([[1, 2, 3, 4],\n",
      "       [5, 6, 7, 8]])>\n",
      "multiplication in tensor: tf.Tensor(\n",
      "[[10 20 30 40]\n",
      " [50 60 70 80]], shape=(2, 4), dtype=int32)\n"
     ]
    }
   ],
   "source": [
    "print(tens)\n",
    "print(\"multiplication in tensor:\",tens*10)"
   ]
  },
  {
   "cell_type": "code",
   "execution_count": 40,
   "id": "386deb5d-4a34-44f2-853a-35f93283d362",
   "metadata": {},
   "outputs": [
    {
     "name": "stdout",
     "output_type": "stream",
     "text": [
      "<tf.Variable 'Variable:0' shape=(2, 4) dtype=int32, numpy=\n",
      "array([[1, 2, 3, 4],\n",
      "       [5, 6, 7, 8]])>\n",
      "division in tensor: tf.Tensor(\n",
      "[[0.1 0.2 0.3 0.4]\n",
      " [0.5 0.6 0.7 0.8]], shape=(2, 4), dtype=float64)\n"
     ]
    }
   ],
   "source": [
    "print(tens)\n",
    "print(\"division in tensor:\",tens/10)"
   ]
  },
  {
   "cell_type": "code",
   "execution_count": null,
   "id": "a24d8555-1222-4d58-ad9c-bd71f75660bd",
   "metadata": {},
   "outputs": [],
   "source": []
  },
  {
   "cell_type": "markdown",
   "id": "d2f353e8-bc65-4972-a877-8311c8fb54ee",
   "metadata": {},
   "source": [
    "# MATRIX MULTIPLICATION\n",
    "The matrix multiplication is perform by 2 ways:\n",
    "1) By direct multiplication ---tf.matmul()\n",
    "2) By dot-product multiplication----tf.tensordot()"
   ]
  },
  {
   "cell_type": "code",
   "execution_count": 41,
   "id": "ef6d6490-f39d-4364-b7e2-69e8cdcb6444",
   "metadata": {},
   "outputs": [],
   "source": [
    "# performing matrix multiplication"
   ]
  },
  {
   "cell_type": "code",
   "execution_count": 42,
   "id": "cd448053-3371-4c87-96a7-9775624f6700",
   "metadata": {},
   "outputs": [
    {
     "data": {
      "text/plain": [
       "<tf.Tensor: shape=(2, 3), dtype=int32, numpy=\n",
       "array([[1, 2, 3],\n",
       "       [4, 5, 6]])>"
      ]
     },
     "execution_count": 42,
     "metadata": {},
     "output_type": "execute_result"
    }
   ],
   "source": [
    "a = tf.constant([1, 2, 3, 4, 5, 6], shape=[2, 3])\n",
    "a"
   ]
  },
  {
   "cell_type": "code",
   "execution_count": 43,
   "id": "6bf5ce1f-d630-45a3-9578-adb9c2e736a8",
   "metadata": {},
   "outputs": [
    {
     "data": {
      "text/plain": [
       "<tf.Tensor: shape=(3, 2), dtype=int32, numpy=\n",
       "array([[ 7,  8],\n",
       "       [ 9, 10],\n",
       "       [11, 12]])>"
      ]
     },
     "execution_count": 43,
     "metadata": {},
     "output_type": "execute_result"
    }
   ],
   "source": [
    "b = tf.constant([7, 8, 9, 10, 11, 12], shape=[3, 2])\n",
    "b"
   ]
  },
  {
   "cell_type": "code",
   "execution_count": 44,
   "id": "bb1a8f14-ff94-4982-9300-fefb67f1db76",
   "metadata": {},
   "outputs": [],
   "source": [
    "matrix_mult=tf.matmul(a,b)"
   ]
  },
  {
   "cell_type": "code",
   "execution_count": 45,
   "id": "a91db768-23f5-4d6f-ad70-ac61867bf507",
   "metadata": {},
   "outputs": [
    {
     "data": {
      "text/plain": [
       "<tf.Tensor: shape=(2, 2), dtype=int32, numpy=\n",
       "array([[ 58,  64],\n",
       "       [139, 154]])>"
      ]
     },
     "execution_count": 45,
     "metadata": {},
     "output_type": "execute_result"
    }
   ],
   "source": [
    "matrix_mult"
   ]
  },
  {
   "cell_type": "code",
   "execution_count": 46,
   "id": "4e496c7f-8ce1-423c-b321-5ce1b155c899",
   "metadata": {},
   "outputs": [],
   "source": [
    "import numpy as np"
   ]
  },
  {
   "cell_type": "code",
   "execution_count": 47,
   "id": "c443e7cb-a36c-4cc7-b676-1449acb40f0a",
   "metadata": {},
   "outputs": [
    {
     "data": {
      "text/plain": [
       "(<tf.Tensor: shape=(2, 3), dtype=int32, numpy=\n",
       " array([[1, 2, 3],\n",
       "        [4, 5, 6]])>,\n",
       " <tf.Tensor: shape=(2, 3), dtype=int32, numpy=\n",
       " array([[ 7,  8,  9],\n",
       "        [10, 11, 12]])>)"
      ]
     },
     "execution_count": 47,
     "metadata": {},
     "output_type": "execute_result"
    }
   ],
   "source": [
    "c = tf.constant([1, 2, 3, 4, 5, 6], shape=[2, 3])\n",
    "d = tf.constant([7, 8, 9, 10, 11, 12], shape=[2, 3])\n",
    "c,d"
   ]
  },
  {
   "cell_type": "code",
   "execution_count": 48,
   "id": "34a29d51-4a39-4529-be7b-0045ed4ed3e2",
   "metadata": {},
   "outputs": [],
   "source": [
    "d=tf.reshape(d,(3,2))"
   ]
  },
  {
   "cell_type": "code",
   "execution_count": 49,
   "id": "fff19d98-a576-4234-ac69-2cc47936dede",
   "metadata": {},
   "outputs": [
    {
     "data": {
      "text/plain": [
       "<tf.Tensor: shape=(2, 2), dtype=int32, numpy=\n",
       "array([[ 58,  64],\n",
       "       [139, 154]])>"
      ]
     },
     "execution_count": 49,
     "metadata": {},
     "output_type": "execute_result"
    }
   ],
   "source": [
    "e=tf.matmul(c,d)\n",
    "e"
   ]
  },
  {
   "cell_type": "markdown",
   "id": "4ba34d83-5bb8-4223-a43d-7bcbf5a0a2d7",
   "metadata": {},
   "source": [
    "# TENSOR AGGREGATION\n",
    "1) abosulte value\n",
    "2) get the minumum\n",
    "3) get the maximum\n",
    "4) get the sum\n",
    "5) get the mean\n",
    "6) calculating variance of a tensor\n"
   ]
  },
  {
   "cell_type": "code",
   "execution_count": 52,
   "id": "934bdb50-0498-4c89-9bc3-0bf544b1dcaa",
   "metadata": {},
   "outputs": [
    {
     "data": {
      "text/plain": [
       "<tf.Tensor: shape=(4,), dtype=int32, numpy=array([-1, -2,  3, -4])>"
      ]
     },
     "execution_count": 52,
     "metadata": {},
     "output_type": "execute_result"
    }
   ],
   "source": [
    "tensor1=tf.constant([-1,-2,3,-4])\n",
    "tensor1"
   ]
  },
  {
   "cell_type": "code",
   "execution_count": 53,
   "id": "2e070963-1e43-460e-9512-af71fea04eda",
   "metadata": {},
   "outputs": [
    {
     "data": {
      "text/plain": [
       "<tf.Tensor: shape=(4,), dtype=int32, numpy=array([1, 2, 3, 4])>"
      ]
     },
     "execution_count": 53,
     "metadata": {},
     "output_type": "execute_result"
    }
   ],
   "source": [
    "# fetching absolute value from tensor\n",
    "tf.abs(tensor1)"
   ]
  },
  {
   "cell_type": "code",
   "execution_count": 56,
   "id": "087e4a81-226c-4d1d-8e63-0fac963df05e",
   "metadata": {},
   "outputs": [
    {
     "data": {
      "text/plain": [
       "<tf.Tensor: shape=(), dtype=int32, numpy=3>"
      ]
     },
     "execution_count": 56,
     "metadata": {},
     "output_type": "execute_result"
    }
   ],
   "source": [
    "# fetching maximum value from tensor\n",
    "tf.reduce_max(tensor1)"
   ]
  },
  {
   "cell_type": "code",
   "execution_count": 57,
   "id": "411d232e-46e6-4e59-82ac-bb7e1eea2e7b",
   "metadata": {},
   "outputs": [
    {
     "data": {
      "text/plain": [
       "<tf.Tensor: shape=(), dtype=int32, numpy=-4>"
      ]
     },
     "execution_count": 57,
     "metadata": {},
     "output_type": "execute_result"
    }
   ],
   "source": [
    "# fetching minimum value from tensor\n",
    "tf.reduce_min(tensor1)"
   ]
  },
  {
   "cell_type": "code",
   "execution_count": 58,
   "id": "77dcd47c-2d6f-43f2-9a84-1e98303224fd",
   "metadata": {},
   "outputs": [
    {
     "data": {
      "text/plain": [
       "<tf.Tensor: shape=(), dtype=int32, numpy=-1>"
      ]
     },
     "execution_count": 58,
     "metadata": {},
     "output_type": "execute_result"
    }
   ],
   "source": [
    "# fetching mean value from tensor\n",
    "tf.reduce_mean(tensor1)"
   ]
  },
  {
   "cell_type": "code",
   "execution_count": 60,
   "id": "773e61bd-fae8-4bed-be25-d802024a732b",
   "metadata": {},
   "outputs": [
    {
     "data": {
      "text/plain": [
       "<tf.Tensor: shape=(), dtype=int32, numpy=-4>"
      ]
     },
     "execution_count": 60,
     "metadata": {},
     "output_type": "execute_result"
    }
   ],
   "source": [
    "# fetching sum of tensor\n",
    "tf.reduce_sum(tensor1)"
   ]
  },
  {
   "cell_type": "markdown",
   "id": "93c9d5df-839f-42e7-9f8f-63a47c837660",
   "metadata": {},
   "source": [
    "# TYPE CASTING"
   ]
  },
  {
   "cell_type": "code",
   "execution_count": 75,
   "id": "d1409b5e-4663-476b-a51c-4a047f49b727",
   "metadata": {},
   "outputs": [
    {
     "data": {
      "text/plain": [
       "tf.int32"
      ]
     },
     "execution_count": 75,
     "metadata": {},
     "output_type": "execute_result"
    }
   ],
   "source": [
    "tensor.dtype"
   ]
  },
  {
   "cell_type": "code",
   "execution_count": 79,
   "id": "0bc1f8af-eb2c-4bb3-b602-1c44f5ed71df",
   "metadata": {},
   "outputs": [
    {
     "data": {
      "text/plain": [
       "tf.float32"
      ]
     },
     "execution_count": 79,
     "metadata": {},
     "output_type": "execute_result"
    }
   ],
   "source": [
    "# casting its type \n",
    "tensor1=tf.cast(tensor1,dtype=tf.float32)\n",
    "tensor1.dtype"
   ]
  },
  {
   "cell_type": "code",
   "execution_count": 81,
   "id": "7041290c-c6e1-4a36-a901-bb37884dd94c",
   "metadata": {},
   "outputs": [],
   "source": [
    "# finding variance of a tensor"
   ]
  },
  {
   "cell_type": "code",
   "execution_count": 80,
   "id": "aa2a460d-4f36-4831-ba2a-4ef6da3973cb",
   "metadata": {},
   "outputs": [
    {
     "data": {
      "text/plain": [
       "<tf.Tensor: shape=(), dtype=float32, numpy=6.5>"
      ]
     },
     "execution_count": 80,
     "metadata": {},
     "output_type": "execute_result"
    }
   ],
   "source": [
    "tf.math.reduce_variance(tf.cast(tensor1,dtype=tf.float32))"
   ]
  },
  {
   "cell_type": "markdown",
   "id": "a77a22ea-5fb8-4789-a12a-18b4a4b447bb",
   "metadata": {},
   "source": [
    "# FINDING THE POSITIONAL MAXIMUM AND MINIMUM\n",
    "1) positional maximum\n",
    "2) positional manimum\n",
    "3) Index of positional maximum\n",
    "4) Index of positional Minimum"
   ]
  },
  {
   "cell_type": "code",
   "execution_count": 82,
   "id": "3fd7b3f2-e5c7-47f9-b81c-b3a51b440322",
   "metadata": {},
   "outputs": [
    {
     "data": {
      "text/plain": [
       "<tf.Tensor: shape=(11,), dtype=int32, numpy=array([ 1, 65, 54, 92,  2,  6, 89,  5, 24, 25, 32])>"
      ]
     },
     "execution_count": 82,
     "metadata": {},
     "output_type": "execute_result"
    }
   ],
   "source": [
    "tensor1=tf.constant([1,65,54,92,2,6,89,5,24,25,32])\n",
    "tensor1"
   ]
  },
  {
   "cell_type": "code",
   "execution_count": 84,
   "id": "0dbdb049-737c-4127-9d1a-24bd6d217b24",
   "metadata": {},
   "outputs": [
    {
     "data": {
      "text/plain": [
       "<tf.Tensor: shape=(), dtype=int64, numpy=3>"
      ]
     },
     "execution_count": 84,
     "metadata": {},
     "output_type": "execute_result"
    }
   ],
   "source": [
    "# positional maximum\n",
    "tf.argmax(tensor1)"
   ]
  },
  {
   "cell_type": "code",
   "execution_count": 85,
   "id": "c7041ffa-79cb-4b62-93c3-9bb40ee40ead",
   "metadata": {},
   "outputs": [
    {
     "data": {
      "text/plain": [
       "<tf.Tensor: shape=(), dtype=int32, numpy=92>"
      ]
     },
     "execution_count": 85,
     "metadata": {},
     "output_type": "execute_result"
    }
   ],
   "source": [
    "# finding index on our maximum value position\n",
    "tensor1[tf.argmax(tensor1)]"
   ]
  },
  {
   "cell_type": "code",
   "execution_count": 86,
   "id": "5e3047aa-4834-43b1-8bae-aaa02d027435",
   "metadata": {},
   "outputs": [
    {
     "data": {
      "text/plain": [
       "<tf.Tensor: shape=(), dtype=int64, numpy=0>"
      ]
     },
     "execution_count": 86,
     "metadata": {},
     "output_type": "execute_result"
    }
   ],
   "source": [
    "# positional minimum\n",
    "tf.argmin(tensor1)"
   ]
  },
  {
   "cell_type": "code",
   "execution_count": 87,
   "id": "183f01ba-b144-4d1d-b4fe-99c16b6fdbc2",
   "metadata": {},
   "outputs": [
    {
     "data": {
      "text/plain": [
       "<tf.Tensor: shape=(), dtype=int32, numpy=1>"
      ]
     },
     "execution_count": 87,
     "metadata": {},
     "output_type": "execute_result"
    }
   ],
   "source": [
    "# finding index on our minimum value position\n",
    "tensor1[tf.argmin(tensor1)]"
   ]
  },
  {
   "cell_type": "markdown",
   "id": "d8b9df17-9e80-4e12-b988-1702a74900fb",
   "metadata": {},
   "source": [
    "# ONE HOT ENCODING"
   ]
  },
  {
   "cell_type": "code",
   "execution_count": 96,
   "id": "2fe9602e-3ba5-4615-a557-a6c535085f89",
   "metadata": {},
   "outputs": [
    {
     "data": {
      "text/plain": [
       "<tf.Tensor: shape=(4, 4), dtype=float32, numpy=\n",
       "array([[1., 0., 0., 0.],\n",
       "       [0., 1., 0., 0.],\n",
       "       [0., 0., 1., 0.],\n",
       "       [0., 0., 0., 1.]], dtype=float32)>"
      ]
     },
     "execution_count": 96,
     "metadata": {},
     "output_type": "execute_result"
    }
   ],
   "source": [
    "colors=[0,1,2,3] # here we providing index for which we done encoding\n",
    "#colors could be red,blue,green,black\n",
    "tf.one_hot(colors,depth=4)"
   ]
  },
  {
   "cell_type": "code",
   "execution_count": 98,
   "id": "fa7fbf12-05ba-41e4-a908-09f90d24712d",
   "metadata": {},
   "outputs": [
    {
     "data": {
      "text/plain": [
       "<tf.Tensor: shape=(4, 4), dtype=string, numpy=\n",
       "array([[b'kartik', b'dhasmana', b'dhasmana', b'dhasmana'],\n",
       "       [b'dhasmana', b'kartik', b'dhasmana', b'dhasmana'],\n",
       "       [b'dhasmana', b'dhasmana', b'kartik', b'dhasmana'],\n",
       "       [b'dhasmana', b'dhasmana', b'dhasmana', b'kartik']], dtype=object)>"
      ]
     },
     "execution_count": 98,
     "metadata": {},
     "output_type": "execute_result"
    }
   ],
   "source": [
    "tf.one_hot(colors,depth=4,on_value=\"kartik\",off_value=\"dhasmana\") \n",
    "# on_values--diagonal value of a tensor \n",
    "# off_values--rest remaining values of a tesnor"
   ]
  },
  {
   "cell_type": "code",
   "execution_count": null,
   "id": "38e80ef2-d7cf-4bd1-bda5-7ca3290246fb",
   "metadata": {},
   "outputs": [],
   "source": []
  }
 ],
 "metadata": {
  "kernelspec": {
   "display_name": "Python 3 (ipykernel)",
   "language": "python",
   "name": "python3"
  },
  "language_info": {
   "codemirror_mode": {
    "name": "ipython",
    "version": 3
   },
   "file_extension": ".py",
   "mimetype": "text/x-python",
   "name": "python",
   "nbconvert_exporter": "python",
   "pygments_lexer": "ipython3",
   "version": "3.12.0"
  },
  "widgets": {
   "application/vnd.jupyter.widget-state+json": {
    "state": {},
    "version_major": 2,
    "version_minor": 0
   }
  }
 },
 "nbformat": 4,
 "nbformat_minor": 5
}
